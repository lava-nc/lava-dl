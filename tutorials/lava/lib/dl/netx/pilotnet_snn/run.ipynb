{
 "cells": [
  {
   "cell_type": "markdown",
   "metadata": {},
   "source": [
    "# PilotNet SNN Example\n",
    "\n",
    "Network excange module is available as `lava.lib.dl.netx.{hdf5, blocks, utils}`.\n",
    "* `hdf5` implements automatic network generation.\n",
    "* `blocks` implements individual layer blocks.\n",
    "* `utils` implements hdf5 reading utilities. "
   ]
  },
  {
   "cell_type": "code",
   "execution_count": 1,
   "metadata": {},
   "outputs": [],
   "source": [
    "import numpy as np\n",
    "import matplotlib.pyplot as plt\n",
    "from PIL import Image\n",
    "\n",
    "from lava.magma.core.run_configs import Loihi1SimCfg\n",
    "from lava.magma.core.run_conditions import RunSteps\n",
    "from lava.proc import io\n",
    "from lava.magma.core.process.variable import Var\n",
    "from lava.magma.core.process.ports.ports import RefPort\n",
    "\n",
    "from lava.lib.dl import netx\n",
    "from dataset import PilotNetDataset"
   ]
  },
  {
   "cell_type": "markdown",
   "metadata": {},
   "source": [
    "## Create network block\n",
    "\n",
    "A network block can be created by simply instantiating `netx.hdf5.Network` with the path of the desired hdf5 network description file.\n",
    "* The input layer is accessible as `net.in_layer`.\n",
    "* The output layer is accessible as `net.out_layer`.\n",
    "* All the constituent layers are accessible as as a list: `net.layers`."
   ]
  },
  {
   "cell_type": "code",
   "execution_count": 2,
   "metadata": {},
   "outputs": [
    {
     "name": "stdout",
     "output_type": "stream",
     "text": [
      "|   Type   |  W  |  H  |  C  | ker | str | pad | dil | grp |delay|\n",
      "|Input     |  200|   66|    3|     |     |     |     |     |False|\n",
      "|Conv      |   99|   32|   24| 3, 3| 2, 2| 0, 0| 1, 1|    1|False|\n",
      "|Conv      |   49|   15|   36| 3, 3| 2, 2| 0, 0| 1, 1|    1|False|\n",
      "|Conv      |   24|    7|   48| 3, 3| 2, 2| 0, 0| 1, 1|    1|False|\n",
      "|Conv      |   22|    4|   64| 3, 3| 1, 2| 0, 1| 1, 1|    1|False|\n",
      "|Conv      |   20|    2|   64| 3, 3| 1, 1| 0, 0| 1, 1|    1|False|\n",
      "|Dense     |    1|    1|  100|     |     |     |     |     |False|\n",
      "|Dense     |    1|    1|   50|     |     |     |     |     |False|\n",
      "|Dense     |    1|    1|   10|     |     |     |     |     |False|\n",
      "|Dense     |    1|    1|    1|     |     |     |     |     |False|\n"
     ]
    }
   ],
   "source": [
    "net = netx.hdf5.Network(net_config='network.net')\n",
    "print(net)"
   ]
  },
  {
   "cell_type": "code",
   "execution_count": 3,
   "metadata": {},
   "outputs": [
    {
     "name": "stdout",
     "output_type": "stream",
     "text": [
      "There are 10 layers in network:\n",
      "Input : Process_1 , shape : (200, 66, 3)\n",
      "Conv  : Process_3 , shape : (99, 32, 24)\n",
      "Conv  : Process_6 , shape : (49, 15, 36)\n",
      "Conv  : Process_9 , shape : (24, 7, 48)\n",
      "Conv  : Process_12, shape : (22, 4, 64)\n",
      "Conv  : Process_15, shape : (20, 2, 64)\n",
      "Dense : Process_18, shape : (100,)\n",
      "Dense : Process_21, shape : (50,)\n",
      "Dense : Process_24, shape : (10,)\n",
      "Dense : Process_27, shape : (1,)\n"
     ]
    }
   ],
   "source": [
    "print(f'There are {len(net)} layers in network:')\n",
    "\n",
    "for l in net.layers:\n",
    "    print(f'{l.__class__.__name__:5s} : {l.name:10s}, shape : {l.shape}')"
   ]
  },
  {
   "cell_type": "code",
   "execution_count": 4,
   "metadata": {},
   "outputs": [],
   "source": [
    "num_samples = 20  # 201\n",
    "steps_per_sample = 16\n",
    "buffer = 1\n",
    "readout_offset = (steps_per_sample-1) + len(net.layers)"
   ]
  },
  {
   "cell_type": "markdown",
   "metadata": {},
   "source": [
    "## Create Dataset instance\n",
    "Typically the user would write it or provide it."
   ]
  },
  {
   "cell_type": "code",
   "execution_count": 5,
   "metadata": {},
   "outputs": [],
   "source": [
    "full_set = PilotNetDataset(\n",
    "    path='../data', \n",
    "    transform=net.in_layer.transform, # input transform\n",
    "    visualize=True, # visualize ensures the images are returned in sequence\n",
    "    sample_offset=10550,\n",
    ")\n",
    "train_set = PilotNetDataset(\n",
    "    path='../data', \n",
    "    transform=net.in_layer.transform, # input transform\n",
    "    train=True,\n",
    ")\n",
    "test_set = PilotNetDataset(\n",
    "    path='../data', \n",
    "    transform=net.in_layer.transform, # input transform\n",
    "    train=False,\n",
    ")"
   ]
  },
  {
   "cell_type": "markdown",
   "metadata": {},
   "source": [
    "# Instantiate Dataloader"
   ]
  },
  {
   "cell_type": "code",
   "execution_count": 6,
   "metadata": {},
   "outputs": [],
   "source": [
    "dataloader = io.dataloader.StateDataloader(\n",
    "    dataset=full_set,\n",
    "    interval=steps_per_sample + buffer,\n",
    ")"
   ]
  },
  {
   "cell_type": "markdown",
   "metadata": {},
   "source": [
    "# Connect Input and Output"
   ]
  },
  {
   "cell_type": "code",
   "execution_count": 7,
   "metadata": {},
   "outputs": [],
   "source": [
    "gt_logger = io.sink.RingBuffer(shape=(1,), buffer=num_samples)\n",
    "output_logger = io.sink.Read(\n",
    "    num_samples,\n",
    "    interval=steps_per_sample + buffer,\n",
    "    offset=readout_offset\n",
    ")\n",
    "# reset\n",
    "for i, l in enumerate(net.layers):\n",
    "    u_resetter = io.reset.Reset(interval=steps_per_sample + buffer, offset=i + 1)\n",
    "    v_resetter = io.reset.Reset(interval=steps_per_sample + buffer, offset=i + 1)\n",
    "    u_resetter.connect_var(l.neuron.u)\n",
    "    v_resetter.connect_var(l.neuron.v)\n",
    "    # if i < len(net) - 1:\n",
    "    #     v_resetter.connect_var(l.neuron.v)\n",
    "\n",
    "dataloader.ground_truth.connect(gt_logger.a_in)\n",
    "dataloader.connect_var(net.in_layer.neuron.bias)\n",
    "# output_logger.connect_var(net.out_layer.neuron.v)\n",
    "# # NOTE: this should be included in io processes\n",
    "# ref_port = RefPort(net.out_layer.neuron.v.shape)\n",
    "# output_logger.state = ref_port  # output_logger and resetter of last layer act on same var\n",
    "# v_resetter.state = ref_port\n",
    "# ref_port.connect_var(net.out_layer.neuron.v)\n",
    "# buffer_shape = net.out_layer.neuron.v.shape + (output_logger.buffer,)\n",
    "# output_logger.data = Var(shape=buffer_shape, init=np.zeros(buffer_shape))\n",
    "# output_logger._post_init()\n",
    "# v_resetter._post_init()"
   ]
  },
  {
   "cell_type": "code",
   "execution_count": 8,
   "metadata": {},
   "outputs": [
    {
     "data": {
      "text/plain": [
       "<lava.magma.core.process.ports.ports.RefPort at 0x7f077ca9d370>"
      ]
     },
     "execution_count": 8,
     "metadata": {},
     "output_type": "execute_result"
    }
   ],
   "source": [
    "output_logger.state"
   ]
  },
  {
   "cell_type": "code",
   "execution_count": 9,
   "metadata": {},
   "outputs": [
    {
     "data": {
      "text/plain": [
       "<lava.magma.core.process.ports.ports.RefPort at 0x7f077caaf6a0>"
      ]
     },
     "execution_count": 9,
     "metadata": {},
     "output_type": "execute_result"
    }
   ],
   "source": [
    "v_resetter.state"
   ]
  },
  {
   "cell_type": "markdown",
   "metadata": {},
   "source": [
    "## Run the network"
   ]
  },
  {
   "cell_type": "code",
   "execution_count": 10,
   "metadata": {},
   "outputs": [],
   "source": [
    "run_config = Loihi1SimCfg(select_tag='fixed_pt')"
   ]
  },
  {
   "cell_type": "code",
   "execution_count": 11,
   "metadata": {},
   "outputs": [
    {
     "name": "stdout",
     "output_type": "stream",
     "text": [
      "Sample: 20"
     ]
    }
   ],
   "source": [
    "id = 0\n",
    "gts = []\n",
    "results = []\n",
    "for i in range(num_samples * (steps_per_sample + buffer)):\n",
    "     # reset the network\n",
    "     if i % (steps_per_sample + buffer) < len(net):\n",
    "          # print(f'Resetting layer {i%(steps_per_sample + buffer)} at {i=}.')\n",
    "          # if i > 0:\n",
    "          #      l = i % (steps_per_sample + buffer)\n",
    "          #      net.layers[l].neuron.u.set(np.zeros(net.layers[l].neuron.shape))\n",
    "          #      net.layers[l].neuron.v.set(np.zeros(net.layers[l].neuron.shape))\n",
    "          #      # assert np.abs(net.layers[l].neuron.u.get()).sum() == 0\n",
    "          #      # assert np.abs(net.layers[l].neuron.v.get()).sum() == 0\n",
    "          if i % (steps_per_sample + buffer) == 0:\n",
    "               # image, gt = full_set[id]\n",
    "               # if i > 0:\n",
    "               #      net.in_layer.neuron.bias.set(image)\n",
    "               #      # assert np.abs(net.in_layer.neuron.bias.get() - image).sum() == 0\n",
    "               # else:\n",
    "               #      net.in_layer.neuron.bias.init = image\n",
    "               # gts.append(gt)\n",
    "               id = id + 1\n",
    "\n",
    "     # run the network\n",
    "     net.run(condition=RunSteps(num_steps=1), run_cfg=run_config)\n",
    "\n",
    "     # gather result\n",
    "     if i % (steps_per_sample + buffer) == readout_offset % (steps_per_sample + buffer):\n",
    "          results.append(net.out_layer.neuron.v.get())\n",
    "          print(f'\\rSample: {id}', end='')\n",
    "# results = output_logger.data.get().flatten()\n",
    "# bias = net.in_layer.neuron.bias.get()\n",
    "net.stop()\n"
   ]
  },
  {
   "cell_type": "code",
   "execution_count": 12,
   "metadata": {},
   "outputs": [],
   "source": [
    "# # Dataloader\n",
    "# interval = steps_per_sample + buffer\n",
    "\n",
    "# # bias loader\n",
    "# dataloader = io.dataloader.StateDataLoader(\n",
    "#     dataset=full_set, interval=interval,\n",
    "#     startId=10550 # TODO: something to tell the datloader to start from 10550\n",
    "# )\n",
    "# dataloader.connect_var(net.in_layer.neuron.bias)\n",
    "\n",
    "# # spike loader\n",
    "# dataloader = io.dataloader.SpikeDataLoader(\n",
    "#     dataset=full_set, interval=interval,\n",
    "#     startId=10550 # TODO: something to tell the datloader to start from 10550\n",
    "# )\n",
    "# dataloader.s_out.connect(net.in_layer.inp)\n",
    "\n",
    "# # voltage output\n",
    "# output = io.sink.Read(buffer=num_samples, interval=interval, offset=readout_offset)\n",
    "# output.connect_var(net.out_layer.neuron.v)\n",
    "\n",
    "# # spike output\n",
    "# output = io.sink.RingBuffer(shape=net.out_layer.neuron.shape, buffer=num_samples)\n",
    "# net.out_layer.neuron.v.connect(output.a_in)\n",
    "\n",
    "# # reset\n",
    "# for i, l in enumerate(net.layers):\n",
    "#     # Execution hangs when both u and v are reset\n",
    "#     u_resetter = io.reset.Reset(interval=interval, offset=i)\n",
    "#     v_resetter = io.reset.Reset(interval=interval, offset=i)\n",
    "#     u_resetter.connect_var(l.neuron.u)\n",
    "#     v_resetter.connect_var(l.neuron.v)\n",
    "\n",
    "# net.run(condition=RunSteps(num_samples * interval), run_cfg=run_config)\n",
    "# out = output.data.get()  # [1, 1, 1, 200]\n",
    "# net.stop()\n",
    "\n",
    "# # visualization process"
   ]
  },
  {
   "cell_type": "markdown",
   "metadata": {},
   "source": [
    "## Evaluate Results"
   ]
  },
  {
   "cell_type": "code",
   "execution_count": 13,
   "metadata": {},
   "outputs": [],
   "source": [
    "results = np.array(results).flatten()/steps_per_sample/32/64\n",
    "# results = output.flatten()/steps_per_sample/32/64\n",
    "gt = np.load('3x3pred.npy')"
   ]
  },
  {
   "cell_type": "code",
   "execution_count": 14,
   "metadata": {},
   "outputs": [
    {
     "data": {
      "text/plain": [
       "(20,)"
      ]
     },
     "execution_count": 14,
     "metadata": {},
     "output_type": "execute_result"
    }
   ],
   "source": [
    "results.shape"
   ]
  },
  {
   "cell_type": "code",
   "execution_count": 15,
   "metadata": {},
   "outputs": [
    {
     "data": {
      "text/plain": [
       "<matplotlib.legend.Legend at 0x7f07dc8f9850>"
      ]
     },
     "execution_count": 15,
     "metadata": {},
     "output_type": "execute_result"
    },
    {
     "data": {
      "image/png": "[encoded data removed]",
      "text/plain": [
       "<Figure size 1080x720 with 1 Axes>"
      ]
     },
     "metadata": {
      "needs_background": "light"
     },
     "output_type": "display_data"
    }
   ],
   "source": [
    "plt.figure(figsize=(15, 10))\n",
    "plt.plot(gt, linewidth=5, label='Loihi ground Truth')\n",
    "plt.plot(results[1:], label='Lava output')\n",
    "plt.xlabel(f'Sample frames (+{id-num_samples})')\n",
    "plt.ylabel('Steering angle (radians)')\n",
    "plt.legend()"
   ]
  },
  {
   "cell_type": "code",
   "execution_count": 16,
   "metadata": {},
   "outputs": [
    {
     "name": "stdout",
     "output_type": "stream",
     "text": [
      "error=0.0\n"
     ]
    }
   ],
   "source": [
    "# error = np.sum((gt - results[1:])**2)\n",
    "error = np.sum((gt[:len(results)-1] - results[1:])**2)\n",
    "print(f'{error=}')"
   ]
  }
 ],
 "metadata": {
  "interpreter": {
   "hash": "e3d04c4047767f2d94dce1d0199c02d3269f0b6f7b899ff42edac3904dd604dc"
  },
  "kernelspec": {
   "display_name": "Python 3.8.10 64-bit ('lava_release_env': venv)",
   "language": "python",
   "name": "python3"
  },
  "language_info": {
   "codemirror_mode": {
    "name": "ipython",
    "version": 3
   },
   "file_extension": ".py",
   "mimetype": "text/x-python",
   "name": "python",
   "nbconvert_exporter": "python",
   "pygments_lexer": "ipython3",
   "version": "3.8.10"
  },
  "orig_nbformat": 4
 },
 "nbformat": 4,
 "nbformat_minor": 2
}
