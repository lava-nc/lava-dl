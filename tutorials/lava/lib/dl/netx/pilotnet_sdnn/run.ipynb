{
 "cells": [
  {
   "cell_type": "markdown",
   "metadata": {},
   "source": [
    "# PilotNet SDNN Example\n",
    "\n",
    "Network excange module is available as `lava.lib.dl.netx.{hdf5, blocks, utils}`.\n",
    "* `hdf5` implements automatic network generation.\n",
    "* `blocks` implements individual layer blocks.\n",
    "* `utils` implements hdf5 reading utilities. "
   ]
  },
  {
   "cell_type": "code",
   "execution_count": 1,
   "metadata": {},
   "outputs": [],
   "source": [
    "import numpy as np\n",
    "import matplotlib.pyplot as plt\n",
    "from PIL import Image\n",
    "\n",
    "from lava.magma.core.run_configs import Loihi1SimCfg\n",
    "from lava.magma.core.run_conditions import RunSteps\n",
    "from lava.proc import io\n",
    "\n",
    "from lava.lib.dl import netx\n",
    "from dataset import PilotNetDataset"
   ]
  },
  {
   "cell_type": "markdown",
   "metadata": {},
   "source": [
    "## Create network block\n",
    "\n",
    "A network block can be created by simply instantiating `netx.hdf5.Network` with the path of the desired hdf5 network description file.\n",
    "* The input layer is accessible as `net.in_layer`.\n",
    "* The output layer is accessible as `net.out_layer`.\n",
    "* All the constituent layers are accessible as as a list: `net.layers`."
   ]
  },
  {
   "cell_type": "code",
   "execution_count": null,
   "metadata": {},
   "outputs": [],
   "source": [
    "# TODO: refactor sdn to sigma and delta unit\n",
    "# TODO: use delta encoding at input\n",
    "# TODO: use sigma decoding at output\n",
    "# TODO: accumulate quantization error in residue\n",
    "# TODO: enforce delta output quantization on SLAYER side\n",
    "# TODO: verify sigma-delta with SLAYER calculation"
   ]
  },
  {
   "cell_type": "code",
   "execution_count": 2,
   "metadata": {},
   "outputs": [
    {
     "name": "stdout",
     "output_type": "stream",
     "text": [
      "{'shape': (100, 33, 3), 'neuron_params': {'neuron_proc': <class 'lava.proc.sdn.process.SigmaDelta'>, 'vth': 0, 'use_graded_spikes': True}, 'transform': <function Network.create_input.<locals>.transform at 0x7f865cf03790>}\n",
      "{'use_graded_spike': True}\n",
      "{'use_graded_spike': True}\n",
      "{'use_graded_spike': True}\n",
      "{'use_graded_spike': True}\n",
      "{'use_graded_spike': True}\n",
      "{'use_graded_spike': True}\n",
      "{'use_graded_spike': True}\n",
      "{'use_graded_spike': True}\n",
      "|   Type   |  W  |  H  |  C  | ker | str | pad | dil | grp |delay|\n",
      "|Input     |  100|   33|    3|     |     |     |     |     |False|\n",
      "|Conv      |   49|   16|   24| 3, 3| 2, 2| 0, 0| 1, 1|    1|False|\n",
      "|Conv      |   24|    7|   36| 3, 3| 2, 2| 0, 0| 1, 1|    1|False|\n",
      "|Conv      |   22|    4|   64| 3, 3| 1, 2| 0, 1| 1, 1|    1|False|\n",
      "|Conv      |   20|    2|   64| 3, 3| 1, 1| 0, 0| 1, 1|    1|False|\n",
      "|Conv      |    1|    1|  100|20, 2| 1, 1| 0, 0| 1, 1|    1|False|\n",
      "|Conv      |    1|    1|   50| 1, 1| 1, 1| 0, 0| 1, 1|    1|False|\n",
      "|Conv      |    1|    1|   10| 1, 1| 1, 1| 0, 0| 1, 1|    1|False|\n",
      "|Conv      |    1|    1|    1| 1, 1| 1, 1| 0, 0| 1, 1|    1|False|\n"
     ]
    }
   ],
   "source": [
    "# net = netx.hdf5.Network(net_config='network.net')\n",
    "net = netx.hdf5.Network(net_config='conv_only_1chip.net')\n",
    "print(net)"
   ]
  },
  {
   "cell_type": "code",
   "execution_count": 3,
   "metadata": {},
   "outputs": [
    {
     "name": "stdout",
     "output_type": "stream",
     "text": [
      "False\n",
      "True\n",
      "True\n",
      "True\n",
      "True\n",
      "True\n",
      "True\n",
      "True\n",
      "True\n"
     ]
    }
   ],
   "source": [
    "for l in net.layers:\n",
    "    print(l.has_graded_input)"
   ]
  },
  {
   "cell_type": "code",
   "execution_count": 4,
   "metadata": {},
   "outputs": [
    {
     "name": "stdout",
     "output_type": "stream",
     "text": [
      "There are 9 layers in network:\n",
      "Input : Process_1 , shape : (100, 33, 3), act : ACTIVATION_MODE.Unit\n",
      "Conv  : Process_3 , shape : (49, 16, 24), act : ACTIVATION_MODE.ReLU\n",
      "Conv  : Process_6 , shape : (24, 7, 36), act : ACTIVATION_MODE.ReLU\n",
      "Conv  : Process_9 , shape : (22, 4, 64), act : ACTIVATION_MODE.ReLU\n",
      "Conv  : Process_12, shape : (20, 2, 64), act : ACTIVATION_MODE.ReLU\n",
      "Conv  : Process_15, shape : (1, 1, 100), act : ACTIVATION_MODE.ReLU\n",
      "Conv  : Process_18, shape : (1, 1, 50), act : ACTIVATION_MODE.ReLU\n",
      "Conv  : Process_21, shape : (1, 1, 10), act : ACTIVATION_MODE.ReLU\n",
      "Conv  : Process_24, shape : (1, 1, 1), act : ACTIVATION_MODE.ReLU\n"
     ]
    }
   ],
   "source": [
    "print(f'There are {len(net)} layers in network:')\n",
    "\n",
    "for l in net.layers:\n",
    "    print(f'{l.__class__.__name__:5s} : {l.name:10s}, shape : {l.shape}, act :', l.neuron.proc_params[\"act_fn\"])"
   ]
  },
  {
   "cell_type": "markdown",
   "metadata": {},
   "source": [
    "## Create Dataset instance\n",
    "Typically the user would write it or provide it."
   ]
  },
  {
   "cell_type": "code",
   "execution_count": 5,
   "metadata": {},
   "outputs": [],
   "source": [
    "full_set = PilotNetDataset(\n",
    "    path='../data',\n",
    "    size=[100, 33],\n",
    "    transform=net.in_layer.transform, # input transform\n",
    "    visualize=True, # visualize ensures the images are returned in sequence\n",
    ")\n",
    "train_set = PilotNetDataset(\n",
    "    path='../data',\n",
    "    size=[100, 33],\n",
    "    transform=net.in_layer.transform, # input transform\n",
    "    train=True,\n",
    ")\n",
    "test_set = PilotNetDataset(\n",
    "    path='../data',\n",
    "    size=[100, 33],\n",
    "    transform=net.in_layer.transform, # input transform\n",
    "    train=False,\n",
    ")"
   ]
  },
  {
   "cell_type": "markdown",
   "metadata": {},
   "source": [
    "## Run the network"
   ]
  },
  {
   "cell_type": "code",
   "execution_count": 6,
   "metadata": {},
   "outputs": [],
   "source": [
    "num_samples = 200\n",
    "steps_per_sample = 1\n",
    "num_steps = num_samples + len(net.layers)"
   ]
  },
  {
   "cell_type": "code",
   "execution_count": 7,
   "metadata": {},
   "outputs": [],
   "source": [
    "run_config = Loihi1SimCfg(select_tag='fixed_pt')"
   ]
  },
  {
   "cell_type": "code",
   "execution_count": 8,
   "metadata": {},
   "outputs": [],
   "source": [
    "# logger = io.sink.RingBuffer(shape=net.out_layer.shape, buffer=num_steps)\n",
    "# net.out_layer.neuron.s_out.connect(logger.a_in)"
   ]
  },
  {
   "cell_type": "code",
   "execution_count": 9,
   "metadata": {},
   "outputs": [
    {
     "name": "stdout",
     "output_type": "stream",
     "text": [
      "Sample: 10758"
     ]
    }
   ],
   "source": [
    "id = 10550\n",
    "gts = []\n",
    "results = []\n",
    "# output = []\n",
    "for i in range(num_steps):\n",
    "     image, gt = full_set[id + i]\n",
    "     if i > 0:\n",
    "          net.in_layer.neuron.bias.set(image)\n",
    "          # assert np.abs(net.in_layer.neuron.bias.get() - image).sum() == 0\n",
    "     else:\n",
    "          net.in_layer.neuron.bias.init = image\n",
    "     gts.append(gt)\n",
    "\n",
    "     # run the network\n",
    "     net.run(condition=RunSteps(num_steps=1), run_cfg=run_config)\n",
    "\n",
    "     # gather result\n",
    "     results.append(net.out_layer.neuron.sigma.get())\n",
    "     print(f'\\rSample: {id + i}', end='')\n",
    "\n",
    "# output = logger.data.get()\n",
    "net.stop()\n"
   ]
  },
  {
   "cell_type": "code",
   "execution_count": 10,
   "metadata": {},
   "outputs": [],
   "source": [
    "# output.shape"
   ]
  },
  {
   "cell_type": "code",
   "execution_count": 11,
   "metadata": {},
   "outputs": [],
   "source": [
    "# folder = '/home/sshresth/lava_repos/lava-netx/examples/pilotnet_sdnn/'\n",
    "# out_gt = np.load(folder + f'layer{len(net) - 1}.npy')"
   ]
  },
  {
   "cell_type": "code",
   "execution_count": 12,
   "metadata": {},
   "outputs": [],
   "source": [
    "# diff = output - out_gt"
   ]
  },
  {
   "cell_type": "code",
   "execution_count": 13,
   "metadata": {},
   "outputs": [],
   "source": [
    "# np.argwhere(diff != 0)[:10]"
   ]
  },
  {
   "cell_type": "code",
   "execution_count": 14,
   "metadata": {},
   "outputs": [],
   "source": [
    "# assert False"
   ]
  },
  {
   "cell_type": "code",
   "execution_count": 15,
   "metadata": {},
   "outputs": [],
   "source": [
    "# folder = '/home/sshresth/lava_repos/lava-netx/examples/pilotnet_sdnn/'\n",
    "# image, gt = full_set[10550]\n",
    "# print(np.abs(image - np.load(folder + 'image.npy')).sum())"
   ]
  },
  {
   "cell_type": "code",
   "execution_count": 16,
   "metadata": {},
   "outputs": [],
   "source": [
    "# # Dataloader\n",
    "# interval = steps_per_sample + buffer\n",
    "\n",
    "# # bias loader\n",
    "# dataloader = io.dataloader.StateDataLoader(\n",
    "#     dataset=full_set, interval=interval,\n",
    "#     startId=10550 # TODO: something to tell the datloader to start from 10550\n",
    "# )\n",
    "# dataloader.connect_var(net.in_layer.neuron.bias)\n",
    "\n",
    "# # spike loader\n",
    "# dataloader = io.dataloader.SpikeDataLoader(\n",
    "#     dataset=full_set, interval=interval,\n",
    "#     startId=10550 # TODO: something to tell the datloader to start from 10550\n",
    "# )\n",
    "# dataloader.s_out.connect(net.in_layer.inp)\n",
    "\n",
    "# # voltage output\n",
    "# output = io.sink.Read(buffer=num_samples, interval=interval, offset=readout_offset)\n",
    "# output.connect_var(net.out_layer.neuron.v)\n",
    "\n",
    "# # spike output\n",
    "# output = io.sink.RingBuffer(shape=net.out_layer.neuron.shape, buffer=num_samples)\n",
    "# net.out_layer.neuron.v.connect(output.a_in)\n",
    "\n",
    "# # reset\n",
    "# for i, l in enumerate(net.layers):\n",
    "#     # Execution hangs when both u and v are reset\n",
    "#     u_resetter = io.reset.Reset(interval=interval, offset=i)\n",
    "#     v_resetter = io.reset.Reset(interval=interval, offset=i)\n",
    "#     u_resetter.connect_var(l.neuron.u)\n",
    "#     v_resetter.connect_var(l.neuron.v)\n",
    "\n",
    "# net.run(condition=RunSteps(num_samples * interval), run_cfg=run_config)\n",
    "# out = output.data.get()  # [1, 1, 1, 200]\n",
    "# net.stop()\n",
    "\n",
    "# # visualization process"
   ]
  },
  {
   "cell_type": "code",
   "execution_count": 24,
   "metadata": {},
   "outputs": [
    {
     "data": {
      "text/plain": [
       "<KeysViewHDF5 ['activation', 'sigma_output', 'type', 'vThMant']>"
      ]
     },
     "execution_count": 24,
     "metadata": {},
     "output_type": "execute_result"
    }
   ],
   "source": [
    "net.net_config['layer'][8]['neuron'].keys()"
   ]
  },
  {
   "cell_type": "markdown",
   "metadata": {},
   "source": [
    "## Evaluate Results"
   ]
  },
  {
   "cell_type": "code",
   "execution_count": 17,
   "metadata": {},
   "outputs": [],
   "source": [
    "#TODO: remove outlier from gt in the dataset\n",
    "gts[109] = (gts[108] + gts[110])/2\n",
    "gts[115] = (gts[114] + gts[116])/2"
   ]
  },
  {
   "cell_type": "code",
   "execution_count": 18,
   "metadata": {},
   "outputs": [
    {
     "data": {
      "text/plain": [
       "<matplotlib.legend.Legend at 0x7f8670d3d190>"
      ]
     },
     "execution_count": 18,
     "metadata": {},
     "output_type": "execute_result"
    },
    {
     "data": {
      "image/png": "[encoded data removed]",
      "text/plain": [
       "<Figure size 1080x720 with 1 Axes>"
      ]
     },
     "metadata": {
      "needs_background": "light"
     },
     "output_type": "display_data"
    }
   ],
   "source": [
    "plt.figure(figsize=(15, 10))\n",
    "plt.plot(np.array(gts), label='Ground Truth')\n",
    "plt.plot(np.array(results[len(net.layers)-1:]).flatten()/(1<<18), label='LAVA-TF output')\n",
    "plt.xlabel(f'Sample frames (+{id})')\n",
    "plt.ylabel('Steering angle (radians)')\n",
    "plt.legend()"
   ]
  },
  {
   "cell_type": "code",
   "execution_count": 19,
   "metadata": {},
   "outputs": [],
   "source": [
    "# error = np.sum((gt - results[1:])**2)\n",
    "# print(f'{error=}')"
   ]
  }
 ],
 "metadata": {
  "interpreter": {
   "hash": "e3d04c4047767f2d94dce1d0199c02d3269f0b6f7b899ff42edac3904dd604dc"
  },
  "kernelspec": {
   "display_name": "Python 3.8.10 64-bit ('lava_release_env': venv)",
   "language": "python",
   "name": "python3"
  },
  "language_info": {
   "codemirror_mode": {
    "name": "ipython",
    "version": 3
   },
   "file_extension": ".py",
   "mimetype": "text/x-python",
   "name": "python",
   "nbconvert_exporter": "python",
   "pygments_lexer": "ipython3",
   "version": "3.8.10"
  },
  "orig_nbformat": 4
 },
 "nbformat": 4,
 "nbformat_minor": 2
}
