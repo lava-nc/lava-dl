{
 "cells": [
  {
   "cell_type": "markdown",
   "id": "8e62b37e-35dc-45b2-a025-31cf9ee971c5",
   "metadata": {
    "pycharm": {
     "name": "#%% md\n"
    }
   },
   "source": [
    "# N-MNIST Classification\n",
    "\n",
    "In this tutorial, we propose to train a network using per-layer local losses, as describe in [Kaiser et al. '20].\n",
    "This tutorial is based on the SLAYER N-MNIST tutorial and we refer to it for data preprocessing.\n",
    "\n",
    "NMNIST dataset is freely available [here](https://www.garrickorchard.com/datasets/n-mnist) (© CC-4.0).\n",
    "\n",
    "> Orchard, G.; Cohen, G.; Jayawant, A.; and Thakor, N. _\"Converting Static Image Datasets to Spiking Neuromorphic Datasets Using Saccades\"_,\n",
    "Frontiers in Neuroscience, vol.9, no.437, Oct. 2015\n"
   ]
  },
  {
   "cell_type": "code",
   "execution_count": 1,
   "id": "afc7d708-0431-4b60-91f0-9b30edbedac0",
   "metadata": {
    "pycharm": {
     "name": "#%%\n"
    }
   },
   "outputs": [],
   "source": [
    "import os\n",
    "import numpy as np\n",
    "import matplotlib.pyplot as plt\n",
    "import torch\n",
    "from torch.utils.data import DataLoader\n",
    "\n",
    "import lava.lib.dl.decolle as decolle\n",
    "import lava.lib.dl.slayer as slayer"
   ]
  },
  {
   "cell_type": "markdown",
   "id": "670955ec-b45f-4ce5-a0aa-acce71a07370",
   "metadata": {
    "pycharm": {
     "name": "#%% md\n"
    }
   },
   "source": [
    "# Create Dataset\n",
    "\n",
    "The dataset class follows standard torch dataset definition. They are defined in `nmnist.py`. We will just import the dataset and augmentation routine here."
   ]
  },
  {
   "cell_type": "code",
   "execution_count": 2,
   "id": "36ceee15-929a-43e4-a63e-57772019c1c4",
   "metadata": {
    "pycharm": {
     "name": "#%%\n"
    }
   },
   "outputs": [],
   "source": [
    "from tutorials.lava.lib.dl.slayer.nmnist.nmnist import NMNISTDataset, augment"
   ]
  },
  {
   "cell_type": "markdown",
   "id": "a4ff3649-9c82-4fd4-bdbe-e4672f726dc7",
   "metadata": {
    "pycharm": {
     "name": "#%% md\n"
    }
   },
   "source": [
    "# Create Network\n",
    "\n",
    "The network definition is done in PyTorch using a `torch.nn.Module`.\n",
    "\n",
    "We consider here a network of Dense cuba blocks as shown below.\n",
    "In addition to spiking blocks, DECOLLE models use fixed, readout layers to obtain per-layer errors.\n",
    "The behavior of the cuba blocks is broken down during the forward pass to obtain the voltage, which is used in the custom `DECOLLELoss`.\n",
    "\n",
    "As DECOLLE is typically trained online (i.e., updating weights at every time-step), the state of the neurons is set to be persistent, and reset at the beginning of every batch of examples.\n",
    "Furthermore, the network goes through a burn-in period at every batch of examples to initialize its state before applying updates."
   ]
  },
  {
   "cell_type": "code",
   "execution_count": 3,
   "id": "4172d38f-7d39-475f-bac8-7985fb1baa53",
   "metadata": {
    "pycharm": {
     "name": "#%%\n"
    }
   },
   "outputs": [],
   "source": [
    "class DECOLLENetwork(torch.nn.Module):\n",
    "    def __init__(self, input_shape, hidden_shape, output_shape, burn_in=0):\n",
    "\n",
    "        super(DECOLLENetwork, self).__init__()\n",
    "\n",
    "        neuron_params = {\n",
    "            'threshold': 1.25,\n",
    "            'current_decay': 0.25,\n",
    "            'voltage_decay': 0.03,\n",
    "            'tau_grad': 0.03,\n",
    "            'scale_grad': 3.,\n",
    "            'requires_grad': True,\n",
    "            'persistent_state': True\n",
    "        }\n",
    "        neuron_params_drop = {**neuron_params}\n",
    "\n",
    "        self.burn_in = burn_in\n",
    "        self.blocks = torch.nn.ModuleList()\n",
    "        self.readout_layers = torch.nn.ModuleList()\n",
    "\n",
    "        hidden_shape = [input_shape] + hidden_shape\n",
    "        for i in range(len(hidden_shape)-1):\n",
    "            self.blocks.append(slayer.block.cuba.Dense(\n",
    "                neuron_params_drop, hidden_shape[i], hidden_shape[i+1],\n",
    "                weight_norm=False)\n",
    "            )\n",
    "\n",
    "            # One fixed readout per layer\n",
    "            readout = torch.nn.Linear(hidden_shape[i+1],\n",
    "                                      output_shape,\n",
    "                                      bias=False)\n",
    "            readout.weight.requires_grad = False\n",
    "            self.readout_layers.append(readout)\n",
    "\n",
    "\n",
    "    def forward(self, spike):\n",
    "        spike.requires_grad_()\n",
    "        spikes = []\n",
    "        readouts = []\n",
    "        voltages = []\n",
    "        count = []\n",
    "\n",
    "        for block in self.blocks:\n",
    "            # Decompose the behavior of the block to obtain the voltage\n",
    "            # for the regularization\n",
    "            z = block.synapse(spike.detach())\n",
    "            _, voltage = block.neuron.dynamics(z)\n",
    "            voltages.append(voltage)\n",
    "\n",
    "            spike = block.neuron.spike(voltage)\n",
    "            spikes.append(spike)\n",
    "            count.append(torch.mean(spike.detach()))\n",
    "\n",
    "        for ro, spike in zip(self.readout_layers, spikes):\n",
    "            # Compute readouts\n",
    "            readout = []\n",
    "            for t in range(spike.shape[-1]):\n",
    "                readout.append(ro(spike[..., t]))\n",
    "            readouts.append(torch.stack(readout, dim=-1))\n",
    "\n",
    "        return spikes, readouts, voltages, count\n",
    "\n",
    "    def init_state(self, inputs, burn_in=None):\n",
    "        self.reset_()\n",
    "        # initialize network state + crop inputs\n",
    "        if burn_in is None:\n",
    "            burn_in = self.burn_in\n",
    "\n",
    "        self.forward(inputs[..., :burn_in])\n",
    "        return inputs[..., burn_in:]\n",
    "\n",
    "    def reset_(self):\n",
    "        # reset the state after each example\n",
    "        for block in self.blocks:\n",
    "            block.neuron.current_state[:] = 0.\n",
    "            block.neuron.voltage_state[:] = 0."
   ]
  },
  {
   "cell_type": "markdown",
   "id": "7617ab25-f112-42c6-8bdd-28d0ded7ffb1",
   "metadata": {
    "pycharm": {
     "name": "#%% md\n"
    }
   },
   "source": [
    "# Instantiate Network, Optimizer, DataSet and DataLoader"
   ]
  },
  {
   "cell_type": "code",
   "execution_count": 4,
   "id": "a8ffcc61",
   "metadata": {
    "pycharm": {
     "name": "#%%\n"
    }
   },
   "outputs": [
    {
     "name": "stdout",
     "output_type": "stream",
     "text": [
      "\n",
      "NMNIST dataset is freely available here:\n",
      "https://www.garrickorchard.com/datasets/n-mnist\n",
      "\n",
      "(c) Creative Commons:\n",
      "    Orchard, G.; Cohen, G.; Jayawant, A.; and Thakor, N.\n",
      "    \"Converting Static Image Datasets to Spiking Neuromorphic Datasets Using\n",
      "    Saccades\",\n",
      "    Frontiers in Neuroscience, vol.9, no.437, Oct. 2015\n",
      "\n"
     ]
    }
   ],
   "source": [
    "trained_folder = 'Trained'\n",
    "os.makedirs(trained_folder, exist_ok=True)\n",
    "\n",
    "device = torch.device('cuda') if torch.cuda.is_available() else torch.device('cpu')\n",
    "\n",
    "net = DECOLLENetwork(input_shape=34 * 34 * 2,\n",
    "                     hidden_shape=[512, 256],\n",
    "                     output_shape=10,\n",
    "                     burn_in=10).to(device)\n",
    "\n",
    "optimizer = torch.optim.Adam(net.parameters(), lr=0.01)\n",
    "\n",
    "training_set = NMNISTDataset(train=True,\n",
    "                             transform=augment, download=True)\n",
    "testing_set  = NMNISTDataset(train=False,\n",
    "                             )\n",
    "\n",
    "train_loader = DataLoader(dataset=training_set, batch_size=32, shuffle=True)\n",
    "test_loader  = DataLoader(dataset=testing_set , batch_size=32, shuffle=True)"
   ]
  },
  {
   "cell_type": "markdown",
   "id": "d5a3fc61-6560-40fa-a222-5c051dc2ede7",
   "metadata": {
    "pycharm": {
     "name": "#%% md\n"
    }
   },
   "source": [
    "# Error module\n",
    "\n",
    "Training with decolle utilizes the custom loss `slayer.loss.DECOLLELoss`\n",
    "In DECOLLELoss, one must define an error function (typically, a Pytorch loss such as `torch.nn.CrossEntropyLoss`) used to compute per-layer pseudo-errors.\n",
    "The regularization allows to control per-layer spike rates."
   ]
  },
  {
   "cell_type": "code",
   "execution_count": 5,
   "id": "3c4b9b92-925a-4da8-b146-923dc4b6ad5f",
   "metadata": {
    "pycharm": {
     "name": "#%%\n"
    }
   },
   "outputs": [],
   "source": [
    "error = decolle.loss.DECOLLELoss(torch.nn.CrossEntropyLoss, reg=0.01, reduction='mean')"
   ]
  },
  {
   "cell_type": "markdown",
   "id": "6cb1c953-78e7-47b7-9ce5-ab747ec23eb6",
   "metadata": {
    "pycharm": {
     "name": "#%% md\n"
    }
   },
   "source": [
    "# Stats and Assistants\n",
    "\n",
    "Users can benefit from slayer's `slayer.utils.LearningStats` statistics logger for training, validation and testing, in addition with the custom `slayer.utils.DECOLLEAssistant` module which wraps common training validation and testing routines. We do not use this module in this notebook, to break down training with DECOLLE. Please refer to `nmist_decolle.py` for an example."
   ]
  },
  {
   "cell_type": "markdown",
   "id": "e42eb8a2",
   "metadata": {
    "pycharm": {
     "name": "#%% md\n"
    }
   },
   "source": [
    "# Training Loop\n",
    "\n",
    "Training can be done by updating the weights as every time step, as in the original work, or at the end of every batch of data as in slayer. We illustrate both below.\n",
    "When using the `DECOLLEAssistant`, all of the training and recording is done under the hood."
   ]
  },
  {
   "cell_type": "code",
   "execution_count": 6,
   "id": "dbcbc25a-41bb-49f0-bdb7-26be901626c9",
   "metadata": {
    "pycharm": {
     "name": "#%%\n"
    }
   },
   "outputs": [
    {
     "name": "stdout",
     "output_type": "stream",
     "text": [
      "              \n",
      "Test  loss = 912.369222 (min = 912.369222)    accuracy = 0.818100 (max = 0.818100)\n",
      "              \n",
      "Test  loss = 895.828446 (min = 895.828446)    accuracy = 0.876200 (max = 0.876200)\n",
      "              \n",
      "Test  loss = 894.431683 (min = 894.431683)    accuracy = 0.879700 (max = 0.879700)\n",
      "              \n",
      "Test  loss = 888.569051 (min = 888.569051)    accuracy = 0.885900 (max = 0.885900)\n",
      "              \n",
      "Test  loss = 891.014585 (min = 888.569051)    accuracy = 0.881000 (max = 0.885900)\n"
     ]
    }
   ],
   "source": [
    "epochs = 5\n",
    "training_mode = 'batch' # either 'online' or 'batch'\n",
    "\n",
    "test_losses = []\n",
    "test_accs_l1 = [] # test accs of the first layer\n",
    "test_accs_l2 = [] # test accs of the second layer\n",
    "\n",
    "for epoch in range(epochs):\n",
    "    train_iter = iter(train_loader)\n",
    "    net.train()\n",
    "    for inputs, target in train_iter: # training loop\n",
    "        inputs = inputs.reshape([inputs.shape[0],\n",
    "                                 -1,\n",
    "                                 inputs.shape[-1]]).to(device)\n",
    "        target = target.to(device)\n",
    "\n",
    "        # Reset net state + burn-in + resize the inputs accordingly\n",
    "        inputs = net.init_state(inputs)\n",
    "\n",
    "        # training phase\n",
    "        if training_mode == 'online':\n",
    "            for t in range(inputs.shape[-1]):\n",
    "                x = inputs[..., t].unsqueeze(-1)\n",
    "                spikes, readouts, voltages, count_t = net(x)\n",
    "                loss = error(readouts, voltages, target)\n",
    "                loss.backward()\n",
    "\n",
    "                optimizer.step()\n",
    "                optimizer.zero_grad()\n",
    "        else:\n",
    "            spikes, readouts, voltages, count = net(inputs)\n",
    "            loss = error(readouts, voltages, target)\n",
    "            loss.backward()\n",
    "\n",
    "            optimizer.step()\n",
    "            optimizer.zero_grad()\n",
    "\n",
    "\n",
    "    with torch.no_grad():\n",
    "        test_iter = iter(test_loader)\n",
    "        net.eval()\n",
    "        preds_test_l1 = torch.Tensor()\n",
    "        preds_test_l2 = torch.Tensor()\n",
    "        targets_test = torch.Tensor()\n",
    "        test_losses.append(0.)\n",
    "        for inputs, target in test_iter: # test loop\n",
    "            with torch.no_grad():\n",
    "                inputs = inputs.reshape([inputs.shape[0],\n",
    "                                         -1,\n",
    "                                         inputs.shape[-1]]).to(device)\n",
    "                target = target.to(device)\n",
    "\n",
    "                # Reset net state + burn-in + resize the inputs accordingly\n",
    "                inputs = net.init_state(inputs)\n",
    "\n",
    "                # forward pass + record loss\n",
    "                spikes, readouts, voltages, count = net(inputs)\n",
    "                loss = error(readouts, voltages, target)\n",
    "                test_losses[epoch] += loss.cpu().numpy()\n",
    "\n",
    "                preds_test_l1 = torch.cat((preds_test_l1, torch.mean(readouts[0], dim=-1).argmax(-1).cpu()))\n",
    "                preds_test_l2 = torch.cat((preds_test_l2, torch.mean(readouts[1], dim=-1).argmax(-1).cpu()))\n",
    "                targets_test = torch.cat((targets_test, target.cpu()))\n",
    "\n",
    "        acc_test_l1 = torch.mean((preds_test_l1 == targets_test).type(torch.float))\n",
    "        acc_test_l2 = torch.mean((preds_test_l2 == targets_test).type(torch.float))\n",
    "\n",
    "        test_accs_l1.append(acc_test_l1.cpu().numpy())\n",
    "        test_accs_l2.append(acc_test_l2.cpu().numpy())\n",
    "\n",
    "    if (epoch+1) % 1 == 0:\n",
    "        print('\\r', ' '*len(f'\\r[Epoch {epoch:2d}/{epochs}]'))\n",
    "        print(\"Test  loss = %f (min = %f)    accuracy = %f (max = %f)\" % (test_losses[epoch],\n",
    "                                                                          np.min(test_losses),\n",
    "                                                                          acc_test_l2,\n",
    "                                                                          np.max(test_accs_l2)))\n",
    "\n",
    "    if acc_test_l2 >= np.max(test_accs_l2):\n",
    "        torch.save(net.state_dict(), trained_folder + '/network.pt')"
   ]
  },
  {
   "cell_type": "markdown",
   "id": "854daacd-5ea4-46fd-befd-b0918b26bda3",
   "metadata": {
    "pycharm": {
     "name": "#%% md\n"
    }
   },
   "source": [
    "# Plot the learning curves\n",
    "\n",
    "Plotting the learning curves is as easy as calling `stats.plot()`."
   ]
  },
  {
   "cell_type": "code",
   "execution_count": 7,
   "id": "be59928f-4da2-4055-8802-71216003bf0c",
   "metadata": {
    "pycharm": {
     "name": "#%%\n"
    }
   },
   "outputs": [
    {
     "data": {
      "text/plain": [
       "<matplotlib.legend.Legend at 0x7ff671f17a90>"
      ]
     },
     "execution_count": 7,
     "metadata": {},
     "output_type": "execute_result"
    },
    {
     "data": {
      "image/png": "[encoded data removed]",
      "text/plain": [
       "<Figure size 1080x360 with 1 Axes>"
      ]
     },
     "metadata": {
      "needs_background": "light"
     },
     "output_type": "display_data"
    },
    {
     "data": {
      "image/png": "[encoded data removed]",
      "text/plain": [
       "<Figure size 1080x360 with 1 Axes>"
      ]
     },
     "metadata": {
      "needs_background": "light"
     },
     "output_type": "display_data"
    }
   ],
   "source": [
    "plt.figure(figsize=(15, 5))\n",
    "plt.plot(test_losses, label='Test loss')\n",
    "plt.xlabel('Epoch')\n",
    "plt.ylabel('Loss')\n",
    "\n",
    "plt.figure(figsize=(15, 5))\n",
    "plt.plot(test_accs_l1, label='Layer 1 accuracy')\n",
    "plt.plot(test_accs_l2, label='Layer 2 accuracy')\n",
    "plt.xlabel('Epoch')\n",
    "plt.ylabel('Accuracy')\n",
    "plt.legend()"
   ]
  }
 ],
 "metadata": {
  "kernelspec": {
   "display_name": "Python 3 (ipykernel)",
   "language": "python",
   "name": "python3"
  },
  "language_info": {
   "codemirror_mode": {
    "name": "ipython",
    "version": 3
   },
   "file_extension": ".py",
   "mimetype": "text/x-python",
   "name": "python",
   "nbconvert_exporter": "python",
   "pygments_lexer": "ipython3",
   "version": "3.9.12"
  }
 },
 "nbformat": 4,
 "nbformat_minor": 5
}