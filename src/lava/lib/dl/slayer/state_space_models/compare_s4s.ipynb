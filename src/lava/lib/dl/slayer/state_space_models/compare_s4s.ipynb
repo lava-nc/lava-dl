{
 "cells": [
  {
   "cell_type": "code",
   "execution_count": 1,
   "metadata": {},
   "outputs": [
    {
     "name": "stderr",
     "output_type": "stream",
     "text": [
      "CUDA extension for structured kernels (Cauchy and Vandermonde multiplication) not found. Install by going to extensions/kernels/ and running `python setup.py install`, for improved speed and memory efficiency. Note that the kernel changed for state-spaces 4.0 and must be recompiled.\n",
      "Falling back on slow Cauchy and Vandermonde kernel. Install at least one of pykeops or the CUDA extension for better speed and memory efficiency.\n"
     ]
    },
    {
     "name": "stdout",
     "output_type": "stream",
     "text": [
      "legs\n",
      "========================================\n",
      "init  legs\n"
     ]
    },
    {
     "ename": "NameError",
     "evalue": "name 'nplr' is not defined",
     "output_type": "error",
     "traceback": [
      "\u001b[0;31m---------------------------------------------------------------------------\u001b[0m",
      "\u001b[0;31mNameError\u001b[0m                                 Traceback (most recent call last)",
      "Cell \u001b[0;32mIn[1], line 2\u001b[0m\n\u001b[1;32m      1\u001b[0m \u001b[38;5;28;01mfrom\u001b[39;00m \u001b[38;5;21;01ms4\u001b[39;00m \u001b[38;5;28;01mimport\u001b[39;00m S4D\n\u001b[0;32m----> 2\u001b[0m \u001b[38;5;28;01mfrom\u001b[39;00m \u001b[38;5;21;01mnew_s4\u001b[39;00m \u001b[38;5;28;01mimport\u001b[39;00m S4D \u001b[38;5;28;01mas\u001b[39;00m S4D_New\n",
      "File \u001b[0;32m~/dev/lava-dl/src/lava/lib/dl/slayer/state_space_models/new_s4.py:202\u001b[0m\n\u001b[1;32m    199\u001b[0m         B \u001b[38;5;241m=\u001b[39m B\u001b[38;5;241m.\u001b[39munsqueeze(\u001b[38;5;241m0\u001b[39m) \u001b[38;5;66;03m# (1, H, N)\u001b[39;00m\n\u001b[1;32m    200\u001b[0m         \u001b[38;5;28;01mreturn\u001b[39;00m A, P, B, C\n\u001b[0;32m--> 202\u001b[0m s4d \u001b[38;5;241m=\u001b[39m \u001b[43mS4D\u001b[49m\u001b[43m(\u001b[49m\u001b[43md_model\u001b[49m\u001b[38;5;241;43m=\u001b[39;49m\u001b[38;5;241;43m10\u001b[39;49m\u001b[43m,\u001b[49m\u001b[43m \u001b[49m\u001b[43md_state\u001b[49m\u001b[38;5;241;43m=\u001b[39;49m\u001b[38;5;241;43m5\u001b[39;49m\u001b[43m)\u001b[49m\n",
      "File \u001b[0;32m~/dev/lava-dl/src/lava/lib/dl/slayer/state_space_models/new_s4.py:101\u001b[0m, in \u001b[0;36mS4D.__init__\u001b[0;34m(self, d_model, d_state, activation, dropout, rank, ssm_init)\u001b[0m\n\u001b[1;32m     99\u001b[0m       \u001b[38;5;66;03m# Initialize dt, A, B, C\u001b[39;00m\n\u001b[1;32m    100\u001b[0m inv_dt \u001b[38;5;241m=\u001b[39m \u001b[38;5;28mself\u001b[39m\u001b[38;5;241m.\u001b[39minit_dt()\n\u001b[0;32m--> 101\u001b[0m A, _, B, C \u001b[38;5;241m=\u001b[39m \u001b[38;5;28;43mself\u001b[39;49m\u001b[38;5;241;43m.\u001b[39;49m\u001b[43minit_ssm_dplr\u001b[49m\u001b[43m(\u001b[49m\u001b[43m)\u001b[49m\n\u001b[1;32m    102\u001b[0m \u001b[38;5;28mself\u001b[39m\u001b[38;5;241m.\u001b[39mdrop \u001b[38;5;241m=\u001b[39m DropoutNd(dropout) \u001b[38;5;28;01mif\u001b[39;00m dropout \u001b[38;5;241m>\u001b[39m \u001b[38;5;241m0.0\u001b[39m \u001b[38;5;28;01melse\u001b[39;00m nn\u001b[38;5;241m.\u001b[39mIdentity()\n\u001b[1;32m    104\u001b[0m \u001b[38;5;66;03m# register params\u001b[39;00m\n",
      "File \u001b[0;32m~/dev/lava-dl/src/lava/lib/dl/slayer/state_space_models/new_s4.py:185\u001b[0m, in \u001b[0;36mS4D.init_ssm_dplr\u001b[0;34m(self)\u001b[0m\n\u001b[1;32m    182\u001b[0m \u001b[38;5;250m\u001b[39m\u001b[38;5;124;03m\"\"\"Returns DPLR (A, P, B, C) parameters for init options.\"\"\"\u001b[39;00m\n\u001b[1;32m    183\u001b[0m \u001b[38;5;66;03m# Because these complex parameterizations assume conjugate symmetry,\u001b[39;00m\n\u001b[1;32m    184\u001b[0m \u001b[38;5;66;03m# double the value of self.d_state for convenience\u001b[39;00m\n\u001b[0;32m--> 185\u001b[0m A, P, B, _ \u001b[38;5;241m=\u001b[39m  \u001b[43mssm\u001b[49m\u001b[43m(\u001b[49m\u001b[38;5;28;43mself\u001b[39;49m\u001b[38;5;241;43m.\u001b[39;49m\u001b[43mssm_init\u001b[49m\u001b[43m,\u001b[49m\u001b[43m \u001b[49m\u001b[38;5;28;43mself\u001b[39;49m\u001b[38;5;241;43m.\u001b[39;49m\u001b[43md_state\u001b[49m\u001b[38;5;241;43m*\u001b[39;49m\u001b[38;5;241;43m2\u001b[39;49m\u001b[43m,\u001b[49m\u001b[43m \u001b[49m\u001b[38;5;28;43mself\u001b[39;49m\u001b[38;5;241;43m.\u001b[39;49m\u001b[43mrank\u001b[49m\u001b[43m,\u001b[49m\u001b[43m \u001b[49m\u001b[38;5;28;43mself\u001b[39;49m\u001b[38;5;241;43m.\u001b[39;49m\u001b[43md_model\u001b[49m\u001b[43m)\u001b[49m\n\u001b[1;32m    187\u001b[0m \u001b[38;5;66;03m# Broadcast C to have H channels\u001b[39;00m\n\u001b[1;32m    188\u001b[0m C \u001b[38;5;241m=\u001b[39m torch\u001b[38;5;241m.\u001b[39mrandn(\u001b[38;5;28mself\u001b[39m\u001b[38;5;241m.\u001b[39mchannels, \u001b[38;5;28mself\u001b[39m\u001b[38;5;241m.\u001b[39md_model, \u001b[38;5;28mself\u001b[39m\u001b[38;5;241m.\u001b[39md_state, dtype\u001b[38;5;241m=\u001b[39mtorch\u001b[38;5;241m.\u001b[39mcfloat)\n",
      "File \u001b[0;32m~/dev/lava-dl/src/lava/lib/dl/slayer/state_space_models/new_s4.py:48\u001b[0m, in \u001b[0;36mssm\u001b[0;34m(init, N, R, H, **ssm_args)\u001b[0m\n\u001b[1;32m     46\u001b[0m     A, P, B, V \u001b[38;5;241m=\u001b[39m dplr(N\u001b[38;5;241m=\u001b[39mN, rank\u001b[38;5;241m=\u001b[39mR, H\u001b[38;5;241m=\u001b[39mH, \u001b[38;5;241m*\u001b[39m\u001b[38;5;241m*\u001b[39mssm_args)\n\u001b[1;32m     47\u001b[0m \u001b[38;5;28;01melse\u001b[39;00m:\n\u001b[0;32m---> 48\u001b[0m     A, P, B, V \u001b[38;5;241m=\u001b[39m \u001b[43mnplr\u001b[49m(init, N, R, \u001b[38;5;241m*\u001b[39m\u001b[38;5;241m*\u001b[39mssm_args)\n\u001b[1;32m     49\u001b[0m     A \u001b[38;5;241m=\u001b[39m repeat(A, \u001b[38;5;124m'\u001b[39m\u001b[38;5;124mn -> s n\u001b[39m\u001b[38;5;124m'\u001b[39m, s\u001b[38;5;241m=\u001b[39mH)\n\u001b[1;32m     50\u001b[0m     P \u001b[38;5;241m=\u001b[39m repeat(P, \u001b[38;5;124m'\u001b[39m\u001b[38;5;124mr n -> r s n\u001b[39m\u001b[38;5;124m'\u001b[39m, s\u001b[38;5;241m=\u001b[39mH)\n",
      "\u001b[0;31mNameError\u001b[0m: name 'nplr' is not defined"
     ]
    }
   ],
   "source": [
    "from s4 import S4D\n",
    "from new_s4 import S4D as S4D_New"
   ]
  },
  {
   "cell_type": "code",
   "execution_count": null,
   "metadata": {},
   "outputs": [
    {
     "name": "stdout",
     "output_type": "stream",
     "text": [
      "B=tensor([[ 0.0156+2.0000j, -0.0157-2.0000j,  0.0159+2.0000j, -0.0161-2.0000j,\n",
      "          0.0164+2.0000j, -0.0168-2.0000j,  0.0172+2.0000j, -0.0178-2.0000j,\n",
      "          0.0185+2.0000j, -0.0192-2.0000j,  0.0201+2.0000j, -0.0210-1.9152j,\n",
      "         -0.0221-1.7793j,  0.0234+1.6633j,  0.0248+1.5628j,  0.0265+1.4747j,\n",
      "         -0.0284-1.3964j, -0.0306-1.3261j, -0.0331-1.2623j, -0.0361-1.2039j,\n",
      "          0.0397+1.1499j,  0.0440+1.0993j,  0.0492+1.0515j,  0.0558+1.0059j,\n",
      "          0.0642+0.9616j,  0.0753+0.9179j,  0.0907+0.8739j,  0.1129+0.8279j,\n",
      "         -0.1479-0.7765j, -0.2088-0.7110j, -0.3287-0.5955j, -0.5258-0.2775j],\n",
      "        [ 0.0156+2.0000j, -0.0157-2.0000j,  0.0159+2.0000j, -0.0161-2.0000j,\n",
      "          0.0164+2.0000j, -0.0168-2.0000j,  0.0172+2.0000j, -0.0178-2.0000j,\n",
      "          0.0185+2.0000j, -0.0192-2.0000j,  0.0201+2.0000j, -0.0210-1.9152j,\n",
      "         -0.0221-1.7793j,  0.0234+1.6633j,  0.0248+1.5628j,  0.0265+1.4747j,\n",
      "         -0.0284-1.3964j, -0.0306-1.3261j, -0.0331-1.2623j, -0.0361-1.2039j,\n",
      "          0.0397+1.1499j,  0.0440+1.0993j,  0.0492+1.0515j,  0.0558+1.0059j,\n",
      "          0.0642+0.9616j,  0.0753+0.9179j,  0.0907+0.8739j,  0.1129+0.8279j,\n",
      "         -0.1479-0.7765j, -0.2088-0.7110j, -0.3287-0.5955j, -0.5258-0.2775j],\n",
      "        [ 0.0156+2.0000j, -0.0157-2.0000j,  0.0159+2.0000j, -0.0161-2.0000j,\n",
      "          0.0164+2.0000j, -0.0168-2.0000j,  0.0172+2.0000j, -0.0178-2.0000j,\n",
      "          0.0185+2.0000j, -0.0192-2.0000j,  0.0201+2.0000j, -0.0210-1.9152j,\n",
      "         -0.0221-1.7793j,  0.0234+1.6633j,  0.0248+1.5628j,  0.0265+1.4747j,\n",
      "         -0.0284-1.3964j, -0.0306-1.3261j, -0.0331-1.2623j, -0.0361-1.2039j,\n",
      "          0.0397+1.1499j,  0.0440+1.0993j,  0.0492+1.0515j,  0.0558+1.0059j,\n",
      "          0.0642+0.9616j,  0.0753+0.9179j,  0.0907+0.8739j,  0.1129+0.8279j,\n",
      "         -0.1479-0.7765j, -0.2088-0.7110j, -0.3287-0.5955j, -0.5258-0.2775j],\n",
      "        [ 0.0156+2.0000j, -0.0157-2.0000j,  0.0159+2.0000j, -0.0161-2.0000j,\n",
      "          0.0164+2.0000j, -0.0168-2.0000j,  0.0172+2.0000j, -0.0178-2.0000j,\n",
      "          0.0185+2.0000j, -0.0192-2.0000j,  0.0201+2.0000j, -0.0210-1.9152j,\n",
      "         -0.0221-1.7793j,  0.0234+1.6633j,  0.0248+1.5628j,  0.0265+1.4747j,\n",
      "         -0.0284-1.3964j, -0.0306-1.3261j, -0.0331-1.2623j, -0.0361-1.2039j,\n",
      "          0.0397+1.1499j,  0.0440+1.0993j,  0.0492+1.0515j,  0.0558+1.0059j,\n",
      "          0.0642+0.9616j,  0.0753+0.9179j,  0.0907+0.8739j,  0.1129+0.8279j,\n",
      "         -0.1479-0.7765j, -0.2088-0.7110j, -0.3287-0.5955j, -0.5258-0.2775j],\n",
      "        [ 0.0156+2.0000j, -0.0157-2.0000j,  0.0159+2.0000j, -0.0161-2.0000j,\n",
      "          0.0164+2.0000j, -0.0168-2.0000j,  0.0172+2.0000j, -0.0178-2.0000j,\n",
      "          0.0185+2.0000j, -0.0192-2.0000j,  0.0201+2.0000j, -0.0210-1.9152j,\n",
      "         -0.0221-1.7793j,  0.0234+1.6633j,  0.0248+1.5628j,  0.0265+1.4747j,\n",
      "         -0.0284-1.3964j, -0.0306-1.3261j, -0.0331-1.2623j, -0.0361-1.2039j,\n",
      "          0.0397+1.1499j,  0.0440+1.0993j,  0.0492+1.0515j,  0.0558+1.0059j,\n",
      "          0.0642+0.9616j,  0.0753+0.9179j,  0.0907+0.8739j,  0.1129+0.8279j,\n",
      "         -0.1479-0.7765j, -0.2088-0.7110j, -0.3287-0.5955j, -0.5258-0.2775j],\n",
      "        [ 0.0156+2.0000j, -0.0157-2.0000j,  0.0159+2.0000j, -0.0161-2.0000j,\n",
      "          0.0164+2.0000j, -0.0168-2.0000j,  0.0172+2.0000j, -0.0178-2.0000j,\n",
      "          0.0185+2.0000j, -0.0192-2.0000j,  0.0201+2.0000j, -0.0210-1.9152j,\n",
      "         -0.0221-1.7793j,  0.0234+1.6633j,  0.0248+1.5628j,  0.0265+1.4747j,\n",
      "         -0.0284-1.3964j, -0.0306-1.3261j, -0.0331-1.2623j, -0.0361-1.2039j,\n",
      "          0.0397+1.1499j,  0.0440+1.0993j,  0.0492+1.0515j,  0.0558+1.0059j,\n",
      "          0.0642+0.9616j,  0.0753+0.9179j,  0.0907+0.8739j,  0.1129+0.8279j,\n",
      "         -0.1479-0.7765j, -0.2088-0.7110j, -0.3287-0.5955j, -0.5258-0.2775j],\n",
      "        [ 0.0156+2.0000j, -0.0157-2.0000j,  0.0159+2.0000j, -0.0161-2.0000j,\n",
      "          0.0164+2.0000j, -0.0168-2.0000j,  0.0172+2.0000j, -0.0178-2.0000j,\n",
      "          0.0185+2.0000j, -0.0192-2.0000j,  0.0201+2.0000j, -0.0210-1.9152j,\n",
      "         -0.0221-1.7793j,  0.0234+1.6633j,  0.0248+1.5628j,  0.0265+1.4747j,\n",
      "         -0.0284-1.3964j, -0.0306-1.3261j, -0.0331-1.2623j, -0.0361-1.2039j,\n",
      "          0.0397+1.1499j,  0.0440+1.0993j,  0.0492+1.0515j,  0.0558+1.0059j,\n",
      "          0.0642+0.9616j,  0.0753+0.9179j,  0.0907+0.8739j,  0.1129+0.8279j,\n",
      "         -0.1479-0.7765j, -0.2088-0.7110j, -0.3287-0.5955j, -0.5258-0.2775j],\n",
      "        [ 0.0156+2.0000j, -0.0157-2.0000j,  0.0159+2.0000j, -0.0161-2.0000j,\n",
      "          0.0164+2.0000j, -0.0168-2.0000j,  0.0172+2.0000j, -0.0178-2.0000j,\n",
      "          0.0185+2.0000j, -0.0192-2.0000j,  0.0201+2.0000j, -0.0210-1.9152j,\n",
      "         -0.0221-1.7793j,  0.0234+1.6633j,  0.0248+1.5628j,  0.0265+1.4747j,\n",
      "         -0.0284-1.3964j, -0.0306-1.3261j, -0.0331-1.2623j, -0.0361-1.2039j,\n",
      "          0.0397+1.1499j,  0.0440+1.0993j,  0.0492+1.0515j,  0.0558+1.0059j,\n",
      "          0.0642+0.9616j,  0.0753+0.9179j,  0.0907+0.8739j,  0.1129+0.8279j,\n",
      "         -0.1479-0.7765j, -0.2088-0.7110j, -0.3287-0.5955j, -0.5258-0.2775j],\n",
      "        [ 0.0156+2.0000j, -0.0157-2.0000j,  0.0159+2.0000j, -0.0161-2.0000j,\n",
      "          0.0164+2.0000j, -0.0168-2.0000j,  0.0172+2.0000j, -0.0178-2.0000j,\n",
      "          0.0185+2.0000j, -0.0192-2.0000j,  0.0201+2.0000j, -0.0210-1.9152j,\n",
      "         -0.0221-1.7793j,  0.0234+1.6633j,  0.0248+1.5628j,  0.0265+1.4747j,\n",
      "         -0.0284-1.3964j, -0.0306-1.3261j, -0.0331-1.2623j, -0.0361-1.2039j,\n",
      "          0.0397+1.1499j,  0.0440+1.0993j,  0.0492+1.0515j,  0.0558+1.0059j,\n",
      "          0.0642+0.9616j,  0.0753+0.9179j,  0.0907+0.8739j,  0.1129+0.8279j,\n",
      "         -0.1479-0.7765j, -0.2088-0.7110j, -0.3287-0.5955j, -0.5258-0.2775j],\n",
      "        [ 0.0156+2.0000j, -0.0157-2.0000j,  0.0159+2.0000j, -0.0161-2.0000j,\n",
      "          0.0164+2.0000j, -0.0168-2.0000j,  0.0172+2.0000j, -0.0178-2.0000j,\n",
      "          0.0185+2.0000j, -0.0192-2.0000j,  0.0201+2.0000j, -0.0210-1.9152j,\n",
      "         -0.0221-1.7793j,  0.0234+1.6633j,  0.0248+1.5628j,  0.0265+1.4747j,\n",
      "         -0.0284-1.3964j, -0.0306-1.3261j, -0.0331-1.2623j, -0.0361-1.2039j,\n",
      "          0.0397+1.1499j,  0.0440+1.0993j,  0.0492+1.0515j,  0.0558+1.0059j,\n",
      "          0.0642+0.9616j,  0.0753+0.9179j,  0.0907+0.8739j,  0.1129+0.8279j,\n",
      "         -0.1479-0.7765j, -0.2088-0.7110j, -0.3287-0.5955j, -0.5258-0.2775j]])\n",
      "Unexpected exception formatting exception. Falling back to standard exception\n"
     ]
    },
    {
     "name": "stderr",
     "output_type": "stream",
     "text": [
      "Traceback (most recent call last):\n",
      "  File \"/data/work/sveamari/.venv/lib/python3.8/site-packages/IPython/core/interactiveshell.py\", line 3508, in run_code\n",
      "    exec(code_obj, self.user_global_ns, self.user_ns)\n",
      "  File \"/tmp/ipykernel_350839/2337944511.py\", line 12, in <module>\n",
      "    new = S4D_New(d_model= 10, d_state=64)\n",
      "  File \"/home/sveamari/dev/lava-dl/src/lava/lib/dl/slayer/state_space_models/new_s4.py\", line 97, in __init__\n",
      "  File \"/home/sveamari/dev/lava-dl/src/lava/lib/dl/slayer/state_space_models/new_s4.py\", line 181, in init_ssm_dplr\n",
      "    def init_ssm_dplr(self):\n",
      "  File \"/data/work/sveamari/.venv/lib/python3.8/site-packages/torch/nn/modules/module.py\", line 1614, in __getattr__\n",
      "    raise AttributeError(\"'{}' object has no attribute '{}'\".format(\n",
      "AttributeError: 'S4D' object has no attribute 'smm_init'\n",
      "\n",
      "During handling of the above exception, another exception occurred:\n",
      "\n",
      "Traceback (most recent call last):\n",
      "  File \"/data/work/sveamari/.venv/lib/python3.8/site-packages/IPython/core/interactiveshell.py\", line 2105, in showtraceback\n",
      "    stb = self.InteractiveTB.structured_traceback(\n",
      "  File \"/data/work/sveamari/.venv/lib/python3.8/site-packages/IPython/core/ultratb.py\", line 1396, in structured_traceback\n",
      "    return FormattedTB.structured_traceback(\n",
      "  File \"/data/work/sveamari/.venv/lib/python3.8/site-packages/IPython/core/ultratb.py\", line 1287, in structured_traceback\n",
      "    return VerboseTB.structured_traceback(\n",
      "  File \"/data/work/sveamari/.venv/lib/python3.8/site-packages/IPython/core/ultratb.py\", line 1140, in structured_traceback\n",
      "    formatted_exception = self.format_exception_as_a_whole(etype, evalue, etb, number_of_lines_of_context,\n",
      "  File \"/data/work/sveamari/.venv/lib/python3.8/site-packages/IPython/core/ultratb.py\", line 1055, in format_exception_as_a_whole\n",
      "    frames.append(self.format_record(record))\n",
      "  File \"/data/work/sveamari/.venv/lib/python3.8/site-packages/IPython/core/ultratb.py\", line 955, in format_record\n",
      "    frame_info.lines, Colors, self.has_colors, lvals\n",
      "  File \"/data/work/sveamari/.venv/lib/python3.8/site-packages/IPython/core/ultratb.py\", line 778, in lines\n",
      "    return self._sd.lines\n",
      "  File \"/data/work/sveamari/.venv/lib/python3.8/site-packages/stack_data/utils.py\", line 145, in cached_property_wrapper\n",
      "    value = obj.__dict__[self.func.__name__] = self.func(obj)\n",
      "  File \"/data/work/sveamari/.venv/lib/python3.8/site-packages/stack_data/core.py\", line 734, in lines\n",
      "    pieces = self.included_pieces\n",
      "  File \"/data/work/sveamari/.venv/lib/python3.8/site-packages/stack_data/utils.py\", line 145, in cached_property_wrapper\n",
      "    value = obj.__dict__[self.func.__name__] = self.func(obj)\n",
      "  File \"/data/work/sveamari/.venv/lib/python3.8/site-packages/stack_data/core.py\", line 681, in included_pieces\n",
      "    pos = scope_pieces.index(self.executing_piece)\n",
      "  File \"/data/work/sveamari/.venv/lib/python3.8/site-packages/stack_data/utils.py\", line 145, in cached_property_wrapper\n",
      "    value = obj.__dict__[self.func.__name__] = self.func(obj)\n",
      "  File \"/data/work/sveamari/.venv/lib/python3.8/site-packages/stack_data/core.py\", line 660, in executing_piece\n",
      "    return only(\n",
      "  File \"/data/work/sveamari/.venv/lib/python3.8/site-packages/executing/executing.py\", line 116, in only\n",
      "    raise NotOneValueFound('Expected one value, found 0')\n",
      "executing.executing.NotOneValueFound: Expected one value, found 0\n"
     ]
    }
   ],
   "source": [
    "old = S4D(d_model=10,\n",
    "        d_state=64,\n",
    "        s4d_exp=12,\n",
    "        dropout=0.0,\n",
    "        is_real=False,\n",
    "        transposed=False,\n",
    "        bottleneck=None,\n",
    "        skip = True,\n",
    "        quantize = False,\n",
    "        final_act = None,\n",
    "        activation = \"relu\")\n",
    "new = S4D_New(d_model= 10, d_state=64)\n"
   ]
  },
  {
   "cell_type": "code",
   "execution_count": null,
   "metadata": {},
   "outputs": [
    {
     "name": "stdout",
     "output_type": "stream",
     "text": [
      "> \u001b[0;32m/data/work/sveamari/.venv/lib/python3.8/site-packages/torch/nn/modules/module.py\u001b[0m(1614)\u001b[0;36m__getattr__\u001b[0;34m()\u001b[0m\n",
      "\u001b[0;32m   1612 \u001b[0;31m            \u001b[0;32mif\u001b[0m \u001b[0mname\u001b[0m \u001b[0;32min\u001b[0m \u001b[0mmodules\u001b[0m\u001b[0;34m:\u001b[0m\u001b[0;34m\u001b[0m\u001b[0;34m\u001b[0m\u001b[0m\n",
      "\u001b[0m\u001b[0;32m   1613 \u001b[0;31m                \u001b[0;32mreturn\u001b[0m \u001b[0mmodules\u001b[0m\u001b[0;34m[\u001b[0m\u001b[0mname\u001b[0m\u001b[0;34m]\u001b[0m\u001b[0;34m\u001b[0m\u001b[0;34m\u001b[0m\u001b[0m\n",
      "\u001b[0m\u001b[0;32m-> 1614 \u001b[0;31m        raise AttributeError(\"'{}' object has no attribute '{}'\".format(\n",
      "\u001b[0m\u001b[0;32m   1615 \u001b[0;31m            type(self).__name__, name))\n",
      "\u001b[0m\u001b[0;32m   1616 \u001b[0;31m\u001b[0;34m\u001b[0m\u001b[0m\n",
      "\u001b[0m\n",
      "> \u001b[0;32m/home/sveamari/dev/lava-dl/src/lava/lib/dl/slayer/state_space_models/new_s4.py\u001b[0m(181)\u001b[0;36minit_ssm_dplr\u001b[0;34m()\u001b[0m\n",
      "\u001b[0;32m    179 \u001b[0;31m        \u001b[0;32mreturn\u001b[0m \u001b[0minv_dt\u001b[0m\u001b[0;34m\u001b[0m\u001b[0;34m\u001b[0m\u001b[0m\n",
      "\u001b[0m\u001b[0;32m    180 \u001b[0;31m\u001b[0;34m\u001b[0m\u001b[0m\n",
      "\u001b[0m\u001b[0;32m--> 181 \u001b[0;31m    \u001b[0;32mdef\u001b[0m \u001b[0minit_ssm_dplr\u001b[0m\u001b[0;34m(\u001b[0m\u001b[0mself\u001b[0m\u001b[0;34m)\u001b[0m\u001b[0;34m:\u001b[0m\u001b[0;34m\u001b[0m\u001b[0;34m\u001b[0m\u001b[0m\n",
      "\u001b[0m\u001b[0;32m    182 \u001b[0;31m        \u001b[0;34m\"\"\"Returns DPLR (A, P, B, C) parameters for init options.\"\"\"\u001b[0m\u001b[0;34m\u001b[0m\u001b[0;34m\u001b[0m\u001b[0m\n",
      "\u001b[0m\u001b[0;32m    183 \u001b[0;31m        \u001b[0;31m# Because these complex parameterizations assume conjugate symmetry,\u001b[0m\u001b[0;34m\u001b[0m\u001b[0;34m\u001b[0m\u001b[0;34m\u001b[0m\u001b[0m\n",
      "\u001b[0m\n",
      "> \u001b[0;32m/home/sveamari/dev/lava-dl/src/lava/lib/dl/slayer/state_space_models/new_s4.py\u001b[0m(97)\u001b[0;36m__init__\u001b[0;34m()\u001b[0m\n",
      "\u001b[0;32m     95 \u001b[0;31m        \u001b[0mself\u001b[0m\u001b[0;34m.\u001b[0m\u001b[0mssm_init\u001b[0m \u001b[0;34m=\u001b[0m \u001b[0mssm_init\u001b[0m\u001b[0;34m\u001b[0m\u001b[0;34m\u001b[0m\u001b[0m\n",
      "\u001b[0m\u001b[0;32m     96 \u001b[0;31m        \u001b[0mprint\u001b[0m\u001b[0;34m(\u001b[0m\u001b[0mself\u001b[0m\u001b[0;34m.\u001b[0m\u001b[0mssm_init\u001b[0m\u001b[0;34m)\u001b[0m\u001b[0;34m\u001b[0m\u001b[0;34m\u001b[0m\u001b[0m\n",
      "\u001b[0m\u001b[0;32m---> 97 \u001b[0;31m\u001b[0;34m\u001b[0m\u001b[0m\n",
      "\u001b[0m\u001b[0;32m     98 \u001b[0;31m\u001b[0;34m\u001b[0m\u001b[0m\n",
      "\u001b[0m\u001b[0;32m     99 \u001b[0;31m              \u001b[0;31m# Initialize dt, A, B, C\u001b[0m\u001b[0;34m\u001b[0m\u001b[0;34m\u001b[0m\u001b[0;34m\u001b[0m\u001b[0m\n",
      "\u001b[0m\n",
      "> \u001b[0;32m/tmp/ipykernel_350839/2337944511.py\u001b[0m(12)\u001b[0;36m<module>\u001b[0;34m()\u001b[0m\n",
      "\u001b[0;32m      8 \u001b[0;31m        \u001b[0mskip\u001b[0m \u001b[0;34m=\u001b[0m \u001b[0;32mTrue\u001b[0m\u001b[0;34m,\u001b[0m\u001b[0;34m\u001b[0m\u001b[0;34m\u001b[0m\u001b[0m\n",
      "\u001b[0m\u001b[0;32m      9 \u001b[0;31m        \u001b[0mquantize\u001b[0m \u001b[0;34m=\u001b[0m \u001b[0;32mFalse\u001b[0m\u001b[0;34m,\u001b[0m\u001b[0;34m\u001b[0m\u001b[0;34m\u001b[0m\u001b[0m\n",
      "\u001b[0m\u001b[0;32m     10 \u001b[0;31m        \u001b[0mfinal_act\u001b[0m \u001b[0;34m=\u001b[0m \u001b[0;32mNone\u001b[0m\u001b[0;34m,\u001b[0m\u001b[0;34m\u001b[0m\u001b[0;34m\u001b[0m\u001b[0m\n",
      "\u001b[0m\u001b[0;32m     11 \u001b[0;31m        activation = \"relu\")\n",
      "\u001b[0m\u001b[0;32m---> 12 \u001b[0;31m\u001b[0mnew\u001b[0m \u001b[0;34m=\u001b[0m \u001b[0mS4D_New\u001b[0m\u001b[0;34m(\u001b[0m\u001b[0md_model\u001b[0m\u001b[0;34m=\u001b[0m \u001b[0;36m10\u001b[0m\u001b[0;34m,\u001b[0m \u001b[0md_state\u001b[0m\u001b[0;34m=\u001b[0m\u001b[0;36m64\u001b[0m\u001b[0;34m)\u001b[0m\u001b[0;34m\u001b[0m\u001b[0;34m\u001b[0m\u001b[0m\n",
      "\u001b[0m\n"
     ]
    }
   ],
   "source": [
    "%debug\n"
   ]
  }
 ],
 "metadata": {
  "kernelspec": {
   "display_name": ".venv",
   "language": "python",
   "name": "python3"
  },
  "language_info": {
   "codemirror_mode": {
    "name": "ipython",
    "version": 3
   },
   "file_extension": ".py",
   "mimetype": "text/x-python",
   "name": "python",
   "nbconvert_exporter": "python",
   "pygments_lexer": "ipython3",
   "version": "3.8.10"
  }
 },
 "nbformat": 4,
 "nbformat_minor": 2
}
