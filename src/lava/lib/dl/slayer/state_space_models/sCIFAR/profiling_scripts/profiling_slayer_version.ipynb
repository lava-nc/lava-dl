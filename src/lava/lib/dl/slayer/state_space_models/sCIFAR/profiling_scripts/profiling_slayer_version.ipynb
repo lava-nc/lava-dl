{
 "cells": [
  {
   "cell_type": "code",
   "execution_count": 1,
   "metadata": {},
   "outputs": [
    {
     "name": "stderr",
     "output_type": "stream",
     "text": [
      "CUDA extension for structured kernels (Cauchy and Vandermonde multiplication) not found. Install by going to extensions/kernels/ and running `python setup.py install`, for improved speed and memory efficiency. Note that the kernel changed for state-spaces 4.0 and must be recompiled.\n",
      "Falling back on slow Cauchy and Vandermonde kernel. Install at least one of pykeops or the CUDA extension for better speed and memory efficiency.\n"
     ]
    }
   ],
   "source": [
    "import logging\n",
    "import torch\n",
    "import numpy as np\n",
    "import matplotlib.pyplot as plt\n",
    "\n",
    "import torch\n",
    "import os\n",
    "\n",
    "\n",
    "import torch\n",
    "import lava.lib.dl.slayer as slayer\n",
    "from lava.lib.dl import netx\n",
    "\n",
    "import numpy as np\n",
    "\n",
    "from lava.lib.dl.slayer.state_space_models.sCIFAR.networks import SCIFARNetworkSlayer\n",
    "from lava.lib.dl.slayer.state_space_models.sCIFAR import utils\n",
    "from lava.proc.receiver.process import Receiver\n",
    "from lava.proc.spike_injector.process import InputProcess\n",
    "\n",
    "from lava.proc.io.source import RingBuffer as SourceBuffer\n",
    "from lava.proc.io.sink import RingBuffer as SinkBuffer\n",
    "from lava.proc.embedded_io.spike import PyToNxAdapter, NxToPyAdapter\n",
    "from lava.magma.core.run_conditions import RunSteps\n",
    "from lava.magma.core.run_configs import Loihi2HwCfg\n",
    "from lava.proc.dense.process import Dense\n",
    "from lava.proc.sdn.process import ActivationMode\n",
    "from lava.proc.s4d.process import SigmaS4dDelta, S4d\n",
    "from lava.proc.sparse.process import Sparse\n",
    "from lava.proc.spike_integrator.process import SpikeIntegrator, SpikeIntegrator32\n",
    "\n",
    "\n",
    "\n",
    "from lava.magma.core.run_conditions import RunSteps\n",
    "from lava.proc.lif.process import LIF\n",
    "from lava.proc.dense.process import Dense\n",
    "from lava.magma.compiler.subcompilers.nc.ncproc_compiler import CompilerOptions\n",
    "from lava.utils.profiler import Profiler\n",
    "from lava.lib.dl.slayer.state_space_models.sCIFAR.networks import SCIFARNetworkTorch\n",
    "from lava.lib.dl.slayer.state_space_models.sCIFAR import utils\n",
    "from lava.proc.receiver.process import Receiver\n",
    "from lava.proc.spike_injector.process import InputProcess\n",
    "\n",
    "\n",
    "import os\n",
    "from lava.utils.system import Loihi2\n",
    "\n",
    "loihi2_is_available = Loihi2.is_loihi2_available\n",
    "if loihi2_is_available:\n",
    "    # Enable SLURM, the workload manager used to distribute Loihi2 resources to users\n",
    "    os.environ['SLURM'] = '1'\n",
    "    os.environ['PARTITION'] = \"oheogulch\"\n",
    "    os.environ['LOIHI_GEN'] = \"N3C1\"\n",
    "    #os.environ[\"NXOPTIONS\"] = \"--vdd=0.65,--vddm=0.8\"\n",
    "import numpy as np\n",
    "\n",
    "\n",
    "np.set_printoptions(linewidth=110)  # Increase the line lenght of output cells.\n",
    "n_steps = 6000 #1024 # 1000 works"
   ]
  },
  {
   "cell_type": "code",
   "execution_count": 2,
   "metadata": {},
   "outputs": [
    {
     "name": "stdout",
     "output_type": "stream",
     "text": [
      "Files already downloaded and verified\n",
      "Files already downloaded and verified\n"
     ]
    }
   ],
   "source": [
    "_, _, val_loader = utils.get_datasets() \n",
    "label, data_sample = next(enumerate(val_loader)) \n",
    "label, data_sample = next(enumerate(val_loader))"
   ]
  },
  {
   "cell_type": "code",
   "execution_count": 3,
   "metadata": {},
   "outputs": [
    {
     "name": "stdout",
     "output_type": "stream",
     "text": [
      "(1024, 3)\n"
     ]
    }
   ],
   "source": [
    "data_sample_final = data_sample[0].detach().numpy().squeeze()  * 2**12\n",
    "\n",
    "print(data_sample_final.shape)"
   ]
  },
  {
   "cell_type": "markdown",
   "metadata": {},
   "source": [
    "data_sample_final\n",
    "final_string = \"{\"\n",
    "for row in data_sample_final:\n",
    "    for idx, col in enumerate(row):\n",
    "        final_string += str(int(col)) \n",
    "        if idx in [0,1]:\n",
    "            final_string += \", \"\n",
    "    final_string += \"},\\n {\"\n",
    "print(final_string)"
   ]
  },
  {
   "cell_type": "code",
   "execution_count": 4,
   "metadata": {},
   "outputs": [
    {
     "name": "stdout",
     "output_type": "stream",
     "text": [
      "|   Type   |  W  |  H  |  C  | ker | str | pad | dil | grp |delay|\n",
      "|Dense     |    1|    1|  128|     |     |     |     |     |False|\n",
      "|Dense     |    1|    1|  512|     |     |     |     |     |False|\n",
      "|Dense     |    1|    1|  128|     |     |     |     |     |False|\n",
      "|Dense     |    1|    1|  128|     |     |     |     |     |False|\n",
      "|Dense     |    1|    1|   10|     |     |     |     |     |False|\n"
     ]
    }
   ],
   "source": [
    "d_model=128\n",
    "n_states=4\n",
    "lava_dl_model_trained = SCIFARNetworkSlayer(d_model=d_model, n_states=n_states, num_layers=1, get_last=False)\n",
    "lava_dl_model_trained.load_state_dict(torch.load(\"./../training_logs/Trained_slayer_quantized/network_quantized.pt\"))\n",
    "lava_dl_model_trained.eval()\n",
    "out_dl_trained = lava_dl_model_trained(data_sample[0])\n",
    "\n",
    "if os.path.exists(\"./../training_logs/netx_trained.net\"):\n",
    "    os.remove(\"./../training_logs/netx_trained.net\")\n",
    "lava_dl_model_trained.export_hdf5(\"./../training_logs/netx_trained.net\")\n",
    "num_message_bits = 24\n",
    "\n",
    "loaded_net =  netx.hdf5.Network(net_config=\"./../training_logs/netx_trained.net\", input_message_bits=num_message_bits, sparse_fc_layer=True, skip_layers=1)\n",
    "print(loaded_net)"
   ]
  },
  {
   "cell_type": "markdown",
   "metadata": {},
   "source": [
    "#### Create Lava Network"
   ]
  },
  {
   "cell_type": "code",
   "execution_count": 5,
   "metadata": {},
   "outputs": [],
   "source": [
    "def example_run(net, profile, sample_num):\n",
    "    input = InputProcess(shape=(3,), sample_num=sample_num, num_message_bits=24)\n",
    "    dense_to_on_chip = Dense(weights=np.eye(10), num_message_bits=24)  \n",
    "    on_chip_receiver = Receiver(shape=(10,))\n",
    "    \n",
    "    input.out_port.connect(net.inp)\n",
    "    net.out.connect(dense_to_on_chip.s_in)\n",
    "    dense_to_on_chip.a_out.connect(on_chip_receiver.a_in)\n",
    "    \n",
    "    run_cfg = Loihi2HwCfg()\n",
    "    \n",
    "    # set up profiler\n",
    "    if profile == \"energy\":\n",
    "        profiler = Profiler.init(run_cfg)\n",
    "        profiler.energy_probe(num_steps=n_steps)\n",
    "        profiler.activity_probe()\n",
    "        profiler.memory_probe()\n",
    "    elif profile == \"time\":\n",
    "        profiler = Profiler.init(run_cfg)\n",
    "        profiler.execution_time_probe(num_steps=n_steps)\n",
    "    else:\n",
    "        profiler = None\n",
    "\n",
    "    \n",
    "    on_chip_receiver.run(\n",
    "                    condition=RunSteps(num_steps=n_steps), run_cfg=run_cfg\n",
    "                    )\n",
    "    on_chip_receiver.stop()\n",
    "    return profiler\n",
    "\n",
    "\n",
    "\n",
    "\n"
   ]
  },
  {
   "cell_type": "code",
   "execution_count": 6,
   "metadata": {},
   "outputs": [
    {
     "name": "stdout",
     "output_type": "stream",
     "text": [
      "Partitioning converged after iteration=1\n",
      "Per core utilization:\n",
      "-------------------------------------------------------------------------\n",
      "| AxonIn |NeuronGr| Neurons|Synapses| AxonMap| AxonMem|  Total |  Cores |\n",
      "|-----------------------------------------------------------------------|\n",
      "|   0.06%|  12.50%|   0.24%|   0.19%|   0.06%|   0.00%|   0.30%|       1|\n",
      "|   0.80%|  12.50%|   0.24%|   2.39%|   0.06%|   0.00%|   2.66%|       1|\n",
      "|   0.80%|  12.50%|   3.13%|  30.60%|   0.80%|   0.00%|  26.41%|       1|\n",
      "|   3.20%|  12.50%|   3.13%|   3.20%|   0.80%|   0.00%|   6.41%|       1|\n",
      "|   0.80%|  12.50%|  25.01%|   0.80%|   3.20%|   0.00%|   8.96%|       1|\n",
      "|   0.02%|  12.50%|   3.13%|   0.66%|   0.80%|   0.00%|   1.83%|       1|\n",
      "|-----------------------------------------------------------------------|\n",
      "| Total                                                        |       6|\n",
      "-------------------------------------------------------------------------\n"
     ]
    },
    {
     "name": "stderr",
     "output_type": "stream",
     "text": [
      "/home/sveamari/lava_dev/frameworks.ai.nx.nxsdk/nxcore/arch/n3b/n3board.py:77: UserWarning: Loihi generation overriden by environment variable LOIHI_GEN=N3C1\n",
      "  warnings.warn(\"Loihi generation overriden by environment variable LOIHI_GEN={}\".format(os.environ[\"LOIHI_GEN\"]))\n"
     ]
    },
    {
     "name": "stdout",
     "output_type": "stream",
     "text": [
      "Partitioning converged after iteration=1\n",
      "Per core utilization:\n",
      "-------------------------------------------------------------------------\n",
      "| AxonIn |NeuronGr| Neurons|Synapses| AxonMap| AxonMem|  Total |  Cores |\n",
      "|-----------------------------------------------------------------------|\n",
      "|   0.06%|  12.50%|   0.24%|   0.19%|   0.06%|   0.00%|   0.30%|       1|\n",
      "|   0.80%|  12.50%|   0.24%|   2.39%|   0.06%|   0.00%|   2.66%|       1|\n",
      "|   0.80%|  12.50%|   3.13%|  30.60%|   0.80%|   0.00%|  26.41%|       1|\n",
      "|   3.20%|  12.50%|   3.13%|   3.20%|   0.80%|   0.00%|   6.41%|       1|\n",
      "|   0.80%|  12.50%|  25.01%|   0.80%|   3.20%|   0.00%|   8.96%|       1|\n",
      "|   0.02%|  12.50%|   3.13%|   0.66%|   0.80%|   0.00%|   1.83%|       1|\n",
      "|-----------------------------------------------------------------------|\n",
      "| Total                                                        |       6|\n",
      "-------------------------------------------------------------------------\n"
     ]
    },
    {
     "name": "stderr",
     "output_type": "stream",
     "text": [
      "/home/sveamari/lava_dev/frameworks.ai.nx.nxsdk/nxcore/arch/n3b/n3board.py:77: UserWarning: Loihi generation overriden by environment variable LOIHI_GEN=N3C1\n",
      "  warnings.warn(\"Loihi generation overriden by environment variable LOIHI_GEN={}\".format(os.environ[\"LOIHI_GEN\"]))\n"
     ]
    },
    {
     "name": "stdout",
     "output_type": "stream",
     "text": [
      "Partitioning converged after iteration=1\n",
      "Per core utilization:\n",
      "-------------------------------------------------------------------------\n",
      "| AxonIn |NeuronGr| Neurons|Synapses| AxonMap| AxonMem|  Total |  Cores |\n",
      "|-----------------------------------------------------------------------|\n",
      "|   0.06%|  12.50%|   0.24%|   0.19%|   0.06%|   0.00%|   0.30%|       1|\n",
      "|   0.80%|  12.50%|   0.24%|   2.39%|   0.06%|   0.00%|   2.66%|       1|\n",
      "|   0.80%|  12.50%|   3.13%|  30.60%|   0.80%|   0.00%|  26.41%|       1|\n",
      "|   3.20%|  12.50%|   3.13%|   3.20%|   0.80%|   0.00%|   6.41%|       1|\n",
      "|   0.80%|  12.50%|  25.01%|   0.80%|   3.20%|   0.00%|   8.96%|       1|\n",
      "|   0.02%|  12.50%|   3.13%|   0.66%|   0.80%|   0.00%|   1.83%|       1|\n",
      "|-----------------------------------------------------------------------|\n",
      "| Total                                                        |       6|\n",
      "-------------------------------------------------------------------------\n"
     ]
    },
    {
     "name": "stderr",
     "output_type": "stream",
     "text": [
      "/home/sveamari/lava_dev/frameworks.ai.nx.nxsdk/nxcore/arch/n3b/n3board.py:77: UserWarning: Loihi generation overriden by environment variable LOIHI_GEN=N3C1\n",
      "  warnings.warn(\"Loihi generation overriden by environment variable LOIHI_GEN={}\".format(os.environ[\"LOIHI_GEN\"]))\n"
     ]
    },
    {
     "name": "stdout",
     "output_type": "stream",
     "text": [
      "Partitioning converged after iteration=1\n",
      "Per core utilization:\n",
      "-------------------------------------------------------------------------\n",
      "| AxonIn |NeuronGr| Neurons|Synapses| AxonMap| AxonMem|  Total |  Cores |\n",
      "|-----------------------------------------------------------------------|\n",
      "|   0.06%|  12.50%|   0.24%|   0.19%|   0.06%|   0.00%|   0.30%|       1|\n",
      "|   0.80%|  12.50%|   0.24%|   2.39%|   0.06%|   0.00%|   2.66%|       1|\n",
      "|   0.80%|  12.50%|   3.13%|  30.60%|   0.80%|   0.00%|  26.41%|       1|\n",
      "|   3.20%|  12.50%|   3.13%|   3.20%|   0.80%|   0.00%|   6.41%|       1|\n",
      "|   0.80%|  12.50%|  25.01%|   0.80%|   3.20%|   0.00%|   8.96%|       1|\n",
      "|   0.02%|  12.50%|   3.13%|   0.66%|   0.80%|   0.00%|   1.83%|       1|\n",
      "|-----------------------------------------------------------------------|\n",
      "| Total                                                        |       6|\n",
      "-------------------------------------------------------------------------\n"
     ]
    },
    {
     "name": "stderr",
     "output_type": "stream",
     "text": [
      "/home/sveamari/lava_dev/frameworks.ai.nx.nxsdk/nxcore/arch/n3b/n3board.py:77: UserWarning: Loihi generation overriden by environment variable LOIHI_GEN=N3C1\n",
      "  warnings.warn(\"Loihi generation overriden by environment variable LOIHI_GEN={}\".format(os.environ[\"LOIHI_GEN\"]))\n"
     ]
    },
    {
     "name": "stdout",
     "output_type": "stream",
     "text": [
      "Partitioning converged after iteration=1\n",
      "Per core utilization:\n",
      "-------------------------------------------------------------------------\n",
      "| AxonIn |NeuronGr| Neurons|Synapses| AxonMap| AxonMem|  Total |  Cores |\n",
      "|-----------------------------------------------------------------------|\n",
      "|   0.06%|  12.50%|   0.24%|   0.19%|   0.06%|   0.00%|   0.30%|       1|\n",
      "|   0.80%|  12.50%|   0.24%|   2.39%|   0.06%|   0.00%|   2.66%|       1|\n",
      "|   0.80%|  12.50%|   3.13%|  30.60%|   0.80%|   0.00%|  26.41%|       1|\n",
      "|   3.20%|  12.50%|   3.13%|   3.20%|   0.80%|   0.00%|   6.41%|       1|\n",
      "|   0.80%|  12.50%|  25.01%|   0.80%|   3.20%|   0.00%|   8.96%|       1|\n",
      "|   0.02%|  12.50%|   3.13%|   0.66%|   0.80%|   0.00%|   1.83%|       1|\n",
      "|-----------------------------------------------------------------------|\n",
      "| Total                                                        |       6|\n",
      "-------------------------------------------------------------------------\n"
     ]
    },
    {
     "name": "stderr",
     "output_type": "stream",
     "text": [
      "/home/sveamari/lava_dev/frameworks.ai.nx.nxsdk/nxcore/arch/n3b/n3board.py:77: UserWarning: Loihi generation overriden by environment variable LOIHI_GEN=N3C1\n",
      "  warnings.warn(\"Loihi generation overriden by environment variable LOIHI_GEN={}\".format(os.environ[\"LOIHI_GEN\"]))\n"
     ]
    },
    {
     "name": "stdout",
     "output_type": "stream",
     "text": [
      "Partitioning converged after iteration=1\n",
      "Per core utilization:\n",
      "-------------------------------------------------------------------------\n",
      "| AxonIn |NeuronGr| Neurons|Synapses| AxonMap| AxonMem|  Total |  Cores |\n",
      "|-----------------------------------------------------------------------|\n",
      "|   0.06%|  12.50%|   0.24%|   0.19%|   0.06%|   0.00%|   0.30%|       1|\n",
      "|   0.80%|  12.50%|   0.24%|   2.39%|   0.06%|   0.00%|   2.66%|       1|\n",
      "|   0.80%|  12.50%|   3.13%|  30.60%|   0.80%|   0.00%|  26.41%|       1|\n",
      "|   3.20%|  12.50%|   3.13%|   3.20%|   0.80%|   0.00%|   6.41%|       1|\n",
      "|   0.80%|  12.50%|  25.01%|   0.80%|   3.20%|   0.00%|   8.96%|       1|\n",
      "|   0.02%|  12.50%|   3.13%|   0.66%|   0.80%|   0.00%|   1.83%|       1|\n",
      "|-----------------------------------------------------------------------|\n",
      "| Total                                                        |       6|\n",
      "-------------------------------------------------------------------------\n"
     ]
    },
    {
     "name": "stderr",
     "output_type": "stream",
     "text": [
      "/home/sveamari/lava_dev/frameworks.ai.nx.nxsdk/nxcore/arch/n3b/n3board.py:77: UserWarning: Loihi generation overriden by environment variable LOIHI_GEN=N3C1\n",
      "  warnings.warn(\"Loihi generation overriden by environment variable LOIHI_GEN={}\".format(os.environ[\"LOIHI_GEN\"]))\n"
     ]
    },
    {
     "name": "stdout",
     "output_type": "stream",
     "text": [
      "Partitioning converged after iteration=1\n",
      "Per core utilization:\n",
      "-------------------------------------------------------------------------\n",
      "| AxonIn |NeuronGr| Neurons|Synapses| AxonMap| AxonMem|  Total |  Cores |\n",
      "|-----------------------------------------------------------------------|\n",
      "|   0.06%|  12.50%|   0.24%|   0.19%|   0.06%|   0.00%|   0.30%|       1|\n",
      "|   0.80%|  12.50%|   0.24%|   2.39%|   0.06%|   0.00%|   2.66%|       1|\n",
      "|   0.80%|  12.50%|   3.13%|  30.60%|   0.80%|   0.00%|  26.41%|       1|\n",
      "|   3.20%|  12.50%|   3.13%|   3.20%|   0.80%|   0.00%|   6.41%|       1|\n",
      "|   0.80%|  12.50%|  25.01%|   0.80%|   3.20%|   0.00%|   8.96%|       1|\n",
      "|   0.02%|  12.50%|   3.13%|   0.66%|   0.80%|   0.00%|   1.83%|       1|\n",
      "|-----------------------------------------------------------------------|\n",
      "| Total                                                        |       6|\n",
      "-------------------------------------------------------------------------\n"
     ]
    },
    {
     "name": "stderr",
     "output_type": "stream",
     "text": [
      "/home/sveamari/lava_dev/frameworks.ai.nx.nxsdk/nxcore/arch/n3b/n3board.py:77: UserWarning: Loihi generation overriden by environment variable LOIHI_GEN=N3C1\n",
      "  warnings.warn(\"Loihi generation overriden by environment variable LOIHI_GEN={}\".format(os.environ[\"LOIHI_GEN\"]))\n"
     ]
    },
    {
     "name": "stdout",
     "output_type": "stream",
     "text": [
      "Partitioning converged after iteration=1\n",
      "Per core utilization:\n",
      "-------------------------------------------------------------------------\n",
      "| AxonIn |NeuronGr| Neurons|Synapses| AxonMap| AxonMem|  Total |  Cores |\n",
      "|-----------------------------------------------------------------------|\n",
      "|   0.06%|  12.50%|   0.24%|   0.19%|   0.06%|   0.00%|   0.30%|       1|\n",
      "|   0.80%|  12.50%|   0.24%|   2.39%|   0.06%|   0.00%|   2.66%|       1|\n",
      "|   0.80%|  12.50%|   3.13%|  30.60%|   0.80%|   0.00%|  26.41%|       1|\n",
      "|   3.20%|  12.50%|   3.13%|   3.20%|   0.80%|   0.00%|   6.41%|       1|\n",
      "|   0.80%|  12.50%|  25.01%|   0.80%|   3.20%|   0.00%|   8.96%|       1|\n",
      "|   0.02%|  12.50%|   3.13%|   0.66%|   0.80%|   0.00%|   1.83%|       1|\n",
      "|-----------------------------------------------------------------------|\n",
      "| Total                                                        |       6|\n",
      "-------------------------------------------------------------------------\n"
     ]
    },
    {
     "name": "stderr",
     "output_type": "stream",
     "text": [
      "/home/sveamari/lava_dev/frameworks.ai.nx.nxsdk/nxcore/arch/n3b/n3board.py:77: UserWarning: Loihi generation overriden by environment variable LOIHI_GEN=N3C1\n",
      "  warnings.warn(\"Loihi generation overriden by environment variable LOIHI_GEN={}\".format(os.environ[\"LOIHI_GEN\"]))\n"
     ]
    },
    {
     "name": "stdout",
     "output_type": "stream",
     "text": [
      "Partitioning converged after iteration=1\n",
      "Per core utilization:\n",
      "-------------------------------------------------------------------------\n",
      "| AxonIn |NeuronGr| Neurons|Synapses| AxonMap| AxonMem|  Total |  Cores |\n",
      "|-----------------------------------------------------------------------|\n",
      "|   0.06%|  12.50%|   0.24%|   0.19%|   0.06%|   0.00%|   0.30%|       1|\n",
      "|   0.80%|  12.50%|   0.24%|   2.39%|   0.06%|   0.00%|   2.66%|       1|\n",
      "|   0.80%|  12.50%|   3.13%|  30.60%|   0.80%|   0.00%|  26.41%|       1|\n",
      "|   3.20%|  12.50%|   3.13%|   3.20%|   0.80%|   0.00%|   6.41%|       1|\n",
      "|   0.80%|  12.50%|  25.01%|   0.80%|   3.20%|   0.00%|   8.96%|       1|\n",
      "|   0.02%|  12.50%|   3.13%|   0.66%|   0.80%|   0.00%|   1.83%|       1|\n",
      "|-----------------------------------------------------------------------|\n",
      "| Total                                                        |       6|\n",
      "-------------------------------------------------------------------------\n"
     ]
    },
    {
     "name": "stderr",
     "output_type": "stream",
     "text": [
      "/home/sveamari/lava_dev/frameworks.ai.nx.nxsdk/nxcore/arch/n3b/n3board.py:77: UserWarning: Loihi generation overriden by environment variable LOIHI_GEN=N3C1\n",
      "  warnings.warn(\"Loihi generation overriden by environment variable LOIHI_GEN={}\".format(os.environ[\"LOIHI_GEN\"]))\n"
     ]
    },
    {
     "name": "stdout",
     "output_type": "stream",
     "text": [
      "Partitioning converged after iteration=1\n",
      "Per core utilization:\n",
      "-------------------------------------------------------------------------\n",
      "| AxonIn |NeuronGr| Neurons|Synapses| AxonMap| AxonMem|  Total |  Cores |\n",
      "|-----------------------------------------------------------------------|\n",
      "|   0.06%|  12.50%|   0.24%|   0.19%|   0.06%|   0.00%|   0.30%|       1|\n",
      "|   0.80%|  12.50%|   0.24%|   2.39%|   0.06%|   0.00%|   2.66%|       1|\n",
      "|   0.80%|  12.50%|   3.13%|  30.60%|   0.80%|   0.00%|  26.41%|       1|\n",
      "|   3.20%|  12.50%|   3.13%|   3.20%|   0.80%|   0.00%|   6.41%|       1|\n",
      "|   0.80%|  12.50%|  25.01%|   0.80%|   3.20%|   0.00%|   8.96%|       1|\n",
      "|   0.02%|  12.50%|   3.13%|   0.66%|   0.80%|   0.00%|   1.83%|       1|\n",
      "|-----------------------------------------------------------------------|\n",
      "| Total                                                        |       6|\n",
      "-------------------------------------------------------------------------\n"
     ]
    },
    {
     "name": "stderr",
     "output_type": "stream",
     "text": [
      "/home/sveamari/lava_dev/frameworks.ai.nx.nxsdk/nxcore/arch/n3b/n3board.py:77: UserWarning: Loihi generation overriden by environment variable LOIHI_GEN=N3C1\n",
      "  warnings.warn(\"Loihi generation overriden by environment variable LOIHI_GEN={}\".format(os.environ[\"LOIHI_GEN\"]))\n"
     ]
    },
    {
     "name": "stdout",
     "output_type": "stream",
     "text": [
      "Partitioning converged after iteration=1\n",
      "Per core utilization:\n",
      "-------------------------------------------------------------------------\n",
      "| AxonIn |NeuronGr| Neurons|Synapses| AxonMap| AxonMem|  Total |  Cores |\n",
      "|-----------------------------------------------------------------------|\n",
      "|   0.06%|  12.50%|   0.24%|   0.19%|   0.06%|   0.00%|   0.30%|       1|\n",
      "|   0.80%|  12.50%|   0.24%|   2.39%|   0.06%|   0.00%|   2.66%|       1|\n",
      "|   0.80%|  12.50%|   3.13%|  30.60%|   0.80%|   0.00%|  26.41%|       1|\n",
      "|   3.20%|  12.50%|   3.13%|   3.20%|   0.80%|   0.00%|   6.41%|       1|\n",
      "|   0.80%|  12.50%|  25.01%|   0.80%|   3.20%|   0.00%|   8.96%|       1|\n",
      "|   0.02%|  12.50%|   3.13%|   0.66%|   0.80%|   0.00%|   1.83%|       1|\n",
      "|-----------------------------------------------------------------------|\n",
      "| Total                                                        |       6|\n",
      "-------------------------------------------------------------------------\n"
     ]
    },
    {
     "name": "stderr",
     "output_type": "stream",
     "text": [
      "/home/sveamari/lava_dev/frameworks.ai.nx.nxsdk/nxcore/arch/n3b/n3board.py:77: UserWarning: Loihi generation overriden by environment variable LOIHI_GEN=N3C1\n",
      "  warnings.warn(\"Loihi generation overriden by environment variable LOIHI_GEN={}\".format(os.environ[\"LOIHI_GEN\"]))\n"
     ]
    },
    {
     "name": "stdout",
     "output_type": "stream",
     "text": [
      "Partitioning converged after iteration=1\n",
      "Per core utilization:\n",
      "-------------------------------------------------------------------------\n",
      "| AxonIn |NeuronGr| Neurons|Synapses| AxonMap| AxonMem|  Total |  Cores |\n",
      "|-----------------------------------------------------------------------|\n",
      "|   0.06%|  12.50%|   0.24%|   0.19%|   0.06%|   0.00%|   0.30%|       1|\n",
      "|   0.80%|  12.50%|   0.24%|   2.39%|   0.06%|   0.00%|   2.66%|       1|\n",
      "|   0.80%|  12.50%|   3.13%|  30.60%|   0.80%|   0.00%|  26.41%|       1|\n",
      "|   3.20%|  12.50%|   3.13%|   3.20%|   0.80%|   0.00%|   6.41%|       1|\n",
      "|   0.80%|  12.50%|  25.01%|   0.80%|   3.20%|   0.00%|   8.96%|       1|\n",
      "|   0.02%|  12.50%|   3.13%|   0.66%|   0.80%|   0.00%|   1.83%|       1|\n",
      "|-----------------------------------------------------------------------|\n",
      "| Total                                                        |       6|\n",
      "-------------------------------------------------------------------------\n"
     ]
    },
    {
     "name": "stderr",
     "output_type": "stream",
     "text": [
      "/home/sveamari/lava_dev/frameworks.ai.nx.nxsdk/nxcore/arch/n3b/n3board.py:77: UserWarning: Loihi generation overriden by environment variable LOIHI_GEN=N3C1\n",
      "  warnings.warn(\"Loihi generation overriden by environment variable LOIHI_GEN={}\".format(os.environ[\"LOIHI_GEN\"]))\n"
     ]
    },
    {
     "name": "stdout",
     "output_type": "stream",
     "text": [
      "Partitioning converged after iteration=1\n",
      "Per core utilization:\n",
      "-------------------------------------------------------------------------\n",
      "| AxonIn |NeuronGr| Neurons|Synapses| AxonMap| AxonMem|  Total |  Cores |\n",
      "|-----------------------------------------------------------------------|\n",
      "|   0.06%|  12.50%|   0.24%|   0.19%|   0.06%|   0.00%|   0.30%|       1|\n",
      "|   0.80%|  12.50%|   0.24%|   2.39%|   0.06%|   0.00%|   2.66%|       1|\n",
      "|   0.80%|  12.50%|   3.13%|  30.60%|   0.80%|   0.00%|  26.41%|       1|\n",
      "|   3.20%|  12.50%|   3.13%|   3.20%|   0.80%|   0.00%|   6.41%|       1|\n",
      "|   0.80%|  12.50%|  25.01%|   0.80%|   3.20%|   0.00%|   8.96%|       1|\n",
      "|   0.02%|  12.50%|   3.13%|   0.66%|   0.80%|   0.00%|   1.83%|       1|\n",
      "|-----------------------------------------------------------------------|\n",
      "| Total                                                        |       6|\n",
      "-------------------------------------------------------------------------\n"
     ]
    },
    {
     "name": "stderr",
     "output_type": "stream",
     "text": [
      "/home/sveamari/lava_dev/frameworks.ai.nx.nxsdk/nxcore/arch/n3b/n3board.py:77: UserWarning: Loihi generation overriden by environment variable LOIHI_GEN=N3C1\n",
      "  warnings.warn(\"Loihi generation overriden by environment variable LOIHI_GEN={}\".format(os.environ[\"LOIHI_GEN\"]))\n"
     ]
    },
    {
     "name": "stdout",
     "output_type": "stream",
     "text": [
      "Partitioning converged after iteration=1\n",
      "Per core utilization:\n",
      "-------------------------------------------------------------------------\n",
      "| AxonIn |NeuronGr| Neurons|Synapses| AxonMap| AxonMem|  Total |  Cores |\n",
      "|-----------------------------------------------------------------------|\n",
      "|   0.06%|  12.50%|   0.24%|   0.19%|   0.06%|   0.00%|   0.30%|       1|\n",
      "|   0.80%|  12.50%|   0.24%|   2.39%|   0.06%|   0.00%|   2.66%|       1|\n",
      "|   0.80%|  12.50%|   3.13%|  30.60%|   0.80%|   0.00%|  26.41%|       1|\n",
      "|   3.20%|  12.50%|   3.13%|   3.20%|   0.80%|   0.00%|   6.41%|       1|\n",
      "|   0.80%|  12.50%|  25.01%|   0.80%|   3.20%|   0.00%|   8.96%|       1|\n",
      "|   0.02%|  12.50%|   3.13%|   0.66%|   0.80%|   0.00%|   1.83%|       1|\n",
      "|-----------------------------------------------------------------------|\n",
      "| Total                                                        |       6|\n",
      "-------------------------------------------------------------------------\n"
     ]
    },
    {
     "name": "stderr",
     "output_type": "stream",
     "text": [
      "/home/sveamari/lava_dev/frameworks.ai.nx.nxsdk/nxcore/arch/n3b/n3board.py:77: UserWarning: Loihi generation overriden by environment variable LOIHI_GEN=N3C1\n",
      "  warnings.warn(\"Loihi generation overriden by environment variable LOIHI_GEN={}\".format(os.environ[\"LOIHI_GEN\"]))\n"
     ]
    },
    {
     "name": "stdout",
     "output_type": "stream",
     "text": [
      "Partitioning converged after iteration=1\n",
      "Per core utilization:\n",
      "-------------------------------------------------------------------------\n",
      "| AxonIn |NeuronGr| Neurons|Synapses| AxonMap| AxonMem|  Total |  Cores |\n",
      "|-----------------------------------------------------------------------|\n",
      "|   0.06%|  12.50%|   0.24%|   0.19%|   0.06%|   0.00%|   0.30%|       1|\n",
      "|   0.80%|  12.50%|   0.24%|   2.39%|   0.06%|   0.00%|   2.66%|       1|\n",
      "|   0.80%|  12.50%|   3.13%|  30.60%|   0.80%|   0.00%|  26.41%|       1|\n",
      "|   3.20%|  12.50%|   3.13%|   3.20%|   0.80%|   0.00%|   6.41%|       1|\n",
      "|   0.80%|  12.50%|  25.01%|   0.80%|   3.20%|   0.00%|   8.96%|       1|\n",
      "|   0.02%|  12.50%|   3.13%|   0.66%|   0.80%|   0.00%|   1.83%|       1|\n",
      "|-----------------------------------------------------------------------|\n",
      "| Total                                                        |       6|\n",
      "-------------------------------------------------------------------------\n"
     ]
    },
    {
     "name": "stderr",
     "output_type": "stream",
     "text": [
      "/home/sveamari/lava_dev/frameworks.ai.nx.nxsdk/nxcore/arch/n3b/n3board.py:77: UserWarning: Loihi generation overriden by environment variable LOIHI_GEN=N3C1\n",
      "  warnings.warn(\"Loihi generation overriden by environment variable LOIHI_GEN={}\".format(os.environ[\"LOIHI_GEN\"]))\n"
     ]
    },
    {
     "name": "stdout",
     "output_type": "stream",
     "text": [
      "Partitioning converged after iteration=1\n",
      "Per core utilization:\n",
      "-------------------------------------------------------------------------\n",
      "| AxonIn |NeuronGr| Neurons|Synapses| AxonMap| AxonMem|  Total |  Cores |\n",
      "|-----------------------------------------------------------------------|\n",
      "|   0.06%|  12.50%|   0.24%|   0.19%|   0.06%|   0.00%|   0.30%|       1|\n",
      "|   0.80%|  12.50%|   0.24%|   2.39%|   0.06%|   0.00%|   2.66%|       1|\n",
      "|   0.80%|  12.50%|   3.13%|  30.60%|   0.80%|   0.00%|  26.41%|       1|\n",
      "|   3.20%|  12.50%|   3.13%|   3.20%|   0.80%|   0.00%|   6.41%|       1|\n",
      "|   0.80%|  12.50%|  25.01%|   0.80%|   3.20%|   0.00%|   8.96%|       1|\n",
      "|   0.02%|  12.50%|   3.13%|   0.66%|   0.80%|   0.00%|   1.83%|       1|\n",
      "|-----------------------------------------------------------------------|\n",
      "| Total                                                        |       6|\n",
      "-------------------------------------------------------------------------\n"
     ]
    },
    {
     "name": "stderr",
     "output_type": "stream",
     "text": [
      "/home/sveamari/lava_dev/frameworks.ai.nx.nxsdk/nxcore/arch/n3b/n3board.py:77: UserWarning: Loihi generation overriden by environment variable LOIHI_GEN=N3C1\n",
      "  warnings.warn(\"Loihi generation overriden by environment variable LOIHI_GEN={}\".format(os.environ[\"LOIHI_GEN\"]))\n"
     ]
    },
    {
     "name": "stdout",
     "output_type": "stream",
     "text": [
      "Partitioning converged after iteration=1\n",
      "Per core utilization:\n",
      "-------------------------------------------------------------------------\n",
      "| AxonIn |NeuronGr| Neurons|Synapses| AxonMap| AxonMem|  Total |  Cores |\n",
      "|-----------------------------------------------------------------------|\n",
      "|   0.06%|  12.50%|   0.24%|   0.19%|   0.06%|   0.00%|   0.30%|       1|\n",
      "|   0.80%|  12.50%|   0.24%|   2.39%|   0.06%|   0.00%|   2.66%|       1|\n",
      "|   0.80%|  12.50%|   3.13%|  30.60%|   0.80%|   0.00%|  26.41%|       1|\n",
      "|   3.20%|  12.50%|   3.13%|   3.20%|   0.80%|   0.00%|   6.41%|       1|\n",
      "|   0.80%|  12.50%|  25.01%|   0.80%|   3.20%|   0.00%|   8.96%|       1|\n",
      "|   0.02%|  12.50%|   3.13%|   0.66%|   0.80%|   0.00%|   1.83%|       1|\n",
      "|-----------------------------------------------------------------------|\n",
      "| Total                                                        |       6|\n",
      "-------------------------------------------------------------------------\n"
     ]
    },
    {
     "name": "stderr",
     "output_type": "stream",
     "text": [
      "/home/sveamari/lava_dev/frameworks.ai.nx.nxsdk/nxcore/arch/n3b/n3board.py:77: UserWarning: Loihi generation overriden by environment variable LOIHI_GEN=N3C1\n",
      "  warnings.warn(\"Loihi generation overriden by environment variable LOIHI_GEN={}\".format(os.environ[\"LOIHI_GEN\"]))\n"
     ]
    },
    {
     "name": "stdout",
     "output_type": "stream",
     "text": [
      "Partitioning converged after iteration=1\n",
      "Per core utilization:\n",
      "-------------------------------------------------------------------------\n",
      "| AxonIn |NeuronGr| Neurons|Synapses| AxonMap| AxonMem|  Total |  Cores |\n",
      "|-----------------------------------------------------------------------|\n",
      "|   0.06%|  12.50%|   0.24%|   0.19%|   0.06%|   0.00%|   0.30%|       1|\n",
      "|   0.80%|  12.50%|   0.24%|   2.39%|   0.06%|   0.00%|   2.66%|       1|\n",
      "|   0.80%|  12.50%|   3.13%|  30.60%|   0.80%|   0.00%|  26.41%|       1|\n",
      "|   3.20%|  12.50%|   3.13%|   3.20%|   0.80%|   0.00%|   6.41%|       1|\n",
      "|   0.80%|  12.50%|  25.01%|   0.80%|   3.20%|   0.00%|   8.96%|       1|\n",
      "|   0.02%|  12.50%|   3.13%|   0.66%|   0.80%|   0.00%|   1.83%|       1|\n",
      "|-----------------------------------------------------------------------|\n",
      "| Total                                                        |       6|\n",
      "-------------------------------------------------------------------------\n"
     ]
    },
    {
     "name": "stderr",
     "output_type": "stream",
     "text": [
      "/home/sveamari/lava_dev/frameworks.ai.nx.nxsdk/nxcore/arch/n3b/n3board.py:77: UserWarning: Loihi generation overriden by environment variable LOIHI_GEN=N3C1\n",
      "  warnings.warn(\"Loihi generation overriden by environment variable LOIHI_GEN={}\".format(os.environ[\"LOIHI_GEN\"]))\n"
     ]
    },
    {
     "name": "stdout",
     "output_type": "stream",
     "text": [
      "Partitioning converged after iteration=1\n",
      "Per core utilization:\n",
      "-------------------------------------------------------------------------\n",
      "| AxonIn |NeuronGr| Neurons|Synapses| AxonMap| AxonMem|  Total |  Cores |\n",
      "|-----------------------------------------------------------------------|\n",
      "|   0.06%|  12.50%|   0.24%|   0.19%|   0.06%|   0.00%|   0.30%|       1|\n",
      "|   0.80%|  12.50%|   0.24%|   2.39%|   0.06%|   0.00%|   2.66%|       1|\n",
      "|   0.80%|  12.50%|   3.13%|  30.60%|   0.80%|   0.00%|  26.41%|       1|\n",
      "|   3.20%|  12.50%|   3.13%|   3.20%|   0.80%|   0.00%|   6.41%|       1|\n",
      "|   0.80%|  12.50%|  25.01%|   0.80%|   3.20%|   0.00%|   8.96%|       1|\n",
      "|   0.02%|  12.50%|   3.13%|   0.66%|   0.80%|   0.00%|   1.83%|       1|\n",
      "|-----------------------------------------------------------------------|\n",
      "| Total                                                        |       6|\n",
      "-------------------------------------------------------------------------\n"
     ]
    },
    {
     "name": "stderr",
     "output_type": "stream",
     "text": [
      "/home/sveamari/lava_dev/frameworks.ai.nx.nxsdk/nxcore/arch/n3b/n3board.py:77: UserWarning: Loihi generation overriden by environment variable LOIHI_GEN=N3C1\n",
      "  warnings.warn(\"Loihi generation overriden by environment variable LOIHI_GEN={}\".format(os.environ[\"LOIHI_GEN\"]))\n"
     ]
    },
    {
     "name": "stdout",
     "output_type": "stream",
     "text": [
      "Partitioning converged after iteration=1\n",
      "Per core utilization:\n",
      "-------------------------------------------------------------------------\n",
      "| AxonIn |NeuronGr| Neurons|Synapses| AxonMap| AxonMem|  Total |  Cores |\n",
      "|-----------------------------------------------------------------------|\n",
      "|   0.06%|  12.50%|   0.24%|   0.19%|   0.06%|   0.00%|   0.30%|       1|\n",
      "|   0.80%|  12.50%|   0.24%|   2.39%|   0.06%|   0.00%|   2.66%|       1|\n",
      "|   0.80%|  12.50%|   3.13%|  30.60%|   0.80%|   0.00%|  26.41%|       1|\n",
      "|   3.20%|  12.50%|   3.13%|   3.20%|   0.80%|   0.00%|   6.41%|       1|\n",
      "|   0.80%|  12.50%|  25.01%|   0.80%|   3.20%|   0.00%|   8.96%|       1|\n",
      "|   0.02%|  12.50%|   3.13%|   0.66%|   0.80%|   0.00%|   1.83%|       1|\n",
      "|-----------------------------------------------------------------------|\n",
      "| Total                                                        |       6|\n",
      "-------------------------------------------------------------------------\n"
     ]
    },
    {
     "name": "stderr",
     "output_type": "stream",
     "text": [
      "/home/sveamari/lava_dev/frameworks.ai.nx.nxsdk/nxcore/arch/n3b/n3board.py:77: UserWarning: Loihi generation overriden by environment variable LOIHI_GEN=N3C1\n",
      "  warnings.warn(\"Loihi generation overriden by environment variable LOIHI_GEN={}\".format(os.environ[\"LOIHI_GEN\"]))\n"
     ]
    },
    {
     "name": "stdout",
     "output_type": "stream",
     "text": [
      "Partitioning converged after iteration=1\n",
      "Per core utilization:\n",
      "-------------------------------------------------------------------------\n",
      "| AxonIn |NeuronGr| Neurons|Synapses| AxonMap| AxonMem|  Total |  Cores |\n",
      "|-----------------------------------------------------------------------|\n",
      "|   0.06%|  12.50%|   0.24%|   0.19%|   0.06%|   0.00%|   0.30%|       1|\n",
      "|   0.80%|  12.50%|   0.24%|   2.39%|   0.06%|   0.00%|   2.66%|       1|\n",
      "|   0.80%|  12.50%|   3.13%|  30.60%|   0.80%|   0.00%|  26.41%|       1|\n",
      "|   3.20%|  12.50%|   3.13%|   3.20%|   0.80%|   0.00%|   6.41%|       1|\n",
      "|   0.80%|  12.50%|  25.01%|   0.80%|   3.20%|   0.00%|   8.96%|       1|\n",
      "|   0.02%|  12.50%|   3.13%|   0.66%|   0.80%|   0.00%|   1.83%|       1|\n",
      "|-----------------------------------------------------------------------|\n",
      "| Total                                                        |       6|\n",
      "-------------------------------------------------------------------------\n"
     ]
    },
    {
     "name": "stderr",
     "output_type": "stream",
     "text": [
      "/home/sveamari/lava_dev/frameworks.ai.nx.nxsdk/nxcore/arch/n3b/n3board.py:77: UserWarning: Loihi generation overriden by environment variable LOIHI_GEN=N3C1\n",
      "  warnings.warn(\"Loihi generation overriden by environment variable LOIHI_GEN={}\".format(os.environ[\"LOIHI_GEN\"]))\n"
     ]
    },
    {
     "name": "stdout",
     "output_type": "stream",
     "text": [
      "Partitioning converged after iteration=1\n",
      "Per core utilization:\n",
      "-------------------------------------------------------------------------\n",
      "| AxonIn |NeuronGr| Neurons|Synapses| AxonMap| AxonMem|  Total |  Cores |\n",
      "|-----------------------------------------------------------------------|\n",
      "|   0.06%|  12.50%|   0.24%|   0.19%|   0.06%|   0.00%|   0.30%|       1|\n",
      "|   0.80%|  12.50%|   0.24%|   2.39%|   0.06%|   0.00%|   2.66%|       1|\n",
      "|   0.80%|  12.50%|   3.13%|  30.60%|   0.80%|   0.00%|  26.41%|       1|\n",
      "|   3.20%|  12.50%|   3.13%|   3.20%|   0.80%|   0.00%|   6.41%|       1|\n",
      "|   0.80%|  12.50%|  25.01%|   0.80%|   3.20%|   0.00%|   8.96%|       1|\n",
      "|   0.02%|  12.50%|   3.13%|   0.66%|   0.80%|   0.00%|   1.83%|       1|\n",
      "|-----------------------------------------------------------------------|\n",
      "| Total                                                        |       6|\n",
      "-------------------------------------------------------------------------\n"
     ]
    },
    {
     "name": "stderr",
     "output_type": "stream",
     "text": [
      "/home/sveamari/lava_dev/frameworks.ai.nx.nxsdk/nxcore/arch/n3b/n3board.py:77: UserWarning: Loihi generation overriden by environment variable LOIHI_GEN=N3C1\n",
      "  warnings.warn(\"Loihi generation overriden by environment variable LOIHI_GEN={}\".format(os.environ[\"LOIHI_GEN\"]))\n"
     ]
    },
    {
     "name": "stdout",
     "output_type": "stream",
     "text": [
      "Partitioning converged after iteration=1\n",
      "Per core utilization:\n",
      "-------------------------------------------------------------------------\n",
      "| AxonIn |NeuronGr| Neurons|Synapses| AxonMap| AxonMem|  Total |  Cores |\n",
      "|-----------------------------------------------------------------------|\n",
      "|   0.06%|  12.50%|   0.24%|   0.19%|   0.06%|   0.00%|   0.30%|       1|\n",
      "|   0.80%|  12.50%|   0.24%|   2.39%|   0.06%|   0.00%|   2.66%|       1|\n",
      "|   0.80%|  12.50%|   3.13%|  30.60%|   0.80%|   0.00%|  26.41%|       1|\n",
      "|   3.20%|  12.50%|   3.13%|   3.20%|   0.80%|   0.00%|   6.41%|       1|\n",
      "|   0.80%|  12.50%|  25.01%|   0.80%|   3.20%|   0.00%|   8.96%|       1|\n",
      "|   0.02%|  12.50%|   3.13%|   0.66%|   0.80%|   0.00%|   1.83%|       1|\n",
      "|-----------------------------------------------------------------------|\n",
      "| Total                                                        |       6|\n",
      "-------------------------------------------------------------------------\n"
     ]
    },
    {
     "name": "stderr",
     "output_type": "stream",
     "text": [
      "/home/sveamari/lava_dev/frameworks.ai.nx.nxsdk/nxcore/arch/n3b/n3board.py:77: UserWarning: Loihi generation overriden by environment variable LOIHI_GEN=N3C1\n",
      "  warnings.warn(\"Loihi generation overriden by environment variable LOIHI_GEN={}\".format(os.environ[\"LOIHI_GEN\"]))\n"
     ]
    },
    {
     "name": "stdout",
     "output_type": "stream",
     "text": [
      "Partitioning converged after iteration=1\n",
      "Per core utilization:\n",
      "-------------------------------------------------------------------------\n",
      "| AxonIn |NeuronGr| Neurons|Synapses| AxonMap| AxonMem|  Total |  Cores |\n",
      "|-----------------------------------------------------------------------|\n",
      "|   0.06%|  12.50%|   0.24%|   0.19%|   0.06%|   0.00%|   0.30%|       1|\n",
      "|   0.80%|  12.50%|   0.24%|   2.39%|   0.06%|   0.00%|   2.66%|       1|\n",
      "|   0.80%|  12.50%|   3.13%|  30.60%|   0.80%|   0.00%|  26.41%|       1|\n",
      "|   3.20%|  12.50%|   3.13%|   3.20%|   0.80%|   0.00%|   6.41%|       1|\n",
      "|   0.80%|  12.50%|  25.01%|   0.80%|   3.20%|   0.00%|   8.96%|       1|\n",
      "|   0.02%|  12.50%|   3.13%|   0.66%|   0.80%|   0.00%|   1.83%|       1|\n",
      "|-----------------------------------------------------------------------|\n",
      "| Total                                                        |       6|\n",
      "-------------------------------------------------------------------------\n"
     ]
    },
    {
     "name": "stderr",
     "output_type": "stream",
     "text": [
      "/home/sveamari/lava_dev/frameworks.ai.nx.nxsdk/nxcore/arch/n3b/n3board.py:77: UserWarning: Loihi generation overriden by environment variable LOIHI_GEN=N3C1\n",
      "  warnings.warn(\"Loihi generation overriden by environment variable LOIHI_GEN={}\".format(os.environ[\"LOIHI_GEN\"]))\n"
     ]
    },
    {
     "name": "stdout",
     "output_type": "stream",
     "text": [
      "Partitioning converged after iteration=1\n",
      "Per core utilization:\n",
      "-------------------------------------------------------------------------\n",
      "| AxonIn |NeuronGr| Neurons|Synapses| AxonMap| AxonMem|  Total |  Cores |\n",
      "|-----------------------------------------------------------------------|\n",
      "|   0.06%|  12.50%|   0.24%|   0.19%|   0.06%|   0.00%|   0.30%|       1|\n",
      "|   0.80%|  12.50%|   0.24%|   2.39%|   0.06%|   0.00%|   2.66%|       1|\n",
      "|   0.80%|  12.50%|   3.13%|  30.60%|   0.80%|   0.00%|  26.41%|       1|\n",
      "|   3.20%|  12.50%|   3.13%|   3.20%|   0.80%|   0.00%|   6.41%|       1|\n",
      "|   0.80%|  12.50%|  25.01%|   0.80%|   3.20%|   0.00%|   8.96%|       1|\n",
      "|   0.02%|  12.50%|   3.13%|   0.66%|   0.80%|   0.00%|   1.83%|       1|\n",
      "|-----------------------------------------------------------------------|\n",
      "| Total                                                        |       6|\n",
      "-------------------------------------------------------------------------\n"
     ]
    },
    {
     "name": "stderr",
     "output_type": "stream",
     "text": [
      "/home/sveamari/lava_dev/frameworks.ai.nx.nxsdk/nxcore/arch/n3b/n3board.py:77: UserWarning: Loihi generation overriden by environment variable LOIHI_GEN=N3C1\n",
      "  warnings.warn(\"Loihi generation overriden by environment variable LOIHI_GEN={}\".format(os.environ[\"LOIHI_GEN\"]))\n"
     ]
    },
    {
     "name": "stdout",
     "output_type": "stream",
     "text": [
      "Partitioning converged after iteration=1\n",
      "Per core utilization:\n",
      "-------------------------------------------------------------------------\n",
      "| AxonIn |NeuronGr| Neurons|Synapses| AxonMap| AxonMem|  Total |  Cores |\n",
      "|-----------------------------------------------------------------------|\n",
      "|   0.06%|  12.50%|   0.24%|   0.19%|   0.06%|   0.00%|   0.30%|       1|\n",
      "|   0.80%|  12.50%|   0.24%|   2.39%|   0.06%|   0.00%|   2.66%|       1|\n",
      "|   0.80%|  12.50%|   3.13%|  30.60%|   0.80%|   0.00%|  26.41%|       1|\n",
      "|   3.20%|  12.50%|   3.13%|   3.20%|   0.80%|   0.00%|   6.41%|       1|\n",
      "|   0.80%|  12.50%|  25.01%|   0.80%|   3.20%|   0.00%|   8.96%|       1|\n",
      "|   0.02%|  12.50%|   3.13%|   0.66%|   0.80%|   0.00%|   1.83%|       1|\n",
      "|-----------------------------------------------------------------------|\n",
      "| Total                                                        |       6|\n",
      "-------------------------------------------------------------------------\n"
     ]
    },
    {
     "name": "stderr",
     "output_type": "stream",
     "text": [
      "/home/sveamari/lava_dev/frameworks.ai.nx.nxsdk/nxcore/arch/n3b/n3board.py:77: UserWarning: Loihi generation overriden by environment variable LOIHI_GEN=N3C1\n",
      "  warnings.warn(\"Loihi generation overriden by environment variable LOIHI_GEN={}\".format(os.environ[\"LOIHI_GEN\"]))\n"
     ]
    },
    {
     "name": "stdout",
     "output_type": "stream",
     "text": [
      "Partitioning converged after iteration=1\n",
      "Per core utilization:\n",
      "-------------------------------------------------------------------------\n",
      "| AxonIn |NeuronGr| Neurons|Synapses| AxonMap| AxonMem|  Total |  Cores |\n",
      "|-----------------------------------------------------------------------|\n",
      "|   0.06%|  12.50%|   0.24%|   0.19%|   0.06%|   0.00%|   0.30%|       1|\n",
      "|   0.80%|  12.50%|   0.24%|   2.39%|   0.06%|   0.00%|   2.66%|       1|\n",
      "|   0.80%|  12.50%|   3.13%|  30.60%|   0.80%|   0.00%|  26.41%|       1|\n",
      "|   3.20%|  12.50%|   3.13%|   3.20%|   0.80%|   0.00%|   6.41%|       1|\n",
      "|   0.80%|  12.50%|  25.01%|   0.80%|   3.20%|   0.00%|   8.96%|       1|\n",
      "|   0.02%|  12.50%|   3.13%|   0.66%|   0.80%|   0.00%|   1.83%|       1|\n",
      "|-----------------------------------------------------------------------|\n",
      "| Total                                                        |       6|\n",
      "-------------------------------------------------------------------------\n"
     ]
    },
    {
     "name": "stderr",
     "output_type": "stream",
     "text": [
      "/home/sveamari/lava_dev/frameworks.ai.nx.nxsdk/nxcore/arch/n3b/n3board.py:77: UserWarning: Loihi generation overriden by environment variable LOIHI_GEN=N3C1\n",
      "  warnings.warn(\"Loihi generation overriden by environment variable LOIHI_GEN={}\".format(os.environ[\"LOIHI_GEN\"]))\n"
     ]
    },
    {
     "name": "stdout",
     "output_type": "stream",
     "text": [
      "Partitioning converged after iteration=1\n",
      "Per core utilization:\n",
      "-------------------------------------------------------------------------\n",
      "| AxonIn |NeuronGr| Neurons|Synapses| AxonMap| AxonMem|  Total |  Cores |\n",
      "|-----------------------------------------------------------------------|\n",
      "|   0.06%|  12.50%|   0.24%|   0.19%|   0.06%|   0.00%|   0.30%|       1|\n",
      "|   0.80%|  12.50%|   0.24%|   2.39%|   0.06%|   0.00%|   2.66%|       1|\n",
      "|   0.80%|  12.50%|   3.13%|  30.60%|   0.80%|   0.00%|  26.41%|       1|\n",
      "|   3.20%|  12.50%|   3.13%|   3.20%|   0.80%|   0.00%|   6.41%|       1|\n",
      "|   0.80%|  12.50%|  25.01%|   0.80%|   3.20%|   0.00%|   8.96%|       1|\n",
      "|   0.02%|  12.50%|   3.13%|   0.66%|   0.80%|   0.00%|   1.83%|       1|\n",
      "|-----------------------------------------------------------------------|\n",
      "| Total                                                        |       6|\n",
      "-------------------------------------------------------------------------\n"
     ]
    },
    {
     "name": "stderr",
     "output_type": "stream",
     "text": [
      "/home/sveamari/lava_dev/frameworks.ai.nx.nxsdk/nxcore/arch/n3b/n3board.py:77: UserWarning: Loihi generation overriden by environment variable LOIHI_GEN=N3C1\n",
      "  warnings.warn(\"Loihi generation overriden by environment variable LOIHI_GEN={}\".format(os.environ[\"LOIHI_GEN\"]))\n"
     ]
    },
    {
     "name": "stdout",
     "output_type": "stream",
     "text": [
      "Partitioning converged after iteration=1\n",
      "Per core utilization:\n",
      "-------------------------------------------------------------------------\n",
      "| AxonIn |NeuronGr| Neurons|Synapses| AxonMap| AxonMem|  Total |  Cores |\n",
      "|-----------------------------------------------------------------------|\n",
      "|   0.06%|  12.50%|   0.24%|   0.19%|   0.06%|   0.00%|   0.30%|       1|\n",
      "|   0.80%|  12.50%|   0.24%|   2.39%|   0.06%|   0.00%|   2.66%|       1|\n",
      "|   0.80%|  12.50%|   3.13%|  30.60%|   0.80%|   0.00%|  26.41%|       1|\n",
      "|   3.20%|  12.50%|   3.13%|   3.20%|   0.80%|   0.00%|   6.41%|       1|\n",
      "|   0.80%|  12.50%|  25.01%|   0.80%|   3.20%|   0.00%|   8.96%|       1|\n",
      "|   0.02%|  12.50%|   3.13%|   0.66%|   0.80%|   0.00%|   1.83%|       1|\n",
      "|-----------------------------------------------------------------------|\n",
      "| Total                                                        |       6|\n",
      "-------------------------------------------------------------------------\n"
     ]
    },
    {
     "name": "stderr",
     "output_type": "stream",
     "text": [
      "/home/sveamari/lava_dev/frameworks.ai.nx.nxsdk/nxcore/arch/n3b/n3board.py:77: UserWarning: Loihi generation overriden by environment variable LOIHI_GEN=N3C1\n",
      "  warnings.warn(\"Loihi generation overriden by environment variable LOIHI_GEN={}\".format(os.environ[\"LOIHI_GEN\"]))\n"
     ]
    },
    {
     "name": "stdout",
     "output_type": "stream",
     "text": [
      "Partitioning converged after iteration=1\n",
      "Per core utilization:\n",
      "-------------------------------------------------------------------------\n",
      "| AxonIn |NeuronGr| Neurons|Synapses| AxonMap| AxonMem|  Total |  Cores |\n",
      "|-----------------------------------------------------------------------|\n",
      "|   0.06%|  12.50%|   0.24%|   0.19%|   0.06%|   0.00%|   0.30%|       1|\n",
      "|   0.80%|  12.50%|   0.24%|   2.39%|   0.06%|   0.00%|   2.66%|       1|\n",
      "|   0.80%|  12.50%|   3.13%|  30.60%|   0.80%|   0.00%|  26.41%|       1|\n",
      "|   3.20%|  12.50%|   3.13%|   3.20%|   0.80%|   0.00%|   6.41%|       1|\n",
      "|   0.80%|  12.50%|  25.01%|   0.80%|   3.20%|   0.00%|   8.96%|       1|\n",
      "|   0.02%|  12.50%|   3.13%|   0.66%|   0.80%|   0.00%|   1.83%|       1|\n",
      "|-----------------------------------------------------------------------|\n",
      "| Total                                                        |       6|\n",
      "-------------------------------------------------------------------------\n"
     ]
    },
    {
     "name": "stderr",
     "output_type": "stream",
     "text": [
      "/home/sveamari/lava_dev/frameworks.ai.nx.nxsdk/nxcore/arch/n3b/n3board.py:77: UserWarning: Loihi generation overriden by environment variable LOIHI_GEN=N3C1\n",
      "  warnings.warn(\"Loihi generation overriden by environment variable LOIHI_GEN={}\".format(os.environ[\"LOIHI_GEN\"]))\n"
     ]
    }
   ],
   "source": [
    "power_results = np.zeros((5, 5)) \n",
    "time_results =  np.zeros((5, 5))\n",
    "\n",
    "for idx, thres in enumerate([0, 0.1, 5]):\n",
    "    lava_dl_model_trained = SCIFARNetworkSlayer(d_model=d_model, n_states=n_states, threshold=thres, num_layers=1, get_last=False)\n",
    "    lava_dl_model_trained.load_state_dict(torch.load(\"./../training_logs/Trained_slayer_quantized/network_quantized.pt\"))\n",
    "    lava_dl_model_trained.eval()\n",
    "    out_dl_trained = lava_dl_model_trained(data_sample[0])\n",
    "\n",
    "    if os.path.exists(\"./../training_logs/netx_trained.net\"):\n",
    "        os.remove(\"./../training_logs/netx_trained.net\")\n",
    "    lava_dl_model_trained.export_hdf5(\"./../training_logs/netx_trained.net\")\n",
    "\n",
    "    for sample in range(6, 11):\n",
    "        loaded_net =  netx.hdf5.Network(net_config=\"./../training_logs/netx_trained.net\", input_message_bits=num_message_bits, sparse_fc_layer=True, skip_layers=1)\n",
    "        energy_profiler = example_run(loaded_net, \"energy\", sample)\n",
    "        net =  netx.hdf5.Network(net_config='./../training_logs/netx_trained.net', input_message_bits=num_message_bits, sparse_fc_layer=True, skip_layers=1)\n",
    "        time_profiler = example_run(net, \"time\", sample)\n",
    "        time_results[sample%5, idx]= (np.round(np.sum(time_profiler.execution_time), 6))\n",
    "        power_results[sample%5, idx] = (np.round(energy_profiler.power, 6)) "
   ]
  },
  {
   "cell_type": "code",
   "execution_count": 7,
   "metadata": {},
   "outputs": [
    {
     "data": {
      "text/plain": [
       "Text(0.5, 1.0, 'Power Measurement for 5 runs of S4D')"
      ]
     },
     "execution_count": 7,
     "metadata": {},
     "output_type": "execute_result"
    },
    {
     "data": {
      "image/png": "[encoded data removed]",
      "text/plain": [
       "<Figure size 1500x500 with 2 Axes>"
      ]
     },
     "metadata": {},
     "output_type": "display_data"
    }
   ],
   "source": [
    "fig, ax = plt.subplots(1,2, figsize=(15, 5))\n",
    "thres = [0, 0.1, 5]\n",
    "# add yrange\n",
    "for i in range(5):\n",
    "    ax[0].plot(thres, time_results[i, :3], marker= \"o\", linestyle = \"\")\n",
    "    ax[1].plot(thres, power_results[i, :3], marker= \"o\")\n",
    "ax[0].set_ylim([0, 0.5])\n",
    "ax[0].set_ylabel(\"Time in seconds\")\n",
    "ax[0].set_title(\"Execution time for 5 runs of S4D (6000 timesteps)\")\n",
    "ax[1].set_ylim([0, 0.5])\n",
    "# set y label\n",
    "ax[1].set_ylabel(\"Power in Watt\")\n",
    "ax[1].set_title(\"Power Measurement for 5 runs of S4D\")\n",
    "\n",
    "# i dont want the markers to be connected"
   ]
  },
  {
   "cell_type": "code",
   "execution_count": 8,
   "metadata": {},
   "outputs": [
    {
     "name": "stdout",
     "output_type": "stream",
     "text": [
      "Total execution time: 0.185119 s\n",
      "Total power: 0.038364 W\n",
      "Total energy: 0.007095 J\n",
      "Static energy: 0.018895 J\n"
     ]
    }
   ],
   "source": [
    "print(f\"Total execution time: {np.round(np.sum(time_profiler.execution_time), 6)} s\")\n",
    "print(f\"Total power: {np.round(energy_profiler.power, 6)} W\") \n",
    "print(f\"Total energy: {np.round(energy_profiler.energy, 6)} J\")\n",
    "print(f\"Static energy: {np.round(energy_profiler.static_energy, 6)} J\") "
   ]
  },
  {
   "cell_type": "code",
   "execution_count": 9,
   "metadata": {},
   "outputs": [
    {
     "data": {
      "image/png": "[encoded data removed]",
      "text/plain": [
       "<Figure size 1500x500 with 1 Axes>"
      ]
     },
     "metadata": {},
     "output_type": "display_data"
    }
   ],
   "source": [
    "time_profiler.plot_execution_time()"
   ]
  },
  {
   "cell_type": "code",
   "execution_count": 10,
   "metadata": {},
   "outputs": [],
   "source": [
    "# to-do:\n",
    "#- create csnips for 10 data_samples with/without difference\n",
    "#- allow for changing the threshold\n",
    "#- for all 10 datasamples get it for different thresholds\n",
    "#- for all 10 datasamples get it for the non SigmaDelta version "
   ]
  },
  {
   "cell_type": "code",
   "execution_count": 11,
   "metadata": {},
   "outputs": [
    {
     "name": "stdout",
     "output_type": "stream",
     "text": [
      "The workload ran on a Loihi 2 system with 1 available chips and occupied 1 chips.\n"
     ]
    }
   ],
   "source": [
    "energy_profiler.statement"
   ]
  },
  {
   "cell_type": "code",
   "execution_count": 12,
   "metadata": {},
   "outputs": [
    {
     "name": "stdout",
     "output_type": "stream",
     "text": [
      "Total Power   : 0.038364 W\n",
      "Dynamic Power : -0.063803 W\n",
      "Static Power  : 0.102167 W\n",
      "VDD Power     : 0.000909 W\n",
      "VDD-M Power   : 0.026364 W\n",
      "VDD-IO Power  : 0.011091 W\n",
      "Total Energy   : 7095.00 µJ\n",
      "Dynamic Energy : -11800.00 µJ\n",
      "Static Energy  : 18895.00 µJ\n",
      "VDD Energy     : 168.00 µJ\n",
      "VDD-M Energy   : 4876.00 µJ\n",
      "VDD-IO Energy  : 2051.00 µJ\n"
     ]
    },
    {
     "data": {
      "image/png": "[encoded data removed]",
      "text/plain": [
       "<Figure size 1500x500 with 1 Axes>"
      ]
     },
     "metadata": {},
     "output_type": "display_data"
    }
   ],
   "source": [
    "energy_profiler.power_breakdown()\n",
    "energy_profiler.energy_breakdown()\n",
    "energy_profiler.plot_activity()\n"
   ]
  }
 ],
 "metadata": {
  "kernelspec": {
   "display_name": ".lava_dev",
   "language": "python",
   "name": "python3"
  },
  "language_info": {
   "codemirror_mode": {
    "name": "ipython",
    "version": 3
   },
   "file_extension": ".py",
   "mimetype": "text/x-python",
   "name": "python",
   "nbconvert_exporter": "python",
   "pygments_lexer": "ipython3",
   "version": "3.8.10"
  }
 },
 "nbformat": 4,
 "nbformat_minor": 2
}
