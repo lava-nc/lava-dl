{
 "cells": [
  {
   "cell_type": "code",
   "execution_count": 1,
   "metadata": {},
   "outputs": [
    {
     "name": "stderr",
     "output_type": "stream",
     "text": [
      "CUDA extension for structured kernels (Cauchy and Vandermonde multiplication) not found. Install by going to extensions/kernels/ and running `python setup.py install`, for improved speed and memory efficiency. Note that the kernel changed for state-spaces 4.0 and must be recompiled.\n",
      "Falling back on slow Cauchy and Vandermonde kernel. Install at least one of pykeops or the CUDA extension for better speed and memory efficiency.\n"
     ]
    }
   ],
   "source": [
    "import logging\n",
    "import torch\n",
    "import numpy as np\n",
    "import matplotlib.pyplot as plt\n",
    "\n",
    "from lava.proc.io.source import RingBuffer as SourceBuffer\n",
    "from lava.proc.io.sink import RingBuffer as SinkBuffer\n",
    "from lava.proc.embedded_io.spike import PyToNxAdapter, NxToPyAdapter\n",
    "from lava.magma.core.run_conditions import RunSteps\n",
    "from lava.magma.core.run_configs import Loihi2HwCfg\n",
    "from lava.proc.dense.process import Dense\n",
    "from lava.proc.sdn.process import ActivationMode\n",
    "from lava.proc.s4d.process import SigmaS4dDelta, S4d\n",
    "from lava.proc.sparse.process import Sparse\n",
    "from lava.proc.spike_integrator.process import SpikeIntegrator, SpikeIntegrator32\n",
    "\n",
    "\n",
    "\n",
    "from lava.magma.core.run_conditions import RunSteps\n",
    "from lava.proc.lif.process import LIF\n",
    "from lava.proc.dense.process import Dense\n",
    "from lava.magma.compiler.subcompilers.nc.ncproc_compiler import CompilerOptions\n",
    "from lava.utils.profiler import Profiler\n",
    "from lava.lib.dl.slayer.state_space_models.sCIFAR.networks import SCIFARNetworkTorch\n",
    "from lava.lib.dl.slayer.state_space_models.sCIFAR import utils\n",
    "from lava.proc.receiver.process import Receiver\n",
    "from lava.proc.spike_injector.process import InputProcess\n",
    "\n",
    "\n",
    "import os\n",
    "from lava.utils.system import Loihi2\n",
    "\n",
    "loihi2_is_available = Loihi2.is_loihi2_available\n",
    "if loihi2_is_available:\n",
    "    # Enable SLURM, the workload manager used to distribute Loihi2 resources to users\n",
    "    os.environ['SLURM'] = '1'\n",
    "    os.environ['PARTITION'] = \"oheogulch\"\n",
    "    os.environ['LOIHI_GEN'] = \"N3C1\"\n",
    "    #os.environ[\"NXOPTIONS\"] = \"--vdd=0.65,--vddm=0.8\"\n",
    "import numpy as np\n",
    "\n",
    "\n",
    "np.set_printoptions(linewidth=110)  # Increase the line lenght of output cells.\n",
    "n_steps = 60000"
   ]
  },
  {
   "cell_type": "markdown",
   "metadata": {},
   "source": [
    "received_data_hw"
   ]
  },
  {
   "cell_type": "markdown",
   "metadata": {},
   "source": [
    "_, _, val_loader = utils.get_datasets() \n",
    "label, data_sample1 = next(enumerate(val_loader)) \n",
    "label, data_sample2 = next(enumerate(val_loader))\n",
    "label, data_sample3 = next(enumerate(val_loader))\n",
    "label, data_sample4 = next(enumerate(val_loader))\n",
    "label, data_sample5 = next(enumerate(val_loader))"
   ]
  },
  {
   "cell_type": "markdown",
   "metadata": {},
   "source": [
    "data_rescaled = torch.transpose(data_sample5[0], -1,-2)\n",
    "diff_inp = data_rescaled[:,:, 1:] - data_rescaled[:, :, :-1]\n",
    "data_sample_final = torch.from_numpy(np.concatenate((data_rescaled[:, :, :1], diff_inp), axis=2)).detach().numpy()[0].T * 2**12\n",
    "final_string = \"{\"\n",
    "for row in data_sample_final:\n",
    "    for idx, col in enumerate(row):\n",
    "        final_string += str(int(col)) \n",
    "        if idx in [0,1]:\n",
    "            final_string += \", \"\n",
    "    final_string += \"},\\n {\"\n",
    "print(final_string)"
   ]
  },
  {
   "cell_type": "code",
   "execution_count": 2,
   "metadata": {},
   "outputs": [
    {
     "name": "stderr",
     "output_type": "stream",
     "text": [
      "/home/sveamari/lava_dev/.lava_dev/lib/python3.8/site-packages/torch/ao/quantization/observer.py:214: UserWarning: Please use quant_min and quant_max to specify the range for observers.                     reduce_range will be deprecated in a future release of PyTorch.\n",
      "  warnings.warn(\n"
     ]
    },
    {
     "name": "stdout",
     "output_type": "stream",
     "text": [
      "==> Building model..\n"
     ]
    }
   ],
   "source": [
    "# Model\n",
    "print('==> Building model..')\n",
    "model = SCIFARNetworkTorch(\n",
    "    d_input=3,\n",
    "    d_output=10,\n",
    "    d_model=128,\n",
    "    d_state=4,\n",
    "    n_layers=1,\n",
    "    dropout=0,\n",
    "    get_last=False,\n",
    "    #prenorm=args.prenorm,\n",
    ")\n",
    "\n",
    "model.encoder.qconfig = torch.quantization.default_qat_qconfig\n",
    "model.ff_layers[0].qconfig = torch.quantization.default_qat_qconfig\n",
    "model.decoder.qconfig = torch.quantization.default_qat_qconfig\n",
    "torch.quantization.prepare_qat(model, inplace=True);\n",
    "\n",
    "checkpoint = torch.load('/home/sveamari/lava_dev/checkpoint/4_states_quantized_ckpt.pth')\n",
    "model.load_state_dict(checkpoint['model'])\n",
    "best_acc = checkpoint['acc']\n",
    "start_epoch = checkpoint['epoch']\n",
    "model.eval()\n",
    "model_converted = torch.quantization.convert(model, inplace=False)\n",
    "\n",
    "# get weights\n",
    "# for encoder\n",
    "w0 = model_converted.encoder.weight()\n",
    "wf0 = torch.dequantize(w0)\n",
    "encoder_weight = wf0 / w0.q_scale()\n",
    "\n",
    "# for ff layer\n",
    "w1 = model_converted.ff_layers[0][0].weight()\n",
    "wf1 = torch.dequantize(w1)\n",
    "ff_weight = wf1 / w1.q_scale()\n",
    "\n",
    "# for decoder\n",
    "w2 = model_converted.decoder.weight()\n",
    "wf2 = torch.dequantize(w2)\n",
    "decoder_weight = wf2 / w2.q_scale()"
   ]
  },
  {
   "cell_type": "markdown",
   "metadata": {},
   "source": [
    "#### Create Lava Network"
   ]
  },
  {
   "cell_type": "code",
   "execution_count": 3,
   "metadata": {},
   "outputs": [],
   "source": [
    "# S4 stuff\n",
    "model_dim = 128\n",
    "d_states = 4\n",
    "model.s4_layers[0].setup_step()\n",
    "A = model.s4_layers[0].layer.kernel.dA.detach().numpy()\n",
    "B = model.s4_layers[0].layer.kernel.dB.detach().numpy()\n",
    "C = model.s4_layers[0].layer.kernel.dC.detach().numpy()\n",
    "\n",
    "def example_run(profile, sample):\n",
    "    kron_matrix = np.kron(np.eye(model_dim), np.ones((d_states, )))\n",
    "\n",
    "\n",
    "\n",
    "    #encoder\n",
    "    input = InputProcess(shape=(3,), sample_num=sample, num_message_bits=24)\n",
    "    dense_1 = Sparse(weights=encoder_weight.numpy(), num_message_bits=24)\n",
    "    encoder = SpikeIntegrator(shape=(model_dim,), q_scale=w0.q_scale(), q_exp=15, relu_flag=False)\n",
    "\n",
    "    # S4D\n",
    "    dense_2 = Sparse(weights=kron_matrix.T, weight_exp=6, num_message_bits=24)\n",
    "    neuron = S4d(shape=((model_dim * d_states,)), state_exp = 6, s4_exp = 12,    # state exp doesn't get used here, currently hard coded to 6\n",
    "                            a=A.flatten().reshape((model_dim * d_states,)),\n",
    "                            b=B.flatten().reshape((model_dim * d_states,)),\n",
    "                            c=C.flatten().reshape((model_dim * d_states,)))\n",
    "    dense_3 = Sparse(weights=kron_matrix, num_message_bits=24, weight_exp=6)\n",
    "    relay = SpikeIntegrator(shape=(model_dim,), relu_flag=False, q_scale=1/(2**6), q_exp=6)\n",
    "\n",
    "    # FF\n",
    "    dense_4 = Sparse(weights=ff_weight.numpy(), num_message_bits=24)\n",
    "    ff_neuron = SpikeIntegrator(shape=(model_dim,), relu_flag=True, q_scale=w1.q_scale(), q_exp=15)\n",
    "\n",
    "    # decoder\n",
    "    dense_5 = Sparse(weights=decoder_weight.numpy(), num_message_bits=24)\n",
    "    decoder_neuron =SpikeIntegrator(shape=(10,), relu_flag=False, q_scale = w2.q_scale(), q_exp=10)\n",
    "\n",
    "    # output\n",
    "    dense_to_on_chip = Sparse(weights=np.eye(10), num_message_bits=24)  \n",
    "    on_chip_receiver = Receiver(shape=(10,))\n",
    "\n",
    "\n",
    "    # connect\n",
    "    input.out_port.connect(dense_1.s_in)\n",
    "    dense_1.a_out.connect(encoder.a_in)\n",
    "    encoder.s_out.connect(dense_2.s_in)\n",
    "    dense_2.a_out.connect(neuron.a_in)\n",
    "    neuron.s_out.connect(dense_3.s_in)\n",
    "    dense_3.a_out.connect(relay.a_in)\n",
    "    relay.s_out.connect(dense_4.s_in)\n",
    "    dense_4.a_out.connect(ff_neuron.a_in)\n",
    "    ff_neuron.s_out.connect(dense_5.s_in)\n",
    "    dense_5.a_out.connect(decoder_neuron.a_in)\n",
    "    decoder_neuron.s_out.connect(dense_to_on_chip.s_in)\n",
    "    dense_to_on_chip.a_out.connect(on_chip_receiver.a_in)\n",
    "\n",
    "\n",
    "    run_cfg = Loihi2HwCfg()\n",
    "    \n",
    "    # set up profiler\n",
    "    if profile == \"energy\":\n",
    "        profiler = Profiler.init(run_cfg)\n",
    "        profiler.energy_probe(num_steps=n_steps)\n",
    "        profiler.activity_probe()\n",
    "        profiler.memory_probe()\n",
    "    elif profile == \"time\":\n",
    "        profiler = Profiler.init(run_cfg)\n",
    "        profiler.execution_time_probe(num_steps=n_steps)\n",
    "    else:\n",
    "        profiler = None\n",
    "    \n",
    "\n",
    "    \n",
    "    encoder.run(\n",
    "                    condition=RunSteps(num_steps=n_steps), run_cfg=run_cfg\n",
    "                    )\n",
    "    encoder.stop()\n",
    "    return profiler\n",
    "\n",
    "\n",
    "\n",
    "\n"
   ]
  },
  {
   "cell_type": "code",
   "execution_count": 4,
   "metadata": {},
   "outputs": [
    {
     "name": "stdout",
     "output_type": "stream",
     "text": [
      "end\n",
      "Partitioning converged after iteration=1\n",
      "Per core utilization:\n",
      "-------------------------------------------------------------------------\n",
      "| AxonIn |NeuronGr| Neurons|Synapses| AxonMap| AxonMem|  Total |  Cores |\n",
      "|-----------------------------------------------------------------------|\n",
      "|   0.06%|  12.50%|   0.24%|   0.06%|   0.06%|   0.00%|   0.21%|       1|\n",
      "|   0.80%|  12.50%|   0.24%|   3.08%|   0.06%|   0.00%|   3.21%|       1|\n",
      "|   0.80%|  12.50%|   3.13%|  30.21%|   0.80%|   0.00%|  26.09%|       1|\n",
      "|   3.20%|  12.50%|   3.13%|   3.20%|   0.80%|   0.00%|   6.41%|       1|\n",
      "|   0.80%|  12.50%|  25.01%|   0.80%|   3.20%|   0.00%|   8.96%|       1|\n",
      "|   0.02%|  12.50%|   3.13%|   0.67%|   0.80%|   0.00%|   1.83%|       1|\n",
      "|-----------------------------------------------------------------------|\n",
      "| Total                                                        |       6|\n",
      "-------------------------------------------------------------------------\n"
     ]
    },
    {
     "name": "stderr",
     "output_type": "stream",
     "text": [
      "/home/sveamari/lava_dev/frameworks.ai.nx.nxsdk/nxcore/arch/n3b/n3board.py:77: UserWarning: Loihi generation overriden by environment variable LOIHI_GEN=N3C1\n",
      "  warnings.warn(\"Loihi generation overriden by environment variable LOIHI_GEN={}\".format(os.environ[\"LOIHI_GEN\"]))\n"
     ]
    },
    {
     "name": "stdout",
     "output_type": "stream",
     "text": [
      "end\n",
      "Partitioning converged after iteration=1\n",
      "Per core utilization:\n",
      "-------------------------------------------------------------------------\n",
      "| AxonIn |NeuronGr| Neurons|Synapses| AxonMap| AxonMem|  Total |  Cores |\n",
      "|-----------------------------------------------------------------------|\n",
      "|   0.06%|  12.50%|   0.24%|   0.06%|   0.06%|   0.00%|   0.21%|       1|\n",
      "|   0.80%|  12.50%|   0.24%|   3.08%|   0.06%|   0.00%|   3.21%|       1|\n",
      "|   0.80%|  12.50%|   3.13%|  30.21%|   0.80%|   0.00%|  26.09%|       1|\n",
      "|   3.20%|  12.50%|   3.13%|   3.20%|   0.80%|   0.00%|   6.41%|       1|\n",
      "|   0.80%|  12.50%|  25.01%|   0.80%|   3.20%|   0.00%|   8.96%|       1|\n",
      "|   0.02%|  12.50%|   3.13%|   0.67%|   0.80%|   0.00%|   1.83%|       1|\n",
      "|-----------------------------------------------------------------------|\n",
      "| Total                                                        |       6|\n",
      "-------------------------------------------------------------------------\n"
     ]
    },
    {
     "name": "stderr",
     "output_type": "stream",
     "text": [
      "/home/sveamari/lava_dev/frameworks.ai.nx.nxsdk/nxcore/arch/n3b/n3board.py:77: UserWarning: Loihi generation overriden by environment variable LOIHI_GEN=N3C1\n",
      "  warnings.warn(\"Loihi generation overriden by environment variable LOIHI_GEN={}\".format(os.environ[\"LOIHI_GEN\"]))\n"
     ]
    },
    {
     "name": "stdout",
     "output_type": "stream",
     "text": [
      "end\n",
      "Partitioning converged after iteration=1\n",
      "Per core utilization:\n",
      "-------------------------------------------------------------------------\n",
      "| AxonIn |NeuronGr| Neurons|Synapses| AxonMap| AxonMem|  Total |  Cores |\n",
      "|-----------------------------------------------------------------------|\n",
      "|   0.06%|  12.50%|   0.24%|   0.06%|   0.06%|   0.00%|   0.21%|       1|\n",
      "|   0.80%|  12.50%|   0.24%|   3.08%|   0.06%|   0.00%|   3.21%|       1|\n",
      "|   0.80%|  12.50%|   3.13%|  30.21%|   0.80%|   0.00%|  26.09%|       1|\n",
      "|   3.20%|  12.50%|   3.13%|   3.20%|   0.80%|   0.00%|   6.41%|       1|\n",
      "|   0.80%|  12.50%|  25.01%|   0.80%|   3.20%|   0.00%|   8.96%|       1|\n",
      "|   0.02%|  12.50%|   3.13%|   0.67%|   0.80%|   0.00%|   1.83%|       1|\n",
      "|-----------------------------------------------------------------------|\n",
      "| Total                                                        |       6|\n",
      "-------------------------------------------------------------------------\n"
     ]
    },
    {
     "name": "stderr",
     "output_type": "stream",
     "text": [
      "/home/sveamari/lava_dev/frameworks.ai.nx.nxsdk/nxcore/arch/n3b/n3board.py:77: UserWarning: Loihi generation overriden by environment variable LOIHI_GEN=N3C1\n",
      "  warnings.warn(\"Loihi generation overriden by environment variable LOIHI_GEN={}\".format(os.environ[\"LOIHI_GEN\"]))\n"
     ]
    },
    {
     "name": "stdout",
     "output_type": "stream",
     "text": [
      "end\n",
      "Partitioning converged after iteration=1\n",
      "Per core utilization:\n",
      "-------------------------------------------------------------------------\n",
      "| AxonIn |NeuronGr| Neurons|Synapses| AxonMap| AxonMem|  Total |  Cores |\n",
      "|-----------------------------------------------------------------------|\n",
      "|   0.06%|  12.50%|   0.24%|   0.06%|   0.06%|   0.00%|   0.21%|       1|\n",
      "|   0.80%|  12.50%|   0.24%|   3.08%|   0.06%|   0.00%|   3.21%|       1|\n",
      "|   0.80%|  12.50%|   3.13%|  30.21%|   0.80%|   0.00%|  26.09%|       1|\n",
      "|   3.20%|  12.50%|   3.13%|   3.20%|   0.80%|   0.00%|   6.41%|       1|\n",
      "|   0.80%|  12.50%|  25.01%|   0.80%|   3.20%|   0.00%|   8.96%|       1|\n",
      "|   0.02%|  12.50%|   3.13%|   0.67%|   0.80%|   0.00%|   1.83%|       1|\n",
      "|-----------------------------------------------------------------------|\n",
      "| Total                                                        |       6|\n",
      "-------------------------------------------------------------------------\n"
     ]
    },
    {
     "name": "stderr",
     "output_type": "stream",
     "text": [
      "/home/sveamari/lava_dev/frameworks.ai.nx.nxsdk/nxcore/arch/n3b/n3board.py:77: UserWarning: Loihi generation overriden by environment variable LOIHI_GEN=N3C1\n",
      "  warnings.warn(\"Loihi generation overriden by environment variable LOIHI_GEN={}\".format(os.environ[\"LOIHI_GEN\"]))\n"
     ]
    },
    {
     "name": "stdout",
     "output_type": "stream",
     "text": [
      "end\n",
      "Partitioning converged after iteration=1\n",
      "Per core utilization:\n",
      "-------------------------------------------------------------------------\n",
      "| AxonIn |NeuronGr| Neurons|Synapses| AxonMap| AxonMem|  Total |  Cores |\n",
      "|-----------------------------------------------------------------------|\n",
      "|   0.06%|  12.50%|   0.24%|   0.06%|   0.06%|   0.00%|   0.21%|       1|\n",
      "|   0.80%|  12.50%|   0.24%|   3.08%|   0.06%|   0.00%|   3.21%|       1|\n",
      "|   0.80%|  12.50%|   3.13%|  30.21%|   0.80%|   0.00%|  26.09%|       1|\n",
      "|   3.20%|  12.50%|   3.13%|   3.20%|   0.80%|   0.00%|   6.41%|       1|\n",
      "|   0.80%|  12.50%|  25.01%|   0.80%|   3.20%|   0.00%|   8.96%|       1|\n",
      "|   0.02%|  12.50%|   3.13%|   0.67%|   0.80%|   0.00%|   1.83%|       1|\n",
      "|-----------------------------------------------------------------------|\n",
      "| Total                                                        |       6|\n",
      "-------------------------------------------------------------------------\n"
     ]
    },
    {
     "name": "stderr",
     "output_type": "stream",
     "text": [
      "/home/sveamari/lava_dev/frameworks.ai.nx.nxsdk/nxcore/arch/n3b/n3board.py:77: UserWarning: Loihi generation overriden by environment variable LOIHI_GEN=N3C1\n",
      "  warnings.warn(\"Loihi generation overriden by environment variable LOIHI_GEN={}\".format(os.environ[\"LOIHI_GEN\"]))\n"
     ]
    },
    {
     "name": "stdout",
     "output_type": "stream",
     "text": [
      "end\n",
      "Partitioning converged after iteration=1\n",
      "Per core utilization:\n",
      "-------------------------------------------------------------------------\n",
      "| AxonIn |NeuronGr| Neurons|Synapses| AxonMap| AxonMem|  Total |  Cores |\n",
      "|-----------------------------------------------------------------------|\n",
      "|   0.06%|  12.50%|   0.24%|   0.06%|   0.06%|   0.00%|   0.21%|       1|\n",
      "|   0.80%|  12.50%|   0.24%|   3.08%|   0.06%|   0.00%|   3.21%|       1|\n",
      "|   0.80%|  12.50%|   3.13%|  30.21%|   0.80%|   0.00%|  26.09%|       1|\n",
      "|   3.20%|  12.50%|   3.13%|   3.20%|   0.80%|   0.00%|   6.41%|       1|\n",
      "|   0.80%|  12.50%|  25.01%|   0.80%|   3.20%|   0.00%|   8.96%|       1|\n",
      "|   0.02%|  12.50%|   3.13%|   0.67%|   0.80%|   0.00%|   1.83%|       1|\n",
      "|-----------------------------------------------------------------------|\n",
      "| Total                                                        |       6|\n",
      "-------------------------------------------------------------------------\n"
     ]
    },
    {
     "name": "stderr",
     "output_type": "stream",
     "text": [
      "/home/sveamari/lava_dev/frameworks.ai.nx.nxsdk/nxcore/arch/n3b/n3board.py:77: UserWarning: Loihi generation overriden by environment variable LOIHI_GEN=N3C1\n",
      "  warnings.warn(\"Loihi generation overriden by environment variable LOIHI_GEN={}\".format(os.environ[\"LOIHI_GEN\"]))\n"
     ]
    },
    {
     "name": "stdout",
     "output_type": "stream",
     "text": [
      "end\n",
      "Partitioning converged after iteration=1\n",
      "Per core utilization:\n",
      "-------------------------------------------------------------------------\n",
      "| AxonIn |NeuronGr| Neurons|Synapses| AxonMap| AxonMem|  Total |  Cores |\n",
      "|-----------------------------------------------------------------------|\n",
      "|   0.06%|  12.50%|   0.24%|   0.06%|   0.06%|   0.00%|   0.21%|       1|\n",
      "|   0.80%|  12.50%|   0.24%|   3.08%|   0.06%|   0.00%|   3.21%|       1|\n",
      "|   0.80%|  12.50%|   3.13%|  30.21%|   0.80%|   0.00%|  26.09%|       1|\n",
      "|   3.20%|  12.50%|   3.13%|   3.20%|   0.80%|   0.00%|   6.41%|       1|\n",
      "|   0.80%|  12.50%|  25.01%|   0.80%|   3.20%|   0.00%|   8.96%|       1|\n",
      "|   0.02%|  12.50%|   3.13%|   0.67%|   0.80%|   0.00%|   1.83%|       1|\n",
      "|-----------------------------------------------------------------------|\n",
      "| Total                                                        |       6|\n",
      "-------------------------------------------------------------------------\n"
     ]
    },
    {
     "name": "stderr",
     "output_type": "stream",
     "text": [
      "/home/sveamari/lava_dev/frameworks.ai.nx.nxsdk/nxcore/arch/n3b/n3board.py:77: UserWarning: Loihi generation overriden by environment variable LOIHI_GEN=N3C1\n",
      "  warnings.warn(\"Loihi generation overriden by environment variable LOIHI_GEN={}\".format(os.environ[\"LOIHI_GEN\"]))\n"
     ]
    },
    {
     "name": "stdout",
     "output_type": "stream",
     "text": [
      "end\n",
      "Partitioning converged after iteration=1\n",
      "Per core utilization:\n",
      "-------------------------------------------------------------------------\n",
      "| AxonIn |NeuronGr| Neurons|Synapses| AxonMap| AxonMem|  Total |  Cores |\n",
      "|-----------------------------------------------------------------------|\n",
      "|   0.06%|  12.50%|   0.24%|   0.06%|   0.06%|   0.00%|   0.21%|       1|\n",
      "|   0.80%|  12.50%|   0.24%|   3.08%|   0.06%|   0.00%|   3.21%|       1|\n",
      "|   0.80%|  12.50%|   3.13%|  30.21%|   0.80%|   0.00%|  26.09%|       1|\n",
      "|   3.20%|  12.50%|   3.13%|   3.20%|   0.80%|   0.00%|   6.41%|       1|\n",
      "|   0.80%|  12.50%|  25.01%|   0.80%|   3.20%|   0.00%|   8.96%|       1|\n",
      "|   0.02%|  12.50%|   3.13%|   0.67%|   0.80%|   0.00%|   1.83%|       1|\n",
      "|-----------------------------------------------------------------------|\n",
      "| Total                                                        |       6|\n",
      "-------------------------------------------------------------------------\n"
     ]
    },
    {
     "name": "stderr",
     "output_type": "stream",
     "text": [
      "/home/sveamari/lava_dev/frameworks.ai.nx.nxsdk/nxcore/arch/n3b/n3board.py:77: UserWarning: Loihi generation overriden by environment variable LOIHI_GEN=N3C1\n",
      "  warnings.warn(\"Loihi generation overriden by environment variable LOIHI_GEN={}\".format(os.environ[\"LOIHI_GEN\"]))\n"
     ]
    },
    {
     "name": "stdout",
     "output_type": "stream",
     "text": [
      "end\n",
      "Partitioning converged after iteration=1\n",
      "Per core utilization:\n",
      "-------------------------------------------------------------------------\n",
      "| AxonIn |NeuronGr| Neurons|Synapses| AxonMap| AxonMem|  Total |  Cores |\n",
      "|-----------------------------------------------------------------------|\n",
      "|   0.06%|  12.50%|   0.24%|   0.06%|   0.06%|   0.00%|   0.21%|       1|\n",
      "|   0.80%|  12.50%|   0.24%|   3.08%|   0.06%|   0.00%|   3.21%|       1|\n",
      "|   0.80%|  12.50%|   3.13%|  30.21%|   0.80%|   0.00%|  26.09%|       1|\n",
      "|   3.20%|  12.50%|   3.13%|   3.20%|   0.80%|   0.00%|   6.41%|       1|\n",
      "|   0.80%|  12.50%|  25.01%|   0.80%|   3.20%|   0.00%|   8.96%|       1|\n",
      "|   0.02%|  12.50%|   3.13%|   0.67%|   0.80%|   0.00%|   1.83%|       1|\n",
      "|-----------------------------------------------------------------------|\n",
      "| Total                                                        |       6|\n",
      "-------------------------------------------------------------------------\n"
     ]
    },
    {
     "name": "stderr",
     "output_type": "stream",
     "text": [
      "/home/sveamari/lava_dev/frameworks.ai.nx.nxsdk/nxcore/arch/n3b/n3board.py:77: UserWarning: Loihi generation overriden by environment variable LOIHI_GEN=N3C1\n",
      "  warnings.warn(\"Loihi generation overriden by environment variable LOIHI_GEN={}\".format(os.environ[\"LOIHI_GEN\"]))\n"
     ]
    },
    {
     "name": "stdout",
     "output_type": "stream",
     "text": [
      "end\n",
      "Partitioning converged after iteration=1\n",
      "Per core utilization:\n",
      "-------------------------------------------------------------------------\n",
      "| AxonIn |NeuronGr| Neurons|Synapses| AxonMap| AxonMem|  Total |  Cores |\n",
      "|-----------------------------------------------------------------------|\n",
      "|   0.06%|  12.50%|   0.24%|   0.06%|   0.06%|   0.00%|   0.21%|       1|\n",
      "|   0.80%|  12.50%|   0.24%|   3.08%|   0.06%|   0.00%|   3.21%|       1|\n",
      "|   0.80%|  12.50%|   3.13%|  30.21%|   0.80%|   0.00%|  26.09%|       1|\n",
      "|   3.20%|  12.50%|   3.13%|   3.20%|   0.80%|   0.00%|   6.41%|       1|\n",
      "|   0.80%|  12.50%|  25.01%|   0.80%|   3.20%|   0.00%|   8.96%|       1|\n",
      "|   0.02%|  12.50%|   3.13%|   0.67%|   0.80%|   0.00%|   1.83%|       1|\n",
      "|-----------------------------------------------------------------------|\n",
      "| Total                                                        |       6|\n",
      "-------------------------------------------------------------------------\n"
     ]
    },
    {
     "name": "stderr",
     "output_type": "stream",
     "text": [
      "/home/sveamari/lava_dev/frameworks.ai.nx.nxsdk/nxcore/arch/n3b/n3board.py:77: UserWarning: Loihi generation overriden by environment variable LOIHI_GEN=N3C1\n",
      "  warnings.warn(\"Loihi generation overriden by environment variable LOIHI_GEN={}\".format(os.environ[\"LOIHI_GEN\"]))\n"
     ]
    },
    {
     "name": "stdout",
     "output_type": "stream",
     "text": [
      "end\n",
      "Partitioning converged after iteration=1\n",
      "Per core utilization:\n",
      "-------------------------------------------------------------------------\n",
      "| AxonIn |NeuronGr| Neurons|Synapses| AxonMap| AxonMem|  Total |  Cores |\n",
      "|-----------------------------------------------------------------------|\n",
      "|   0.06%|  12.50%|   0.24%|   0.06%|   0.06%|   0.00%|   0.21%|       1|\n",
      "|   0.80%|  12.50%|   0.24%|   3.08%|   0.06%|   0.00%|   3.21%|       1|\n",
      "|   0.80%|  12.50%|   3.13%|  30.21%|   0.80%|   0.00%|  26.09%|       1|\n",
      "|   3.20%|  12.50%|   3.13%|   3.20%|   0.80%|   0.00%|   6.41%|       1|\n",
      "|   0.80%|  12.50%|  25.01%|   0.80%|   3.20%|   0.00%|   8.96%|       1|\n",
      "|   0.02%|  12.50%|   3.13%|   0.67%|   0.80%|   0.00%|   1.83%|       1|\n",
      "|-----------------------------------------------------------------------|\n",
      "| Total                                                        |       6|\n",
      "-------------------------------------------------------------------------\n"
     ]
    },
    {
     "name": "stderr",
     "output_type": "stream",
     "text": [
      "/home/sveamari/lava_dev/frameworks.ai.nx.nxsdk/nxcore/arch/n3b/n3board.py:77: UserWarning: Loihi generation overriden by environment variable LOIHI_GEN=N3C1\n",
      "  warnings.warn(\"Loihi generation overriden by environment variable LOIHI_GEN={}\".format(os.environ[\"LOIHI_GEN\"]))\n"
     ]
    },
    {
     "name": "stdout",
     "output_type": "stream",
     "text": [
      "end\n",
      "Partitioning converged after iteration=1\n",
      "Per core utilization:\n",
      "-------------------------------------------------------------------------\n",
      "| AxonIn |NeuronGr| Neurons|Synapses| AxonMap| AxonMem|  Total |  Cores |\n",
      "|-----------------------------------------------------------------------|\n",
      "|   0.06%|  12.50%|   0.24%|   0.06%|   0.06%|   0.00%|   0.21%|       1|\n",
      "|   0.80%|  12.50%|   0.24%|   3.08%|   0.06%|   0.00%|   3.21%|       1|\n",
      "|   0.80%|  12.50%|   3.13%|  30.21%|   0.80%|   0.00%|  26.09%|       1|\n",
      "|   3.20%|  12.50%|   3.13%|   3.20%|   0.80%|   0.00%|   6.41%|       1|\n",
      "|   0.80%|  12.50%|  25.01%|   0.80%|   3.20%|   0.00%|   8.96%|       1|\n",
      "|   0.02%|  12.50%|   3.13%|   0.67%|   0.80%|   0.00%|   1.83%|       1|\n",
      "|-----------------------------------------------------------------------|\n",
      "| Total                                                        |       6|\n",
      "-------------------------------------------------------------------------\n"
     ]
    },
    {
     "name": "stderr",
     "output_type": "stream",
     "text": [
      "/home/sveamari/lava_dev/frameworks.ai.nx.nxsdk/nxcore/arch/n3b/n3board.py:77: UserWarning: Loihi generation overriden by environment variable LOIHI_GEN=N3C1\n",
      "  warnings.warn(\"Loihi generation overriden by environment variable LOIHI_GEN={}\".format(os.environ[\"LOIHI_GEN\"]))\n"
     ]
    },
    {
     "name": "stdout",
     "output_type": "stream",
     "text": [
      "end\n",
      "Partitioning converged after iteration=1\n",
      "Per core utilization:\n",
      "-------------------------------------------------------------------------\n",
      "| AxonIn |NeuronGr| Neurons|Synapses| AxonMap| AxonMem|  Total |  Cores |\n",
      "|-----------------------------------------------------------------------|\n",
      "|   0.06%|  12.50%|   0.24%|   0.06%|   0.06%|   0.00%|   0.21%|       1|\n",
      "|   0.80%|  12.50%|   0.24%|   3.08%|   0.06%|   0.00%|   3.21%|       1|\n",
      "|   0.80%|  12.50%|   3.13%|  30.21%|   0.80%|   0.00%|  26.09%|       1|\n",
      "|   3.20%|  12.50%|   3.13%|   3.20%|   0.80%|   0.00%|   6.41%|       1|\n",
      "|   0.80%|  12.50%|  25.01%|   0.80%|   3.20%|   0.00%|   8.96%|       1|\n",
      "|   0.02%|  12.50%|   3.13%|   0.67%|   0.80%|   0.00%|   1.83%|       1|\n",
      "|-----------------------------------------------------------------------|\n",
      "| Total                                                        |       6|\n",
      "-------------------------------------------------------------------------\n"
     ]
    },
    {
     "name": "stderr",
     "output_type": "stream",
     "text": [
      "/home/sveamari/lava_dev/frameworks.ai.nx.nxsdk/nxcore/arch/n3b/n3board.py:77: UserWarning: Loihi generation overriden by environment variable LOIHI_GEN=N3C1\n",
      "  warnings.warn(\"Loihi generation overriden by environment variable LOIHI_GEN={}\".format(os.environ[\"LOIHI_GEN\"]))\n"
     ]
    },
    {
     "name": "stdout",
     "output_type": "stream",
     "text": [
      "end\n",
      "Partitioning converged after iteration=1\n",
      "Per core utilization:\n",
      "-------------------------------------------------------------------------\n",
      "| AxonIn |NeuronGr| Neurons|Synapses| AxonMap| AxonMem|  Total |  Cores |\n",
      "|-----------------------------------------------------------------------|\n",
      "|   0.06%|  12.50%|   0.24%|   0.06%|   0.06%|   0.00%|   0.21%|       1|\n",
      "|   0.80%|  12.50%|   0.24%|   3.08%|   0.06%|   0.00%|   3.21%|       1|\n",
      "|   0.80%|  12.50%|   3.13%|  30.21%|   0.80%|   0.00%|  26.09%|       1|\n",
      "|   3.20%|  12.50%|   3.13%|   3.20%|   0.80%|   0.00%|   6.41%|       1|\n",
      "|   0.80%|  12.50%|  25.01%|   0.80%|   3.20%|   0.00%|   8.96%|       1|\n",
      "|   0.02%|  12.50%|   3.13%|   0.67%|   0.80%|   0.00%|   1.83%|       1|\n",
      "|-----------------------------------------------------------------------|\n",
      "| Total                                                        |       6|\n",
      "-------------------------------------------------------------------------\n"
     ]
    },
    {
     "name": "stderr",
     "output_type": "stream",
     "text": [
      "/home/sveamari/lava_dev/frameworks.ai.nx.nxsdk/nxcore/arch/n3b/n3board.py:77: UserWarning: Loihi generation overriden by environment variable LOIHI_GEN=N3C1\n",
      "  warnings.warn(\"Loihi generation overriden by environment variable LOIHI_GEN={}\".format(os.environ[\"LOIHI_GEN\"]))\n"
     ]
    },
    {
     "name": "stdout",
     "output_type": "stream",
     "text": [
      "end\n",
      "Partitioning converged after iteration=1\n",
      "Per core utilization:\n",
      "-------------------------------------------------------------------------\n",
      "| AxonIn |NeuronGr| Neurons|Synapses| AxonMap| AxonMem|  Total |  Cores |\n",
      "|-----------------------------------------------------------------------|\n",
      "|   0.06%|  12.50%|   0.24%|   0.06%|   0.06%|   0.00%|   0.21%|       1|\n",
      "|   0.80%|  12.50%|   0.24%|   3.08%|   0.06%|   0.00%|   3.21%|       1|\n",
      "|   0.80%|  12.50%|   3.13%|  30.21%|   0.80%|   0.00%|  26.09%|       1|\n",
      "|   3.20%|  12.50%|   3.13%|   3.20%|   0.80%|   0.00%|   6.41%|       1|\n",
      "|   0.80%|  12.50%|  25.01%|   0.80%|   3.20%|   0.00%|   8.96%|       1|\n",
      "|   0.02%|  12.50%|   3.13%|   0.67%|   0.80%|   0.00%|   1.83%|       1|\n",
      "|-----------------------------------------------------------------------|\n",
      "| Total                                                        |       6|\n",
      "-------------------------------------------------------------------------\n"
     ]
    },
    {
     "name": "stderr",
     "output_type": "stream",
     "text": [
      "/home/sveamari/lava_dev/frameworks.ai.nx.nxsdk/nxcore/arch/n3b/n3board.py:77: UserWarning: Loihi generation overriden by environment variable LOIHI_GEN=N3C1\n",
      "  warnings.warn(\"Loihi generation overriden by environment variable LOIHI_GEN={}\".format(os.environ[\"LOIHI_GEN\"]))\n"
     ]
    },
    {
     "name": "stdout",
     "output_type": "stream",
     "text": [
      "end\n",
      "Partitioning converged after iteration=1\n",
      "Per core utilization:\n",
      "-------------------------------------------------------------------------\n",
      "| AxonIn |NeuronGr| Neurons|Synapses| AxonMap| AxonMem|  Total |  Cores |\n",
      "|-----------------------------------------------------------------------|\n",
      "|   0.06%|  12.50%|   0.24%|   0.06%|   0.06%|   0.00%|   0.21%|       1|\n",
      "|   0.80%|  12.50%|   0.24%|   3.08%|   0.06%|   0.00%|   3.21%|       1|\n",
      "|   0.80%|  12.50%|   3.13%|  30.21%|   0.80%|   0.00%|  26.09%|       1|\n",
      "|   3.20%|  12.50%|   3.13%|   3.20%|   0.80%|   0.00%|   6.41%|       1|\n",
      "|   0.80%|  12.50%|  25.01%|   0.80%|   3.20%|   0.00%|   8.96%|       1|\n",
      "|   0.02%|  12.50%|   3.13%|   0.67%|   0.80%|   0.00%|   1.83%|       1|\n",
      "|-----------------------------------------------------------------------|\n",
      "| Total                                                        |       6|\n",
      "-------------------------------------------------------------------------\n"
     ]
    },
    {
     "name": "stderr",
     "output_type": "stream",
     "text": [
      "/home/sveamari/lava_dev/frameworks.ai.nx.nxsdk/nxcore/arch/n3b/n3board.py:77: UserWarning: Loihi generation overriden by environment variable LOIHI_GEN=N3C1\n",
      "  warnings.warn(\"Loihi generation overriden by environment variable LOIHI_GEN={}\".format(os.environ[\"LOIHI_GEN\"]))\n"
     ]
    },
    {
     "name": "stdout",
     "output_type": "stream",
     "text": [
      "end\n",
      "Partitioning converged after iteration=1\n",
      "Per core utilization:\n",
      "-------------------------------------------------------------------------\n",
      "| AxonIn |NeuronGr| Neurons|Synapses| AxonMap| AxonMem|  Total |  Cores |\n",
      "|-----------------------------------------------------------------------|\n",
      "|   0.06%|  12.50%|   0.24%|   0.06%|   0.06%|   0.00%|   0.21%|       1|\n",
      "|   0.80%|  12.50%|   0.24%|   3.08%|   0.06%|   0.00%|   3.21%|       1|\n",
      "|   0.80%|  12.50%|   3.13%|  30.21%|   0.80%|   0.00%|  26.09%|       1|\n",
      "|   3.20%|  12.50%|   3.13%|   3.20%|   0.80%|   0.00%|   6.41%|       1|\n",
      "|   0.80%|  12.50%|  25.01%|   0.80%|   3.20%|   0.00%|   8.96%|       1|\n",
      "|   0.02%|  12.50%|   3.13%|   0.67%|   0.80%|   0.00%|   1.83%|       1|\n",
      "|-----------------------------------------------------------------------|\n",
      "| Total                                                        |       6|\n",
      "-------------------------------------------------------------------------\n"
     ]
    },
    {
     "name": "stderr",
     "output_type": "stream",
     "text": [
      "/home/sveamari/lava_dev/frameworks.ai.nx.nxsdk/nxcore/arch/n3b/n3board.py:77: UserWarning: Loihi generation overriden by environment variable LOIHI_GEN=N3C1\n",
      "  warnings.warn(\"Loihi generation overriden by environment variable LOIHI_GEN={}\".format(os.environ[\"LOIHI_GEN\"]))\n"
     ]
    },
    {
     "name": "stdout",
     "output_type": "stream",
     "text": [
      "end\n",
      "Partitioning converged after iteration=1\n",
      "Per core utilization:\n",
      "-------------------------------------------------------------------------\n",
      "| AxonIn |NeuronGr| Neurons|Synapses| AxonMap| AxonMem|  Total |  Cores |\n",
      "|-----------------------------------------------------------------------|\n",
      "|   0.06%|  12.50%|   0.24%|   0.06%|   0.06%|   0.00%|   0.21%|       1|\n",
      "|   0.80%|  12.50%|   0.24%|   3.08%|   0.06%|   0.00%|   3.21%|       1|\n",
      "|   0.80%|  12.50%|   3.13%|  30.21%|   0.80%|   0.00%|  26.09%|       1|\n",
      "|   3.20%|  12.50%|   3.13%|   3.20%|   0.80%|   0.00%|   6.41%|       1|\n",
      "|   0.80%|  12.50%|  25.01%|   0.80%|   3.20%|   0.00%|   8.96%|       1|\n",
      "|   0.02%|  12.50%|   3.13%|   0.67%|   0.80%|   0.00%|   1.83%|       1|\n",
      "|-----------------------------------------------------------------------|\n",
      "| Total                                                        |       6|\n",
      "-------------------------------------------------------------------------\n"
     ]
    },
    {
     "name": "stderr",
     "output_type": "stream",
     "text": [
      "/home/sveamari/lava_dev/frameworks.ai.nx.nxsdk/nxcore/arch/n3b/n3board.py:77: UserWarning: Loihi generation overriden by environment variable LOIHI_GEN=N3C1\n",
      "  warnings.warn(\"Loihi generation overriden by environment variable LOIHI_GEN={}\".format(os.environ[\"LOIHI_GEN\"]))\n"
     ]
    },
    {
     "name": "stdout",
     "output_type": "stream",
     "text": [
      "end\n",
      "Partitioning converged after iteration=1\n",
      "Per core utilization:\n",
      "-------------------------------------------------------------------------\n",
      "| AxonIn |NeuronGr| Neurons|Synapses| AxonMap| AxonMem|  Total |  Cores |\n",
      "|-----------------------------------------------------------------------|\n",
      "|   0.06%|  12.50%|   0.24%|   0.06%|   0.06%|   0.00%|   0.21%|       1|\n",
      "|   0.80%|  12.50%|   0.24%|   3.08%|   0.06%|   0.00%|   3.21%|       1|\n",
      "|   0.80%|  12.50%|   3.13%|  30.21%|   0.80%|   0.00%|  26.09%|       1|\n",
      "|   3.20%|  12.50%|   3.13%|   3.20%|   0.80%|   0.00%|   6.41%|       1|\n",
      "|   0.80%|  12.50%|  25.01%|   0.80%|   3.20%|   0.00%|   8.96%|       1|\n",
      "|   0.02%|  12.50%|   3.13%|   0.67%|   0.80%|   0.00%|   1.83%|       1|\n",
      "|-----------------------------------------------------------------------|\n",
      "| Total                                                        |       6|\n",
      "-------------------------------------------------------------------------\n"
     ]
    },
    {
     "name": "stderr",
     "output_type": "stream",
     "text": [
      "/home/sveamari/lava_dev/frameworks.ai.nx.nxsdk/nxcore/arch/n3b/n3board.py:77: UserWarning: Loihi generation overriden by environment variable LOIHI_GEN=N3C1\n",
      "  warnings.warn(\"Loihi generation overriden by environment variable LOIHI_GEN={}\".format(os.environ[\"LOIHI_GEN\"]))\n"
     ]
    },
    {
     "name": "stdout",
     "output_type": "stream",
     "text": [
      "end\n",
      "Partitioning converged after iteration=1\n",
      "Per core utilization:\n",
      "-------------------------------------------------------------------------\n",
      "| AxonIn |NeuronGr| Neurons|Synapses| AxonMap| AxonMem|  Total |  Cores |\n",
      "|-----------------------------------------------------------------------|\n",
      "|   0.06%|  12.50%|   0.24%|   0.06%|   0.06%|   0.00%|   0.21%|       1|\n",
      "|   0.80%|  12.50%|   0.24%|   3.08%|   0.06%|   0.00%|   3.21%|       1|\n",
      "|   0.80%|  12.50%|   3.13%|  30.21%|   0.80%|   0.00%|  26.09%|       1|\n",
      "|   3.20%|  12.50%|   3.13%|   3.20%|   0.80%|   0.00%|   6.41%|       1|\n",
      "|   0.80%|  12.50%|  25.01%|   0.80%|   3.20%|   0.00%|   8.96%|       1|\n",
      "|   0.02%|  12.50%|   3.13%|   0.67%|   0.80%|   0.00%|   1.83%|       1|\n",
      "|-----------------------------------------------------------------------|\n",
      "| Total                                                        |       6|\n",
      "-------------------------------------------------------------------------\n"
     ]
    },
    {
     "name": "stderr",
     "output_type": "stream",
     "text": [
      "/home/sveamari/lava_dev/frameworks.ai.nx.nxsdk/nxcore/arch/n3b/n3board.py:77: UserWarning: Loihi generation overriden by environment variable LOIHI_GEN=N3C1\n",
      "  warnings.warn(\"Loihi generation overriden by environment variable LOIHI_GEN={}\".format(os.environ[\"LOIHI_GEN\"]))\n"
     ]
    },
    {
     "name": "stdout",
     "output_type": "stream",
     "text": [
      "end\n",
      "Partitioning converged after iteration=1\n",
      "Per core utilization:\n",
      "-------------------------------------------------------------------------\n",
      "| AxonIn |NeuronGr| Neurons|Synapses| AxonMap| AxonMem|  Total |  Cores |\n",
      "|-----------------------------------------------------------------------|\n",
      "|   0.06%|  12.50%|   0.24%|   0.06%|   0.06%|   0.00%|   0.21%|       1|\n",
      "|   0.80%|  12.50%|   0.24%|   3.08%|   0.06%|   0.00%|   3.21%|       1|\n",
      "|   0.80%|  12.50%|   3.13%|  30.21%|   0.80%|   0.00%|  26.09%|       1|\n",
      "|   3.20%|  12.50%|   3.13%|   3.20%|   0.80%|   0.00%|   6.41%|       1|\n",
      "|   0.80%|  12.50%|  25.01%|   0.80%|   3.20%|   0.00%|   8.96%|       1|\n",
      "|   0.02%|  12.50%|   3.13%|   0.67%|   0.80%|   0.00%|   1.83%|       1|\n",
      "|-----------------------------------------------------------------------|\n",
      "| Total                                                        |       6|\n",
      "-------------------------------------------------------------------------\n"
     ]
    },
    {
     "name": "stderr",
     "output_type": "stream",
     "text": [
      "/home/sveamari/lava_dev/frameworks.ai.nx.nxsdk/nxcore/arch/n3b/n3board.py:77: UserWarning: Loihi generation overriden by environment variable LOIHI_GEN=N3C1\n",
      "  warnings.warn(\"Loihi generation overriden by environment variable LOIHI_GEN={}\".format(os.environ[\"LOIHI_GEN\"]))\n"
     ]
    },
    {
     "name": "stdout",
     "output_type": "stream",
     "text": [
      "end\n",
      "Partitioning converged after iteration=1\n",
      "Per core utilization:\n",
      "-------------------------------------------------------------------------\n",
      "| AxonIn |NeuronGr| Neurons|Synapses| AxonMap| AxonMem|  Total |  Cores |\n",
      "|-----------------------------------------------------------------------|\n",
      "|   0.06%|  12.50%|   0.24%|   0.06%|   0.06%|   0.00%|   0.21%|       1|\n",
      "|   0.80%|  12.50%|   0.24%|   3.08%|   0.06%|   0.00%|   3.21%|       1|\n",
      "|   0.80%|  12.50%|   3.13%|  30.21%|   0.80%|   0.00%|  26.09%|       1|\n",
      "|   3.20%|  12.50%|   3.13%|   3.20%|   0.80%|   0.00%|   6.41%|       1|\n",
      "|   0.80%|  12.50%|  25.01%|   0.80%|   3.20%|   0.00%|   8.96%|       1|\n",
      "|   0.02%|  12.50%|   3.13%|   0.67%|   0.80%|   0.00%|   1.83%|       1|\n",
      "|-----------------------------------------------------------------------|\n",
      "| Total                                                        |       6|\n",
      "-------------------------------------------------------------------------\n"
     ]
    },
    {
     "name": "stderr",
     "output_type": "stream",
     "text": [
      "/home/sveamari/lava_dev/frameworks.ai.nx.nxsdk/nxcore/arch/n3b/n3board.py:77: UserWarning: Loihi generation overriden by environment variable LOIHI_GEN=N3C1\n",
      "  warnings.warn(\"Loihi generation overriden by environment variable LOIHI_GEN={}\".format(os.environ[\"LOIHI_GEN\"]))\n"
     ]
    },
    {
     "name": "stdout",
     "output_type": "stream",
     "text": [
      "end\n",
      "Partitioning converged after iteration=1\n",
      "Per core utilization:\n",
      "-------------------------------------------------------------------------\n",
      "| AxonIn |NeuronGr| Neurons|Synapses| AxonMap| AxonMem|  Total |  Cores |\n",
      "|-----------------------------------------------------------------------|\n",
      "|   0.06%|  12.50%|   0.24%|   0.06%|   0.06%|   0.00%|   0.21%|       1|\n",
      "|   0.80%|  12.50%|   0.24%|   3.08%|   0.06%|   0.00%|   3.21%|       1|\n",
      "|   0.80%|  12.50%|   3.13%|  30.21%|   0.80%|   0.00%|  26.09%|       1|\n",
      "|   3.20%|  12.50%|   3.13%|   3.20%|   0.80%|   0.00%|   6.41%|       1|\n",
      "|   0.80%|  12.50%|  25.01%|   0.80%|   3.20%|   0.00%|   8.96%|       1|\n",
      "|   0.02%|  12.50%|   3.13%|   0.67%|   0.80%|   0.00%|   1.83%|       1|\n",
      "|-----------------------------------------------------------------------|\n",
      "| Total                                                        |       6|\n",
      "-------------------------------------------------------------------------\n"
     ]
    },
    {
     "name": "stderr",
     "output_type": "stream",
     "text": [
      "/home/sveamari/lava_dev/frameworks.ai.nx.nxsdk/nxcore/arch/n3b/n3board.py:77: UserWarning: Loihi generation overriden by environment variable LOIHI_GEN=N3C1\n",
      "  warnings.warn(\"Loihi generation overriden by environment variable LOIHI_GEN={}\".format(os.environ[\"LOIHI_GEN\"]))\n"
     ]
    },
    {
     "name": "stdout",
     "output_type": "stream",
     "text": [
      "end\n",
      "Partitioning converged after iteration=1\n",
      "Per core utilization:\n",
      "-------------------------------------------------------------------------\n",
      "| AxonIn |NeuronGr| Neurons|Synapses| AxonMap| AxonMem|  Total |  Cores |\n",
      "|-----------------------------------------------------------------------|\n",
      "|   0.06%|  12.50%|   0.24%|   0.06%|   0.06%|   0.00%|   0.21%|       1|\n",
      "|   0.80%|  12.50%|   0.24%|   3.08%|   0.06%|   0.00%|   3.21%|       1|\n",
      "|   0.80%|  12.50%|   3.13%|  30.21%|   0.80%|   0.00%|  26.09%|       1|\n",
      "|   3.20%|  12.50%|   3.13%|   3.20%|   0.80%|   0.00%|   6.41%|       1|\n",
      "|   0.80%|  12.50%|  25.01%|   0.80%|   3.20%|   0.00%|   8.96%|       1|\n",
      "|   0.02%|  12.50%|   3.13%|   0.67%|   0.80%|   0.00%|   1.83%|       1|\n",
      "|-----------------------------------------------------------------------|\n",
      "| Total                                                        |       6|\n",
      "-------------------------------------------------------------------------\n"
     ]
    },
    {
     "name": "stderr",
     "output_type": "stream",
     "text": [
      "/home/sveamari/lava_dev/frameworks.ai.nx.nxsdk/nxcore/arch/n3b/n3board.py:77: UserWarning: Loihi generation overriden by environment variable LOIHI_GEN=N3C1\n",
      "  warnings.warn(\"Loihi generation overriden by environment variable LOIHI_GEN={}\".format(os.environ[\"LOIHI_GEN\"]))\n"
     ]
    },
    {
     "name": "stdout",
     "output_type": "stream",
     "text": [
      "end\n",
      "Partitioning converged after iteration=1\n",
      "Per core utilization:\n",
      "-------------------------------------------------------------------------\n",
      "| AxonIn |NeuronGr| Neurons|Synapses| AxonMap| AxonMem|  Total |  Cores |\n",
      "|-----------------------------------------------------------------------|\n",
      "|   0.06%|  12.50%|   0.24%|   0.06%|   0.06%|   0.00%|   0.21%|       1|\n",
      "|   0.80%|  12.50%|   0.24%|   3.08%|   0.06%|   0.00%|   3.21%|       1|\n",
      "|   0.80%|  12.50%|   3.13%|  30.21%|   0.80%|   0.00%|  26.09%|       1|\n",
      "|   3.20%|  12.50%|   3.13%|   3.20%|   0.80%|   0.00%|   6.41%|       1|\n",
      "|   0.80%|  12.50%|  25.01%|   0.80%|   3.20%|   0.00%|   8.96%|       1|\n",
      "|   0.02%|  12.50%|   3.13%|   0.67%|   0.80%|   0.00%|   1.83%|       1|\n",
      "|-----------------------------------------------------------------------|\n",
      "| Total                                                        |       6|\n",
      "-------------------------------------------------------------------------\n"
     ]
    },
    {
     "name": "stderr",
     "output_type": "stream",
     "text": [
      "/home/sveamari/lava_dev/frameworks.ai.nx.nxsdk/nxcore/arch/n3b/n3board.py:77: UserWarning: Loihi generation overriden by environment variable LOIHI_GEN=N3C1\n",
      "  warnings.warn(\"Loihi generation overriden by environment variable LOIHI_GEN={}\".format(os.environ[\"LOIHI_GEN\"]))\n"
     ]
    },
    {
     "name": "stdout",
     "output_type": "stream",
     "text": [
      "end\n",
      "Partitioning converged after iteration=1\n",
      "Per core utilization:\n",
      "-------------------------------------------------------------------------\n",
      "| AxonIn |NeuronGr| Neurons|Synapses| AxonMap| AxonMem|  Total |  Cores |\n",
      "|-----------------------------------------------------------------------|\n",
      "|   0.06%|  12.50%|   0.24%|   0.06%|   0.06%|   0.00%|   0.21%|       1|\n",
      "|   0.80%|  12.50%|   0.24%|   3.08%|   0.06%|   0.00%|   3.21%|       1|\n",
      "|   0.80%|  12.50%|   3.13%|  30.21%|   0.80%|   0.00%|  26.09%|       1|\n",
      "|   3.20%|  12.50%|   3.13%|   3.20%|   0.80%|   0.00%|   6.41%|       1|\n",
      "|   0.80%|  12.50%|  25.01%|   0.80%|   3.20%|   0.00%|   8.96%|       1|\n",
      "|   0.02%|  12.50%|   3.13%|   0.67%|   0.80%|   0.00%|   1.83%|       1|\n",
      "|-----------------------------------------------------------------------|\n",
      "| Total                                                        |       6|\n",
      "-------------------------------------------------------------------------\n"
     ]
    },
    {
     "name": "stderr",
     "output_type": "stream",
     "text": [
      "/home/sveamari/lava_dev/frameworks.ai.nx.nxsdk/nxcore/arch/n3b/n3board.py:77: UserWarning: Loihi generation overriden by environment variable LOIHI_GEN=N3C1\n",
      "  warnings.warn(\"Loihi generation overriden by environment variable LOIHI_GEN={}\".format(os.environ[\"LOIHI_GEN\"]))\n"
     ]
    },
    {
     "name": "stdout",
     "output_type": "stream",
     "text": [
      "end\n",
      "Partitioning converged after iteration=1\n",
      "Per core utilization:\n",
      "-------------------------------------------------------------------------\n",
      "| AxonIn |NeuronGr| Neurons|Synapses| AxonMap| AxonMem|  Total |  Cores |\n",
      "|-----------------------------------------------------------------------|\n",
      "|   0.06%|  12.50%|   0.24%|   0.06%|   0.06%|   0.00%|   0.21%|       1|\n",
      "|   0.80%|  12.50%|   0.24%|   3.08%|   0.06%|   0.00%|   3.21%|       1|\n",
      "|   0.80%|  12.50%|   3.13%|  30.21%|   0.80%|   0.00%|  26.09%|       1|\n",
      "|   3.20%|  12.50%|   3.13%|   3.20%|   0.80%|   0.00%|   6.41%|       1|\n",
      "|   0.80%|  12.50%|  25.01%|   0.80%|   3.20%|   0.00%|   8.96%|       1|\n",
      "|   0.02%|  12.50%|   3.13%|   0.67%|   0.80%|   0.00%|   1.83%|       1|\n",
      "|-----------------------------------------------------------------------|\n",
      "| Total                                                        |       6|\n",
      "-------------------------------------------------------------------------\n"
     ]
    },
    {
     "name": "stderr",
     "output_type": "stream",
     "text": [
      "/home/sveamari/lava_dev/frameworks.ai.nx.nxsdk/nxcore/arch/n3b/n3board.py:77: UserWarning: Loihi generation overriden by environment variable LOIHI_GEN=N3C1\n",
      "  warnings.warn(\"Loihi generation overriden by environment variable LOIHI_GEN={}\".format(os.environ[\"LOIHI_GEN\"]))\n"
     ]
    },
    {
     "name": "stdout",
     "output_type": "stream",
     "text": [
      "end\n",
      "Partitioning converged after iteration=1\n",
      "Per core utilization:\n",
      "-------------------------------------------------------------------------\n",
      "| AxonIn |NeuronGr| Neurons|Synapses| AxonMap| AxonMem|  Total |  Cores |\n",
      "|-----------------------------------------------------------------------|\n",
      "|   0.06%|  12.50%|   0.24%|   0.06%|   0.06%|   0.00%|   0.21%|       1|\n",
      "|   0.80%|  12.50%|   0.24%|   3.08%|   0.06%|   0.00%|   3.21%|       1|\n",
      "|   0.80%|  12.50%|   3.13%|  30.21%|   0.80%|   0.00%|  26.09%|       1|\n",
      "|   3.20%|  12.50%|   3.13%|   3.20%|   0.80%|   0.00%|   6.41%|       1|\n",
      "|   0.80%|  12.50%|  25.01%|   0.80%|   3.20%|   0.00%|   8.96%|       1|\n",
      "|   0.02%|  12.50%|   3.13%|   0.67%|   0.80%|   0.00%|   1.83%|       1|\n",
      "|-----------------------------------------------------------------------|\n",
      "| Total                                                        |       6|\n",
      "-------------------------------------------------------------------------\n"
     ]
    },
    {
     "name": "stderr",
     "output_type": "stream",
     "text": [
      "/home/sveamari/lava_dev/frameworks.ai.nx.nxsdk/nxcore/arch/n3b/n3board.py:77: UserWarning: Loihi generation overriden by environment variable LOIHI_GEN=N3C1\n",
      "  warnings.warn(\"Loihi generation overriden by environment variable LOIHI_GEN={}\".format(os.environ[\"LOIHI_GEN\"]))\n"
     ]
    },
    {
     "name": "stdout",
     "output_type": "stream",
     "text": [
      "end\n",
      "Partitioning converged after iteration=1\n",
      "Per core utilization:\n",
      "-------------------------------------------------------------------------\n",
      "| AxonIn |NeuronGr| Neurons|Synapses| AxonMap| AxonMem|  Total |  Cores |\n",
      "|-----------------------------------------------------------------------|\n",
      "|   0.06%|  12.50%|   0.24%|   0.06%|   0.06%|   0.00%|   0.21%|       1|\n",
      "|   0.80%|  12.50%|   0.24%|   3.08%|   0.06%|   0.00%|   3.21%|       1|\n",
      "|   0.80%|  12.50%|   3.13%|  30.21%|   0.80%|   0.00%|  26.09%|       1|\n",
      "|   3.20%|  12.50%|   3.13%|   3.20%|   0.80%|   0.00%|   6.41%|       1|\n",
      "|   0.80%|  12.50%|  25.01%|   0.80%|   3.20%|   0.00%|   8.96%|       1|\n",
      "|   0.02%|  12.50%|   3.13%|   0.67%|   0.80%|   0.00%|   1.83%|       1|\n",
      "|-----------------------------------------------------------------------|\n",
      "| Total                                                        |       6|\n",
      "-------------------------------------------------------------------------\n"
     ]
    },
    {
     "name": "stderr",
     "output_type": "stream",
     "text": [
      "/home/sveamari/lava_dev/frameworks.ai.nx.nxsdk/nxcore/arch/n3b/n3board.py:77: UserWarning: Loihi generation overriden by environment variable LOIHI_GEN=N3C1\n",
      "  warnings.warn(\"Loihi generation overriden by environment variable LOIHI_GEN={}\".format(os.environ[\"LOIHI_GEN\"]))\n"
     ]
    },
    {
     "name": "stdout",
     "output_type": "stream",
     "text": [
      "end\n",
      "Partitioning converged after iteration=1\n",
      "Per core utilization:\n",
      "-------------------------------------------------------------------------\n",
      "| AxonIn |NeuronGr| Neurons|Synapses| AxonMap| AxonMem|  Total |  Cores |\n",
      "|-----------------------------------------------------------------------|\n",
      "|   0.06%|  12.50%|   0.24%|   0.06%|   0.06%|   0.00%|   0.21%|       1|\n",
      "|   0.80%|  12.50%|   0.24%|   3.08%|   0.06%|   0.00%|   3.21%|       1|\n",
      "|   0.80%|  12.50%|   3.13%|  30.21%|   0.80%|   0.00%|  26.09%|       1|\n",
      "|   3.20%|  12.50%|   3.13%|   3.20%|   0.80%|   0.00%|   6.41%|       1|\n",
      "|   0.80%|  12.50%|  25.01%|   0.80%|   3.20%|   0.00%|   8.96%|       1|\n",
      "|   0.02%|  12.50%|   3.13%|   0.67%|   0.80%|   0.00%|   1.83%|       1|\n",
      "|-----------------------------------------------------------------------|\n",
      "| Total                                                        |       6|\n",
      "-------------------------------------------------------------------------\n"
     ]
    },
    {
     "name": "stderr",
     "output_type": "stream",
     "text": [
      "/home/sveamari/lava_dev/frameworks.ai.nx.nxsdk/nxcore/arch/n3b/n3board.py:77: UserWarning: Loihi generation overriden by environment variable LOIHI_GEN=N3C1\n",
      "  warnings.warn(\"Loihi generation overriden by environment variable LOIHI_GEN={}\".format(os.environ[\"LOIHI_GEN\"]))\n"
     ]
    },
    {
     "name": "stdout",
     "output_type": "stream",
     "text": [
      "end\n",
      "Partitioning converged after iteration=1\n",
      "Per core utilization:\n",
      "-------------------------------------------------------------------------\n",
      "| AxonIn |NeuronGr| Neurons|Synapses| AxonMap| AxonMem|  Total |  Cores |\n",
      "|-----------------------------------------------------------------------|\n",
      "|   0.06%|  12.50%|   0.24%|   0.06%|   0.06%|   0.00%|   0.21%|       1|\n",
      "|   0.80%|  12.50%|   0.24%|   3.08%|   0.06%|   0.00%|   3.21%|       1|\n",
      "|   0.80%|  12.50%|   3.13%|  30.21%|   0.80%|   0.00%|  26.09%|       1|\n",
      "|   3.20%|  12.50%|   3.13%|   3.20%|   0.80%|   0.00%|   6.41%|       1|\n",
      "|   0.80%|  12.50%|  25.01%|   0.80%|   3.20%|   0.00%|   8.96%|       1|\n",
      "|   0.02%|  12.50%|   3.13%|   0.67%|   0.80%|   0.00%|   1.83%|       1|\n",
      "|-----------------------------------------------------------------------|\n",
      "| Total                                                        |       6|\n",
      "-------------------------------------------------------------------------\n"
     ]
    },
    {
     "name": "stderr",
     "output_type": "stream",
     "text": [
      "/home/sveamari/lava_dev/frameworks.ai.nx.nxsdk/nxcore/arch/n3b/n3board.py:77: UserWarning: Loihi generation overriden by environment variable LOIHI_GEN=N3C1\n",
      "  warnings.warn(\"Loihi generation overriden by environment variable LOIHI_GEN={}\".format(os.environ[\"LOIHI_GEN\"]))\n"
     ]
    },
    {
     "name": "stdout",
     "output_type": "stream",
     "text": [
      "end\n",
      "Partitioning converged after iteration=1\n",
      "Per core utilization:\n",
      "-------------------------------------------------------------------------\n",
      "| AxonIn |NeuronGr| Neurons|Synapses| AxonMap| AxonMem|  Total |  Cores |\n",
      "|-----------------------------------------------------------------------|\n",
      "|   0.06%|  12.50%|   0.24%|   0.06%|   0.06%|   0.00%|   0.21%|       1|\n",
      "|   0.80%|  12.50%|   0.24%|   3.08%|   0.06%|   0.00%|   3.21%|       1|\n",
      "|   0.80%|  12.50%|   3.13%|  30.21%|   0.80%|   0.00%|  26.09%|       1|\n",
      "|   3.20%|  12.50%|   3.13%|   3.20%|   0.80%|   0.00%|   6.41%|       1|\n",
      "|   0.80%|  12.50%|  25.01%|   0.80%|   3.20%|   0.00%|   8.96%|       1|\n",
      "|   0.02%|  12.50%|   3.13%|   0.67%|   0.80%|   0.00%|   1.83%|       1|\n",
      "|-----------------------------------------------------------------------|\n",
      "| Total                                                        |       6|\n",
      "-------------------------------------------------------------------------\n"
     ]
    },
    {
     "name": "stderr",
     "output_type": "stream",
     "text": [
      "/home/sveamari/lava_dev/frameworks.ai.nx.nxsdk/nxcore/arch/n3b/n3board.py:77: UserWarning: Loihi generation overriden by environment variable LOIHI_GEN=N3C1\n",
      "  warnings.warn(\"Loihi generation overriden by environment variable LOIHI_GEN={}\".format(os.environ[\"LOIHI_GEN\"]))\n"
     ]
    },
    {
     "name": "stdout",
     "output_type": "stream",
     "text": [
      "end\n",
      "Partitioning converged after iteration=1\n",
      "Per core utilization:\n",
      "-------------------------------------------------------------------------\n",
      "| AxonIn |NeuronGr| Neurons|Synapses| AxonMap| AxonMem|  Total |  Cores |\n",
      "|-----------------------------------------------------------------------|\n",
      "|   0.06%|  12.50%|   0.24%|   0.06%|   0.06%|   0.00%|   0.21%|       1|\n",
      "|   0.80%|  12.50%|   0.24%|   3.08%|   0.06%|   0.00%|   3.21%|       1|\n",
      "|   0.80%|  12.50%|   3.13%|  30.21%|   0.80%|   0.00%|  26.09%|       1|\n",
      "|   3.20%|  12.50%|   3.13%|   3.20%|   0.80%|   0.00%|   6.41%|       1|\n",
      "|   0.80%|  12.50%|  25.01%|   0.80%|   3.20%|   0.00%|   8.96%|       1|\n",
      "|   0.02%|  12.50%|   3.13%|   0.67%|   0.80%|   0.00%|   1.83%|       1|\n",
      "|-----------------------------------------------------------------------|\n",
      "| Total                                                        |       6|\n",
      "-------------------------------------------------------------------------\n"
     ]
    },
    {
     "name": "stderr",
     "output_type": "stream",
     "text": [
      "/home/sveamari/lava_dev/frameworks.ai.nx.nxsdk/nxcore/arch/n3b/n3board.py:77: UserWarning: Loihi generation overriden by environment variable LOIHI_GEN=N3C1\n",
      "  warnings.warn(\"Loihi generation overriden by environment variable LOIHI_GEN={}\".format(os.environ[\"LOIHI_GEN\"]))\n"
     ]
    },
    {
     "name": "stdout",
     "output_type": "stream",
     "text": [
      "end\n",
      "Partitioning converged after iteration=1\n",
      "Per core utilization:\n",
      "-------------------------------------------------------------------------\n",
      "| AxonIn |NeuronGr| Neurons|Synapses| AxonMap| AxonMem|  Total |  Cores |\n",
      "|-----------------------------------------------------------------------|\n",
      "|   0.06%|  12.50%|   0.24%|   0.06%|   0.06%|   0.00%|   0.21%|       1|\n",
      "|   0.80%|  12.50%|   0.24%|   3.08%|   0.06%|   0.00%|   3.21%|       1|\n",
      "|   0.80%|  12.50%|   3.13%|  30.21%|   0.80%|   0.00%|  26.09%|       1|\n",
      "|   3.20%|  12.50%|   3.13%|   3.20%|   0.80%|   0.00%|   6.41%|       1|\n",
      "|   0.80%|  12.50%|  25.01%|   0.80%|   3.20%|   0.00%|   8.96%|       1|\n",
      "|   0.02%|  12.50%|   3.13%|   0.67%|   0.80%|   0.00%|   1.83%|       1|\n",
      "|-----------------------------------------------------------------------|\n",
      "| Total                                                        |       6|\n",
      "-------------------------------------------------------------------------\n"
     ]
    },
    {
     "name": "stderr",
     "output_type": "stream",
     "text": [
      "/home/sveamari/lava_dev/frameworks.ai.nx.nxsdk/nxcore/arch/n3b/n3board.py:77: UserWarning: Loihi generation overriden by environment variable LOIHI_GEN=N3C1\n",
      "  warnings.warn(\"Loihi generation overriden by environment variable LOIHI_GEN={}\".format(os.environ[\"LOIHI_GEN\"]))\n"
     ]
    },
    {
     "name": "stdout",
     "output_type": "stream",
     "text": [
      "end\n",
      "Partitioning converged after iteration=1\n",
      "Per core utilization:\n",
      "-------------------------------------------------------------------------\n",
      "| AxonIn |NeuronGr| Neurons|Synapses| AxonMap| AxonMem|  Total |  Cores |\n",
      "|-----------------------------------------------------------------------|\n",
      "|   0.06%|  12.50%|   0.24%|   0.06%|   0.06%|   0.00%|   0.21%|       1|\n",
      "|   0.80%|  12.50%|   0.24%|   3.08%|   0.06%|   0.00%|   3.21%|       1|\n",
      "|   0.80%|  12.50%|   3.13%|  30.21%|   0.80%|   0.00%|  26.09%|       1|\n",
      "|   3.20%|  12.50%|   3.13%|   3.20%|   0.80%|   0.00%|   6.41%|       1|\n",
      "|   0.80%|  12.50%|  25.01%|   0.80%|   3.20%|   0.00%|   8.96%|       1|\n",
      "|   0.02%|  12.50%|   3.13%|   0.67%|   0.80%|   0.00%|   1.83%|       1|\n",
      "|-----------------------------------------------------------------------|\n",
      "| Total                                                        |       6|\n",
      "-------------------------------------------------------------------------\n"
     ]
    },
    {
     "name": "stderr",
     "output_type": "stream",
     "text": [
      "/home/sveamari/lava_dev/frameworks.ai.nx.nxsdk/nxcore/arch/n3b/n3board.py:77: UserWarning: Loihi generation overriden by environment variable LOIHI_GEN=N3C1\n",
      "  warnings.warn(\"Loihi generation overriden by environment variable LOIHI_GEN={}\".format(os.environ[\"LOIHI_GEN\"]))\n"
     ]
    },
    {
     "name": "stdout",
     "output_type": "stream",
     "text": [
      "end\n",
      "Partitioning converged after iteration=1\n",
      "Per core utilization:\n",
      "-------------------------------------------------------------------------\n",
      "| AxonIn |NeuronGr| Neurons|Synapses| AxonMap| AxonMem|  Total |  Cores |\n",
      "|-----------------------------------------------------------------------|\n",
      "|   0.06%|  12.50%|   0.24%|   0.06%|   0.06%|   0.00%|   0.21%|       1|\n",
      "|   0.80%|  12.50%|   0.24%|   3.08%|   0.06%|   0.00%|   3.21%|       1|\n",
      "|   0.80%|  12.50%|   3.13%|  30.21%|   0.80%|   0.00%|  26.09%|       1|\n",
      "|   3.20%|  12.50%|   3.13%|   3.20%|   0.80%|   0.00%|   6.41%|       1|\n",
      "|   0.80%|  12.50%|  25.01%|   0.80%|   3.20%|   0.00%|   8.96%|       1|\n",
      "|   0.02%|  12.50%|   3.13%|   0.67%|   0.80%|   0.00%|   1.83%|       1|\n",
      "|-----------------------------------------------------------------------|\n",
      "| Total                                                        |       6|\n",
      "-------------------------------------------------------------------------\n"
     ]
    },
    {
     "name": "stderr",
     "output_type": "stream",
     "text": [
      "/home/sveamari/lava_dev/frameworks.ai.nx.nxsdk/nxcore/arch/n3b/n3board.py:77: UserWarning: Loihi generation overriden by environment variable LOIHI_GEN=N3C1\n",
      "  warnings.warn(\"Loihi generation overriden by environment variable LOIHI_GEN={}\".format(os.environ[\"LOIHI_GEN\"]))\n"
     ]
    },
    {
     "name": "stdout",
     "output_type": "stream",
     "text": [
      "end\n",
      "Partitioning converged after iteration=1\n",
      "Per core utilization:\n",
      "-------------------------------------------------------------------------\n",
      "| AxonIn |NeuronGr| Neurons|Synapses| AxonMap| AxonMem|  Total |  Cores |\n",
      "|-----------------------------------------------------------------------|\n",
      "|   0.06%|  12.50%|   0.24%|   0.06%|   0.06%|   0.00%|   0.21%|       1|\n",
      "|   0.80%|  12.50%|   0.24%|   3.08%|   0.06%|   0.00%|   3.21%|       1|\n",
      "|   0.80%|  12.50%|   3.13%|  30.21%|   0.80%|   0.00%|  26.09%|       1|\n",
      "|   3.20%|  12.50%|   3.13%|   3.20%|   0.80%|   0.00%|   6.41%|       1|\n",
      "|   0.80%|  12.50%|  25.01%|   0.80%|   3.20%|   0.00%|   8.96%|       1|\n",
      "|   0.02%|  12.50%|   3.13%|   0.67%|   0.80%|   0.00%|   1.83%|       1|\n",
      "|-----------------------------------------------------------------------|\n",
      "| Total                                                        |       6|\n",
      "-------------------------------------------------------------------------\n"
     ]
    },
    {
     "name": "stderr",
     "output_type": "stream",
     "text": [
      "/home/sveamari/lava_dev/frameworks.ai.nx.nxsdk/nxcore/arch/n3b/n3board.py:77: UserWarning: Loihi generation overriden by environment variable LOIHI_GEN=N3C1\n",
      "  warnings.warn(\"Loihi generation overriden by environment variable LOIHI_GEN={}\".format(os.environ[\"LOIHI_GEN\"]))\n"
     ]
    },
    {
     "name": "stdout",
     "output_type": "stream",
     "text": [
      "end\n",
      "Partitioning converged after iteration=1\n",
      "Per core utilization:\n",
      "-------------------------------------------------------------------------\n",
      "| AxonIn |NeuronGr| Neurons|Synapses| AxonMap| AxonMem|  Total |  Cores |\n",
      "|-----------------------------------------------------------------------|\n",
      "|   0.06%|  12.50%|   0.24%|   0.06%|   0.06%|   0.00%|   0.21%|       1|\n",
      "|   0.80%|  12.50%|   0.24%|   3.08%|   0.06%|   0.00%|   3.21%|       1|\n",
      "|   0.80%|  12.50%|   3.13%|  30.21%|   0.80%|   0.00%|  26.09%|       1|\n",
      "|   3.20%|  12.50%|   3.13%|   3.20%|   0.80%|   0.00%|   6.41%|       1|\n",
      "|   0.80%|  12.50%|  25.01%|   0.80%|   3.20%|   0.00%|   8.96%|       1|\n",
      "|   0.02%|  12.50%|   3.13%|   0.67%|   0.80%|   0.00%|   1.83%|       1|\n",
      "|-----------------------------------------------------------------------|\n",
      "| Total                                                        |       6|\n",
      "-------------------------------------------------------------------------\n"
     ]
    },
    {
     "name": "stderr",
     "output_type": "stream",
     "text": [
      "/home/sveamari/lava_dev/frameworks.ai.nx.nxsdk/nxcore/arch/n3b/n3board.py:77: UserWarning: Loihi generation overriden by environment variable LOIHI_GEN=N3C1\n",
      "  warnings.warn(\"Loihi generation overriden by environment variable LOIHI_GEN={}\".format(os.environ[\"LOIHI_GEN\"]))\n"
     ]
    },
    {
     "name": "stdout",
     "output_type": "stream",
     "text": [
      "end\n",
      "Partitioning converged after iteration=1\n",
      "Per core utilization:\n",
      "-------------------------------------------------------------------------\n",
      "| AxonIn |NeuronGr| Neurons|Synapses| AxonMap| AxonMem|  Total |  Cores |\n",
      "|-----------------------------------------------------------------------|\n",
      "|   0.06%|  12.50%|   0.24%|   0.06%|   0.06%|   0.00%|   0.21%|       1|\n",
      "|   0.80%|  12.50%|   0.24%|   3.08%|   0.06%|   0.00%|   3.21%|       1|\n",
      "|   0.80%|  12.50%|   3.13%|  30.21%|   0.80%|   0.00%|  26.09%|       1|\n",
      "|   3.20%|  12.50%|   3.13%|   3.20%|   0.80%|   0.00%|   6.41%|       1|\n",
      "|   0.80%|  12.50%|  25.01%|   0.80%|   3.20%|   0.00%|   8.96%|       1|\n",
      "|   0.02%|  12.50%|   3.13%|   0.67%|   0.80%|   0.00%|   1.83%|       1|\n",
      "|-----------------------------------------------------------------------|\n",
      "| Total                                                        |       6|\n",
      "-------------------------------------------------------------------------\n"
     ]
    },
    {
     "name": "stderr",
     "output_type": "stream",
     "text": [
      "/home/sveamari/lava_dev/frameworks.ai.nx.nxsdk/nxcore/arch/n3b/n3board.py:77: UserWarning: Loihi generation overriden by environment variable LOIHI_GEN=N3C1\n",
      "  warnings.warn(\"Loihi generation overriden by environment variable LOIHI_GEN={}\".format(os.environ[\"LOIHI_GEN\"]))\n"
     ]
    },
    {
     "name": "stdout",
     "output_type": "stream",
     "text": [
      "end\n",
      "Partitioning converged after iteration=1\n",
      "Per core utilization:\n",
      "-------------------------------------------------------------------------\n",
      "| AxonIn |NeuronGr| Neurons|Synapses| AxonMap| AxonMem|  Total |  Cores |\n",
      "|-----------------------------------------------------------------------|\n",
      "|   0.06%|  12.50%|   0.24%|   0.06%|   0.06%|   0.00%|   0.21%|       1|\n",
      "|   0.80%|  12.50%|   0.24%|   3.08%|   0.06%|   0.00%|   3.21%|       1|\n",
      "|   0.80%|  12.50%|   3.13%|  30.21%|   0.80%|   0.00%|  26.09%|       1|\n",
      "|   3.20%|  12.50%|   3.13%|   3.20%|   0.80%|   0.00%|   6.41%|       1|\n",
      "|   0.80%|  12.50%|  25.01%|   0.80%|   3.20%|   0.00%|   8.96%|       1|\n",
      "|   0.02%|  12.50%|   3.13%|   0.67%|   0.80%|   0.00%|   1.83%|       1|\n",
      "|-----------------------------------------------------------------------|\n",
      "| Total                                                        |       6|\n",
      "-------------------------------------------------------------------------\n"
     ]
    },
    {
     "name": "stderr",
     "output_type": "stream",
     "text": [
      "/home/sveamari/lava_dev/frameworks.ai.nx.nxsdk/nxcore/arch/n3b/n3board.py:77: UserWarning: Loihi generation overriden by environment variable LOIHI_GEN=N3C1\n",
      "  warnings.warn(\"Loihi generation overriden by environment variable LOIHI_GEN={}\".format(os.environ[\"LOIHI_GEN\"]))\n"
     ]
    },
    {
     "name": "stdout",
     "output_type": "stream",
     "text": [
      "end\n",
      "Partitioning converged after iteration=1\n",
      "Per core utilization:\n",
      "-------------------------------------------------------------------------\n",
      "| AxonIn |NeuronGr| Neurons|Synapses| AxonMap| AxonMem|  Total |  Cores |\n",
      "|-----------------------------------------------------------------------|\n",
      "|   0.06%|  12.50%|   0.24%|   0.06%|   0.06%|   0.00%|   0.21%|       1|\n",
      "|   0.80%|  12.50%|   0.24%|   3.08%|   0.06%|   0.00%|   3.21%|       1|\n",
      "|   0.80%|  12.50%|   3.13%|  30.21%|   0.80%|   0.00%|  26.09%|       1|\n",
      "|   3.20%|  12.50%|   3.13%|   3.20%|   0.80%|   0.00%|   6.41%|       1|\n",
      "|   0.80%|  12.50%|  25.01%|   0.80%|   3.20%|   0.00%|   8.96%|       1|\n",
      "|   0.02%|  12.50%|   3.13%|   0.67%|   0.80%|   0.00%|   1.83%|       1|\n",
      "|-----------------------------------------------------------------------|\n",
      "| Total                                                        |       6|\n",
      "-------------------------------------------------------------------------\n"
     ]
    },
    {
     "name": "stderr",
     "output_type": "stream",
     "text": [
      "/home/sveamari/lava_dev/frameworks.ai.nx.nxsdk/nxcore/arch/n3b/n3board.py:77: UserWarning: Loihi generation overriden by environment variable LOIHI_GEN=N3C1\n",
      "  warnings.warn(\"Loihi generation overriden by environment variable LOIHI_GEN={}\".format(os.environ[\"LOIHI_GEN\"]))\n"
     ]
    },
    {
     "name": "stdout",
     "output_type": "stream",
     "text": [
      "end\n",
      "Partitioning converged after iteration=1\n",
      "Per core utilization:\n",
      "-------------------------------------------------------------------------\n",
      "| AxonIn |NeuronGr| Neurons|Synapses| AxonMap| AxonMem|  Total |  Cores |\n",
      "|-----------------------------------------------------------------------|\n",
      "|   0.06%|  12.50%|   0.24%|   0.06%|   0.06%|   0.00%|   0.21%|       1|\n",
      "|   0.80%|  12.50%|   0.24%|   3.08%|   0.06%|   0.00%|   3.21%|       1|\n",
      "|   0.80%|  12.50%|   3.13%|  30.21%|   0.80%|   0.00%|  26.09%|       1|\n",
      "|   3.20%|  12.50%|   3.13%|   3.20%|   0.80%|   0.00%|   6.41%|       1|\n",
      "|   0.80%|  12.50%|  25.01%|   0.80%|   3.20%|   0.00%|   8.96%|       1|\n",
      "|   0.02%|  12.50%|   3.13%|   0.67%|   0.80%|   0.00%|   1.83%|       1|\n",
      "|-----------------------------------------------------------------------|\n",
      "| Total                                                        |       6|\n",
      "-------------------------------------------------------------------------\n"
     ]
    },
    {
     "name": "stderr",
     "output_type": "stream",
     "text": [
      "/home/sveamari/lava_dev/frameworks.ai.nx.nxsdk/nxcore/arch/n3b/n3board.py:77: UserWarning: Loihi generation overriden by environment variable LOIHI_GEN=N3C1\n",
      "  warnings.warn(\"Loihi generation overriden by environment variable LOIHI_GEN={}\".format(os.environ[\"LOIHI_GEN\"]))\n"
     ]
    },
    {
     "name": "stdout",
     "output_type": "stream",
     "text": [
      "end\n",
      "Partitioning converged after iteration=1\n",
      "Per core utilization:\n",
      "-------------------------------------------------------------------------\n",
      "| AxonIn |NeuronGr| Neurons|Synapses| AxonMap| AxonMem|  Total |  Cores |\n",
      "|-----------------------------------------------------------------------|\n",
      "|   0.06%|  12.50%|   0.24%|   0.06%|   0.06%|   0.00%|   0.21%|       1|\n",
      "|   0.80%|  12.50%|   0.24%|   3.08%|   0.06%|   0.00%|   3.21%|       1|\n",
      "|   0.80%|  12.50%|   3.13%|  30.21%|   0.80%|   0.00%|  26.09%|       1|\n",
      "|   3.20%|  12.50%|   3.13%|   3.20%|   0.80%|   0.00%|   6.41%|       1|\n",
      "|   0.80%|  12.50%|  25.01%|   0.80%|   3.20%|   0.00%|   8.96%|       1|\n",
      "|   0.02%|  12.50%|   3.13%|   0.67%|   0.80%|   0.00%|   1.83%|       1|\n",
      "|-----------------------------------------------------------------------|\n",
      "| Total                                                        |       6|\n",
      "-------------------------------------------------------------------------\n"
     ]
    },
    {
     "name": "stderr",
     "output_type": "stream",
     "text": [
      "/home/sveamari/lava_dev/frameworks.ai.nx.nxsdk/nxcore/arch/n3b/n3board.py:77: UserWarning: Loihi generation overriden by environment variable LOIHI_GEN=N3C1\n",
      "  warnings.warn(\"Loihi generation overriden by environment variable LOIHI_GEN={}\".format(os.environ[\"LOIHI_GEN\"]))\n"
     ]
    },
    {
     "name": "stdout",
     "output_type": "stream",
     "text": [
      "end\n",
      "Partitioning converged after iteration=1\n",
      "Per core utilization:\n",
      "-------------------------------------------------------------------------\n",
      "| AxonIn |NeuronGr| Neurons|Synapses| AxonMap| AxonMem|  Total |  Cores |\n",
      "|-----------------------------------------------------------------------|\n",
      "|   0.06%|  12.50%|   0.24%|   0.06%|   0.06%|   0.00%|   0.21%|       1|\n",
      "|   0.80%|  12.50%|   0.24%|   3.08%|   0.06%|   0.00%|   3.21%|       1|\n",
      "|   0.80%|  12.50%|   3.13%|  30.21%|   0.80%|   0.00%|  26.09%|       1|\n",
      "|   3.20%|  12.50%|   3.13%|   3.20%|   0.80%|   0.00%|   6.41%|       1|\n",
      "|   0.80%|  12.50%|  25.01%|   0.80%|   3.20%|   0.00%|   8.96%|       1|\n",
      "|   0.02%|  12.50%|   3.13%|   0.67%|   0.80%|   0.00%|   1.83%|       1|\n",
      "|-----------------------------------------------------------------------|\n",
      "| Total                                                        |       6|\n",
      "-------------------------------------------------------------------------\n"
     ]
    },
    {
     "name": "stderr",
     "output_type": "stream",
     "text": [
      "/home/sveamari/lava_dev/frameworks.ai.nx.nxsdk/nxcore/arch/n3b/n3board.py:77: UserWarning: Loihi generation overriden by environment variable LOIHI_GEN=N3C1\n",
      "  warnings.warn(\"Loihi generation overriden by environment variable LOIHI_GEN={}\".format(os.environ[\"LOIHI_GEN\"]))\n"
     ]
    },
    {
     "name": "stdout",
     "output_type": "stream",
     "text": [
      "end\n",
      "Partitioning converged after iteration=1\n",
      "Per core utilization:\n",
      "-------------------------------------------------------------------------\n",
      "| AxonIn |NeuronGr| Neurons|Synapses| AxonMap| AxonMem|  Total |  Cores |\n",
      "|-----------------------------------------------------------------------|\n",
      "|   0.06%|  12.50%|   0.24%|   0.06%|   0.06%|   0.00%|   0.21%|       1|\n",
      "|   0.80%|  12.50%|   0.24%|   3.08%|   0.06%|   0.00%|   3.21%|       1|\n",
      "|   0.80%|  12.50%|   3.13%|  30.21%|   0.80%|   0.00%|  26.09%|       1|\n",
      "|   3.20%|  12.50%|   3.13%|   3.20%|   0.80%|   0.00%|   6.41%|       1|\n",
      "|   0.80%|  12.50%|  25.01%|   0.80%|   3.20%|   0.00%|   8.96%|       1|\n",
      "|   0.02%|  12.50%|   3.13%|   0.67%|   0.80%|   0.00%|   1.83%|       1|\n",
      "|-----------------------------------------------------------------------|\n",
      "| Total                                                        |       6|\n",
      "-------------------------------------------------------------------------\n"
     ]
    },
    {
     "name": "stderr",
     "output_type": "stream",
     "text": [
      "/home/sveamari/lava_dev/frameworks.ai.nx.nxsdk/nxcore/arch/n3b/n3board.py:77: UserWarning: Loihi generation overriden by environment variable LOIHI_GEN=N3C1\n",
      "  warnings.warn(\"Loihi generation overriden by environment variable LOIHI_GEN={}\".format(os.environ[\"LOIHI_GEN\"]))\n"
     ]
    },
    {
     "name": "stdout",
     "output_type": "stream",
     "text": [
      "end\n",
      "Partitioning converged after iteration=1\n",
      "Per core utilization:\n",
      "-------------------------------------------------------------------------\n",
      "| AxonIn |NeuronGr| Neurons|Synapses| AxonMap| AxonMem|  Total |  Cores |\n",
      "|-----------------------------------------------------------------------|\n",
      "|   0.06%|  12.50%|   0.24%|   0.06%|   0.06%|   0.00%|   0.21%|       1|\n",
      "|   0.80%|  12.50%|   0.24%|   3.08%|   0.06%|   0.00%|   3.21%|       1|\n",
      "|   0.80%|  12.50%|   3.13%|  30.21%|   0.80%|   0.00%|  26.09%|       1|\n",
      "|   3.20%|  12.50%|   3.13%|   3.20%|   0.80%|   0.00%|   6.41%|       1|\n",
      "|   0.80%|  12.50%|  25.01%|   0.80%|   3.20%|   0.00%|   8.96%|       1|\n",
      "|   0.02%|  12.50%|   3.13%|   0.67%|   0.80%|   0.00%|   1.83%|       1|\n",
      "|-----------------------------------------------------------------------|\n",
      "| Total                                                        |       6|\n",
      "-------------------------------------------------------------------------\n"
     ]
    },
    {
     "name": "stderr",
     "output_type": "stream",
     "text": [
      "/home/sveamari/lava_dev/frameworks.ai.nx.nxsdk/nxcore/arch/n3b/n3board.py:77: UserWarning: Loihi generation overriden by environment variable LOIHI_GEN=N3C1\n",
      "  warnings.warn(\"Loihi generation overriden by environment variable LOIHI_GEN={}\".format(os.environ[\"LOIHI_GEN\"]))\n"
     ]
    },
    {
     "name": "stdout",
     "output_type": "stream",
     "text": [
      "end\n",
      "Partitioning converged after iteration=1\n",
      "Per core utilization:\n",
      "-------------------------------------------------------------------------\n",
      "| AxonIn |NeuronGr| Neurons|Synapses| AxonMap| AxonMem|  Total |  Cores |\n",
      "|-----------------------------------------------------------------------|\n",
      "|   0.06%|  12.50%|   0.24%|   0.06%|   0.06%|   0.00%|   0.21%|       1|\n",
      "|   0.80%|  12.50%|   0.24%|   3.08%|   0.06%|   0.00%|   3.21%|       1|\n",
      "|   0.80%|  12.50%|   3.13%|  30.21%|   0.80%|   0.00%|  26.09%|       1|\n",
      "|   3.20%|  12.50%|   3.13%|   3.20%|   0.80%|   0.00%|   6.41%|       1|\n",
      "|   0.80%|  12.50%|  25.01%|   0.80%|   3.20%|   0.00%|   8.96%|       1|\n",
      "|   0.02%|  12.50%|   3.13%|   0.67%|   0.80%|   0.00%|   1.83%|       1|\n",
      "|-----------------------------------------------------------------------|\n",
      "| Total                                                        |       6|\n",
      "-------------------------------------------------------------------------\n"
     ]
    },
    {
     "name": "stderr",
     "output_type": "stream",
     "text": [
      "/home/sveamari/lava_dev/frameworks.ai.nx.nxsdk/nxcore/arch/n3b/n3board.py:77: UserWarning: Loihi generation overriden by environment variable LOIHI_GEN=N3C1\n",
      "  warnings.warn(\"Loihi generation overriden by environment variable LOIHI_GEN={}\".format(os.environ[\"LOIHI_GEN\"]))\n"
     ]
    },
    {
     "name": "stdout",
     "output_type": "stream",
     "text": [
      "end\n",
      "Partitioning converged after iteration=1\n",
      "Per core utilization:\n",
      "-------------------------------------------------------------------------\n",
      "| AxonIn |NeuronGr| Neurons|Synapses| AxonMap| AxonMem|  Total |  Cores |\n",
      "|-----------------------------------------------------------------------|\n",
      "|   0.06%|  12.50%|   0.24%|   0.06%|   0.06%|   0.00%|   0.21%|       1|\n",
      "|   0.80%|  12.50%|   0.24%|   3.08%|   0.06%|   0.00%|   3.21%|       1|\n",
      "|   0.80%|  12.50%|   3.13%|  30.21%|   0.80%|   0.00%|  26.09%|       1|\n",
      "|   3.20%|  12.50%|   3.13%|   3.20%|   0.80%|   0.00%|   6.41%|       1|\n",
      "|   0.80%|  12.50%|  25.01%|   0.80%|   3.20%|   0.00%|   8.96%|       1|\n",
      "|   0.02%|  12.50%|   3.13%|   0.67%|   0.80%|   0.00%|   1.83%|       1|\n",
      "|-----------------------------------------------------------------------|\n",
      "| Total                                                        |       6|\n",
      "-------------------------------------------------------------------------\n"
     ]
    },
    {
     "name": "stderr",
     "output_type": "stream",
     "text": [
      "/home/sveamari/lava_dev/frameworks.ai.nx.nxsdk/nxcore/arch/n3b/n3board.py:77: UserWarning: Loihi generation overriden by environment variable LOIHI_GEN=N3C1\n",
      "  warnings.warn(\"Loihi generation overriden by environment variable LOIHI_GEN={}\".format(os.environ[\"LOIHI_GEN\"]))\n"
     ]
    },
    {
     "name": "stdout",
     "output_type": "stream",
     "text": [
      "end\n",
      "Partitioning converged after iteration=1\n",
      "Per core utilization:\n",
      "-------------------------------------------------------------------------\n",
      "| AxonIn |NeuronGr| Neurons|Synapses| AxonMap| AxonMem|  Total |  Cores |\n",
      "|-----------------------------------------------------------------------|\n",
      "|   0.06%|  12.50%|   0.24%|   0.06%|   0.06%|   0.00%|   0.21%|       1|\n",
      "|   0.80%|  12.50%|   0.24%|   3.08%|   0.06%|   0.00%|   3.21%|       1|\n",
      "|   0.80%|  12.50%|   3.13%|  30.21%|   0.80%|   0.00%|  26.09%|       1|\n",
      "|   3.20%|  12.50%|   3.13%|   3.20%|   0.80%|   0.00%|   6.41%|       1|\n",
      "|   0.80%|  12.50%|  25.01%|   0.80%|   3.20%|   0.00%|   8.96%|       1|\n",
      "|   0.02%|  12.50%|   3.13%|   0.67%|   0.80%|   0.00%|   1.83%|       1|\n",
      "|-----------------------------------------------------------------------|\n",
      "| Total                                                        |       6|\n",
      "-------------------------------------------------------------------------\n"
     ]
    },
    {
     "name": "stderr",
     "output_type": "stream",
     "text": [
      "/home/sveamari/lava_dev/frameworks.ai.nx.nxsdk/nxcore/arch/n3b/n3board.py:77: UserWarning: Loihi generation overriden by environment variable LOIHI_GEN=N3C1\n",
      "  warnings.warn(\"Loihi generation overriden by environment variable LOIHI_GEN={}\".format(os.environ[\"LOIHI_GEN\"]))\n"
     ]
    },
    {
     "name": "stdout",
     "output_type": "stream",
     "text": [
      "end\n",
      "Partitioning converged after iteration=1\n",
      "Per core utilization:\n",
      "-------------------------------------------------------------------------\n",
      "| AxonIn |NeuronGr| Neurons|Synapses| AxonMap| AxonMem|  Total |  Cores |\n",
      "|-----------------------------------------------------------------------|\n",
      "|   0.06%|  12.50%|   0.24%|   0.06%|   0.06%|   0.00%|   0.21%|       1|\n",
      "|   0.80%|  12.50%|   0.24%|   3.08%|   0.06%|   0.00%|   3.21%|       1|\n",
      "|   0.80%|  12.50%|   3.13%|  30.21%|   0.80%|   0.00%|  26.09%|       1|\n",
      "|   3.20%|  12.50%|   3.13%|   3.20%|   0.80%|   0.00%|   6.41%|       1|\n",
      "|   0.80%|  12.50%|  25.01%|   0.80%|   3.20%|   0.00%|   8.96%|       1|\n",
      "|   0.02%|  12.50%|   3.13%|   0.67%|   0.80%|   0.00%|   1.83%|       1|\n",
      "|-----------------------------------------------------------------------|\n",
      "| Total                                                        |       6|\n",
      "-------------------------------------------------------------------------\n"
     ]
    },
    {
     "name": "stderr",
     "output_type": "stream",
     "text": [
      "/home/sveamari/lava_dev/frameworks.ai.nx.nxsdk/nxcore/arch/n3b/n3board.py:77: UserWarning: Loihi generation overriden by environment variable LOIHI_GEN=N3C1\n",
      "  warnings.warn(\"Loihi generation overriden by environment variable LOIHI_GEN={}\".format(os.environ[\"LOIHI_GEN\"]))\n"
     ]
    }
   ],
   "source": [
    "total_times = []\n",
    "total_energies = []\n",
    "a = []\n",
    "for i in range(1,6):\n",
    "    times_here = []\n",
    "    energies_here = []\n",
    "    a_here = []\n",
    "    for _ in range(5):\n",
    "        energy_profiler = example_run(\"energy\", i)\n",
    "        time_profiler = example_run(\"time\", i)\n",
    "        times_here.append(np.round(np.sum(time_profiler.execution_time), 6))\n",
    "        energies_here.append(np.round(energy_profiler.power, 6)) \n",
    "        a_here.append(f\"sample {i}\")\n",
    "    total_times.append(times_here)\n",
    "    total_energies.append(energies_here)\n",
    "    a.append(a_here)\n",
    "\n"
   ]
  },
  {
   "cell_type": "code",
   "execution_count": 12,
   "metadata": {},
   "outputs": [
    {
     "name": "stdout",
     "output_type": "stream",
     "text": [
      "[1.855572 1.865785 1.858962 1.858964 1.869214 1.858965 1.865788 1.862368 1.862367 1.865784 1.862373 1.869218\n",
      " 1.862366 1.855572 1.862368 1.858963 1.86237  1.865789 1.862366 1.858962 1.858962 1.858961 1.858963 1.862368\n",
      " 1.865782]\n"
     ]
    },
    {
     "data": {
      "image/png": "[encoded data removed]",
      "text/plain": [
       "<Figure size 1500x500 with 2 Axes>"
      ]
     },
     "metadata": {},
     "output_type": "display_data"
    }
   ],
   "source": [
    "fig, ax = plt.subplots(1,2, figsize=(15, 5))\n",
    "a= np.asarray(a).flatten()\n",
    "total_times = np.asarray(total_times).flatten()\n",
    "total_energies = np.asarray(total_energies).flatten()\n",
    "# add yrange\n",
    "ax[0].set_ylim([0, 2])\n",
    "ax[0].plot(a, total_times, marker= \"o\", linestyle = \"\")\n",
    "ax[0].set_ylabel(\"Time in seconds\")\n",
    "ax[0].set_title(\"Execution time for 5 runs of S4D (60000 timesteps)\")\n",
    "ax[1].plot(a, total_energies, marker= \"o\", linestyle = \"\")\n",
    "ax[1].set_ylim([0, 0.5])\n",
    "# set y label\n",
    "ax[1].set_ylabel(\"Power in Watt\")\n",
    "ax[1].set_title(\"Power Measurement for 5 runs of S4D\")"
   ]
  },
  {
   "cell_type": "code",
   "execution_count": 23,
   "metadata": {},
   "outputs": [
    {
     "name": "stdout",
     "output_type": "stream",
     "text": [
      "average_time_per_timestep_in_microseconds=31.032767999999997\n",
      "average_power_in_watt=0.11901052\n"
     ]
    }
   ],
   "source": [
    "average_time_per_timestep_in_microseconds = np.mean(total_times) / n_steps * 10 **6\n",
    "average_power_in_watt = np.mean(total_energies)\n",
    "print(f\"{average_time_per_timestep_in_microseconds=}\")\n",
    "print(f\"{average_power_in_watt=}\")"
   ]
  },
  {
   "cell_type": "markdown",
   "metadata": {},
   "source": [
    "### Measurements for last profiler"
   ]
  },
  {
   "cell_type": "code",
   "execution_count": 24,
   "metadata": {},
   "outputs": [
    {
     "name": "stdout",
     "output_type": "stream",
     "text": [
      "Total execution time: 1.865782 s\n",
      "Total power: 0.130235 W\n",
      "Total energy: 0.242759 J\n",
      "Static energy: 0.203177 J\n"
     ]
    },
    {
     "data": {
      "image/png": "[encoded data removed]",
      "text/plain": [
       "<Figure size 1500x500 with 1 Axes>"
      ]
     },
     "metadata": {},
     "output_type": "display_data"
    },
    {
     "name": "stdout",
     "output_type": "stream",
     "text": [
      "The workload ran on a Loihi 2 system with 1 available chips and occupied 1 chips.\n",
      "Total Power   : 0.130235 W\n",
      "Dynamic Power : 0.021235 W\n",
      "Static Power  : 0.109000 W\n",
      "VDD Power     : 0.024833 W\n",
      "VDD-M Power   : 0.043990 W\n",
      "VDD-IO Power  : 0.061412 W\n",
      "Total Energy   : 242759.00 µJ\n",
      "Dynamic Energy : 39582.00 µJ\n",
      "Static Energy  : 203177.00 µJ\n",
      "VDD Energy     : 46289.00 µJ\n",
      "VDD-M Energy   : 81998.00 µJ\n",
      "VDD-IO Energy  : 114473.00 µJ\n"
     ]
    },
    {
     "data": {
      "image/png": "[encoded data removed]",
      "text/plain": [
       "<Figure size 1500x500 with 1 Axes>"
      ]
     },
     "metadata": {},
     "output_type": "display_data"
    }
   ],
   "source": [
    "print(f\"Total execution time: {np.round(np.sum(time_profiler.execution_time), 6)} s\")\n",
    "print(f\"Total power: {np.round(energy_profiler.power, 6)} W\") \n",
    "print(f\"Total energy: {np.round(energy_profiler.energy, 6)} J\")\n",
    "print(f\"Static energy: {np.round(energy_profiler.static_energy, 6)} J\") \n",
    "time_profiler.plot_execution_time()\n",
    "energy_profiler.statement\n",
    "energy_profiler.power_breakdown()\n",
    "energy_profiler.energy_breakdown()\n",
    "energy_profiler.plot_activity()"
   ]
  },
  {
   "cell_type": "code",
   "execution_count": null,
   "metadata": {},
   "outputs": [],
   "source": []
  },
  {
   "cell_type": "code",
   "execution_count": null,
   "metadata": {},
   "outputs": [],
   "source": []
  },
  {
   "cell_type": "code",
   "execution_count": null,
   "metadata": {},
   "outputs": [],
   "source": []
  },
  {
   "cell_type": "code",
   "execution_count": null,
   "metadata": {},
   "outputs": [],
   "source": [
    "\n"
   ]
  }
 ],
 "metadata": {
  "kernelspec": {
   "display_name": ".lava_dev",
   "language": "python",
   "name": "python3"
  },
  "language_info": {
   "codemirror_mode": {
    "name": "ipython",
    "version": 3
   },
   "file_extension": ".py",
   "mimetype": "text/x-python",
   "name": "python",
   "nbconvert_exporter": "python",
   "pygments_lexer": "ipython3",
   "version": "3.8.10"
  }
 },
 "nbformat": 4,
 "nbformat_minor": 2
}
