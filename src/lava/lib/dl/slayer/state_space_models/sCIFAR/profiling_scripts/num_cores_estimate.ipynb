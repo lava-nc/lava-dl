{
 "cells": [
  {
   "cell_type": "code",
   "execution_count": 4,
   "metadata": {},
   "outputs": [
    {
     "data": {
      "text/plain": [
       "<torch._C.Generator at 0x7fb54c4ef870>"
      ]
     },
     "execution_count": 4,
     "metadata": {},
     "output_type": "execute_result"
    }
   ],
   "source": [
    "import os\n",
    "from lava.utils.system import Loihi2\n",
    "loihi2_is_available = Loihi2.is_loihi2_available\n",
    "if loihi2_is_available:\n",
    "    # Enable SLURM, the workload manager used to distribute Loihi2 resources to users\n",
    "    os.environ['SLURM'] = '1'\n",
    "    os.environ['PARTITION'] = \"kp\"\n",
    "    os.environ['LOIHI_GEN'] = \"N3B3\"\n",
    "import numpy as np\n",
    "from lava.proc.sdn.process import SigmaDelta, Sigma\n",
    "from lava.proc.io.source import RingBuffer as SourceBuffer\n",
    "from lava.proc.io.sink import RingBuffer as SinkBuffer\n",
    "from lava.proc.embedded_io.spike import PyToNxAdapter, NxToPyAdapter\n",
    "import matplotlib.pyplot as plt\n",
    "from src.lava.lib.dl.slayer.state_space_models.s4 import S4D\n",
    "import torch\n",
    "from lava.magma.core.run_conditions import RunSteps\n",
    "from lava.magma.core.run_configs import Loihi2HwCfg, Loihi2SimCfg\n",
    "from lava.proc.dense.process import Dense\n",
    "from lava.proc.sdn.process import ActivationMode\n",
    "from lava.proc.s4d.process import SigmaS4dDelta, S4d\n",
    "from lava.proc.sparse.process import Sparse\n",
    "from lava.proc.spike_integrator.process import SpikeIntegrator\n",
    "import random\n",
    "from lava.magma.compiler.subcompilers.nc.ncproc_compiler import CompilerOptions\n",
    "\n",
    "# S4d\n",
    "random.seed(10)\n",
    "np.random.seed(10)\n",
    "torch.manual_seed(10)"
   ]
  },
  {
   "cell_type": "code",
   "execution_count": 5,
   "metadata": {},
   "outputs": [
    {
     "data": {
      "text/plain": [
       "S4D(\n",
       "  (layer): FFTConv(\n",
       "    (activation): Identity()\n",
       "    (kernel): SSMKernelDiag()\n",
       "    (drop): Identity()\n",
       "    (drop_kernel): Identity()\n",
       "  )\n",
       "  (mult_activation): Identity()\n",
       "  (drop): Identity()\n",
       "  (output_linear): Identity()\n",
       ")"
      ]
     },
     "execution_count": 5,
     "metadata": {},
     "output_type": "execute_result"
    }
   ],
   "source": [
    "# S4 stuff\n",
    "model_dim = 256\n",
    "d_states = 16\n",
    "\n",
    "model = S4D(d_model=model_dim,\n",
    "            d_state=d_states,\n",
    "            dropout=False,\n",
    "            transposed=True,\n",
    "            quantize = False,\n",
    "            lr=None,\n",
    "            skip=False,\n",
    "            activation=None,\n",
    "            is_real=True)\n",
    "model = model.to('cpu')\n",
    "model.eval()"
   ]
  },
  {
   "cell_type": "code",
   "execution_count": 6,
   "metadata": {},
   "outputs": [
    {
     "name": "stdout",
     "output_type": "stream",
     "text": [
      "end\n"
     ]
    },
    {
     "name": "stdout",
     "output_type": "stream",
     "text": [
      "Partitioning converged after iteration=6\n",
      "Per core utilization:\n",
      "-------------------------------------------------------------------------\n",
      "| AxonIn |NeuronGr| Neurons|Synapses| AxonMap| AxonMem|  Total |  Cores |\n",
      "|-----------------------------------------------------------------------|\n",
      "|   1.60%|  12.50%|   3.10%|  51.20%|   0.79%|   0.00%|  43.52%|       3|\n",
      "|  25.60%|  12.50%|   6.25%|  25.60%|   1.60%|   0.00%|  43.52%|       1|\n",
      "|   1.60%|  12.50%|  99.98%|   3.21%|  12.79%|   0.00%|  34.55%|       3|\n",
      "|-----------------------------------------------------------------------|\n",
      "| Total                                                        |       7|\n",
      "-------------------------------------------------------------------------\n"
     ]
    }
   ],
   "source": [
    "\n",
    "n_steps = 1000 # sequence length\n",
    "inp_exp = 13\n",
    "inp = (torch.rand(1, model_dim, n_steps) * 2** inp_exp).int().float()\n",
    "\n",
    "\n",
    "model.setup_step()\n",
    "A = model.layer.kernel.dA.detach().numpy()\n",
    "B = model.layer.kernel.dB.detach().numpy()\n",
    "C = model.layer.kernel.dC.detach().numpy()\n",
    "\n",
    "\n",
    "kron_matrix = np.kron(np.eye(model_dim), np.ones((d_states, )))\n",
    "\n",
    "#encoder\n",
    "# S4D\n",
    "dense_2 = Sparse(weights=kron_matrix.T, weight_exp=6, num_message_bits=24)\n",
    "neuron = S4d(shape=((model_dim * d_states,)), state_exp = 6, s4_exp = 12,    # state exp doesn't get used here, currently hard coded to 6\n",
    "                        a=A.flatten().reshape((model_dim * d_states,)),\n",
    "                        b=B.flatten().reshape((model_dim * d_states,)),\n",
    "                        c=C.flatten().reshape((model_dim * d_states,)))\n",
    "dense_3 = Sparse(weights=kron_matrix, num_message_bits=24, weight_exp=6)\n",
    "relay = SpikeIntegrator(shape=(model_dim,), relu_flag=False, q_scale=1/(2**6), q_exp=6)\n",
    "\n",
    "\n",
    "weights =np.random.rand(model_dim, model_dim)\n",
    "weights[weights < 0.9] = 0\n",
    "weights *= 10\n",
    "\n",
    "# FF\n",
    "dense_4 = Dense(weights=weights.astype(int), num_message_bits=24)\n",
    "ff_neuron = SpikeIntegrator(shape=(model_dim,), relu_flag=True)\n",
    "\n",
    "\n",
    "\n",
    "# connect\n",
    "dense_2.a_out.connect(neuron.a_in)  \n",
    "neuron.s_out.connect(dense_3.s_in)\n",
    "dense_3.a_out.connect(relay.a_in)\n",
    "relay.s_out.connect(dense_4.s_in)\n",
    "dense_4.a_out.connect(ff_neuron.a_in)\n",
    "\n",
    "\n",
    "run_cfg = Loihi2HwCfg()\n",
    "\n",
    "\n",
    "dense_2.run(\n",
    "                condition=RunSteps(num_steps=n_steps), run_cfg=run_cfg\n",
    "                )\n",
    "dense_2.stop()\n",
    "\n",
    "\n",
    "\n"
   ]
  }
 ],
 "metadata": {
  "kernelspec": {
   "display_name": ".lava_dev",
   "language": "python",
   "name": "python3"
  },
  "language_info": {
   "codemirror_mode": {
    "name": "ipython",
    "version": 3
   },
   "file_extension": ".py",
   "mimetype": "text/x-python",
   "name": "python",
   "nbconvert_exporter": "python",
   "pygments_lexer": "ipython3",
   "version": "3.8.10"
  }
 },
 "nbformat": 4,
 "nbformat_minor": 2
}
