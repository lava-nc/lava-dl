{
 "cells": [
  {
   "cell_type": "code",
   "execution_count": 1,
   "metadata": {},
   "outputs": [],
   "source": [
    "import torch\n",
    "import torch.nn as nn\n",
    "import torch.optim as optim\n",
    "import torchvision\n",
    "import torchvision.transforms as transforms\n",
    "\n",
    "import os\n",
    "import matplotlib.pyplot as plt\n",
    "import h5py\n",
    "\n",
    "import torch\n",
    "import torch.nn.functional as F\n",
    "\n",
    "import lava.lib.dl.slayer as slayer\n",
    "import torch\n",
    "import torchvision\n",
    "from lava.lib.dl import netx\n",
    "\n",
    "# Dropout broke in PyTorch 1.11\n",
    "if tuple(map(int, torch.__version__.split('.')[:2])) == (1, 11):\n",
    "    print(\"WARNING: Dropout is bugged in PyTorch 1.11. Results may be worse.\")\n",
    "    dropout_fn = nn.Dropout\n",
    "if tuple(map(int, torch.__version__.split('.')[:2])) >= (1, 12):\n",
    "    dropout_fn = nn.Dropout1d\n",
    "else:\n",
    "    dropout_fn = nn.Dropout2d\n",
    "\n",
    "# random_seed = 18\n",
    "# import torch\n",
    "# torch.manual_seed(random_seed)\n",
    "# import random\n",
    "# random.seed(random_seed)\n",
    "import numpy as np\n",
    "# np.random.seed(random_seed)\n"
   ]
  },
  {
   "cell_type": "code",
   "execution_count": 2,
   "metadata": {},
   "outputs": [],
   "source": [
    "def split_train_val(train, val_split):\n",
    "    train_len = int(len(train) * (1.0-val_split))\n",
    "    train, val = torch.utils.data.random_split(\n",
    "        train,\n",
    "        (train_len, len(train) - train_len),\n",
    "        generator=torch.Generator().manual_seed(42),\n",
    "    )\n",
    "    return train, val"
   ]
  },
  {
   "cell_type": "code",
   "execution_count": 3,
   "metadata": {},
   "outputs": [
    {
     "name": "stdout",
     "output_type": "stream",
     "text": [
      "Files already downloaded and verified\n",
      "Files already downloaded and verified\n"
     ]
    }
   ],
   "source": [
    "# Get validation data\n",
    "transform = transforms.Compose([\n",
    "        transforms.ToTensor(),\n",
    "        transforms.Normalize((0.4914, 0.4822, 0.4465), (0.2023, 0.1994, 0.2010)),\n",
    "        transforms.Lambda(lambda x: x.view(3, 1024).t())\n",
    "    ])\n",
    "transform_train = transform_test = transform\n",
    "\n",
    "# Datasets\n",
    "trainset = torchvision.datasets.CIFAR10(\n",
    "    root='./data/cifar/', train=True, download=True, transform=transform_train)\n",
    "trainset, val = split_train_val(trainset, val_split=0.1)\n",
    "\n",
    "testset = torchvision.datasets.CIFAR10(\n",
    "    root='./data/cifar/', train=False, download=True, transform=transform_test)\n",
    "\n",
    "val_loader = torch.utils.data.DataLoader(dataset=val , batch_size=1, shuffle=True, num_workers=8)"
   ]
  },
  {
   "cell_type": "markdown",
   "metadata": {},
   "source": []
  },
  {
   "cell_type": "code",
   "execution_count": 4,
   "metadata": {},
   "outputs": [
    {
     "name": "stdout",
     "output_type": "stream",
     "text": [
      "tensor([9])\n"
     ]
    }
   ],
   "source": [
    "label, data_sample = next(enumerate(val_loader))\n",
    "\n",
    "inp_exp = 0\n",
    "data_rescaled = torch.transpose(data_sample[0], -1,-2)\n",
    "diff_inp = data_rescaled[:,:, 1:] - data_rescaled[:, :, :-1]\n",
    "diff_inp = torch.from_numpy(np.concatenate((data_rescaled[:, :, :1], diff_inp), axis=2))\n",
    "print(data_sample[1])"
   ]
  },
  {
   "cell_type": "code",
   "execution_count": 5,
   "metadata": {},
   "outputs": [],
   "source": [
    "d_model = 128\n",
    "\n",
    "# inp_proj = torch.nn.Linear(3, d_model)\n",
    "# data_proj = inp_proj(diff_inp.movedim(-1, 1)).movedim(1, -1)\n",
    "# data_proj.shape\n",
    "\n"
   ]
  },
  {
   "cell_type": "code",
   "execution_count": 6,
   "metadata": {},
   "outputs": [
    {
     "name": "stderr",
     "output_type": "stream",
     "text": [
      "CUDA extension for structured kernels (Cauchy and Vandermonde multiplication) not found. Install by going to extensions/kernels/ and running `python setup.py install`, for improved speed and memory efficiency. Note that the kernel changed for state-spaces 4.0 and must be recompiled.\n",
      "Falling back on slow Cauchy and Vandermonde kernel. Install at least one of pykeops or the CUDA extension for better speed and memory efficiency.\n"
     ]
    },
    {
     "data": {
      "text/plain": [
       "<All keys matched successfully>"
      ]
     },
     "execution_count": 6,
     "metadata": {},
     "output_type": "execute_result"
    }
   ],
   "source": [
    "from lava.lib.dl.slayer.state_space_models.sCIFAR.network import SCIFARNetwork\n",
    "\n",
    "\n",
    "# differences\n",
    "n_states = 64\n",
    "lava_dl_model = SCIFARNetwork(d_model=d_model, n_states=n_states)\n",
    "lava_dl_model.load_state_dict(torch.load(\"4_layer.pt\"))"
   ]
  },
  {
   "cell_type": "code",
   "execution_count": 7,
   "metadata": {},
   "outputs": [],
   "source": [
    "a = lava_dl_model(data_sample[0])"
   ]
  },
  {
   "cell_type": "code",
   "execution_count": 8,
   "metadata": {},
   "outputs": [
    {
     "name": "stdout",
     "output_type": "stream",
     "text": [
      "|   Type   |  W  |  H  |  C  | ker | str | pad | dil | grp |delay|\n",
      "|Dense     |    1|    1|  128|     |     |     |     |     |False|\n",
      "|Dense     |    1|    1| 8192|     |     |     |     |     |False|\n",
      "|Dense     |    1|    1|  128|     |     |     |     |     |False|\n",
      "|Dense     |    1|    1|  128|     |     |     |     |     |False|\n",
      "|Dense     |    1|    1| 8192|     |     |     |     |     |False|\n",
      "|Dense     |    1|    1|  128|     |     |     |     |     |False|\n",
      "|Dense     |    1|    1|  128|     |     |     |     |     |False|\n",
      "|Dense     |    1|    1| 8192|     |     |     |     |     |False|\n",
      "|Dense     |    1|    1|  128|     |     |     |     |     |False|\n",
      "|Dense     |    1|    1|  128|     |     |     |     |     |False|\n",
      "|Dense     |    1|    1| 8192|     |     |     |     |     |False|\n",
      "|Dense     |    1|    1|  128|     |     |     |     |     |False|\n",
      "|Dense     |    1|    1|  128|     |     |     |     |     |False|\n",
      "|Dense     |    1|    1|   10|     |     |     |     |     |False|\n"
     ]
    }
   ],
   "source": [
    "# lava_dl_model.export_hdf5(\"debug.net\")\n",
    "loaded_net =  netx.hdf5.Network(net_config='4_layer_cifar.net', input_message_bits=16, sparse_fc_layer=True, skip_layers=1)\n",
    "# os.remove(\"debug.net\")\n",
    "print(loaded_net)"
   ]
  },
  {
   "cell_type": "code",
   "execution_count": 9,
   "metadata": {},
   "outputs": [],
   "source": [
    "# get output from loaded lava net\n",
    "from lava.proc.io.source import RingBuffer as SourceBuffer\n",
    "from lava.proc.io.sink import RingBuffer as SinkBuffer\n",
    "from lava.magma.core.run_conditions import RunSteps\n",
    "from lava.magma.core.run_configs import Loihi2SimCfg, Loihi2HwCfg\n",
    "from lava.proc.dense.process import Dense\n",
    "from lava.proc.s4d.ncmodels import NcModelSigmaS4dDelta\n",
    "from lava.proc.s4d.process import SigmaS4dDelta\n",
    "from lava.proc.embedded_io.spike import PyToNxAdapter, NxToPyAdapter\n",
    "\n",
    "# Enable SLURM, the workload manager used to distribute Loihi2 resources to users\n",
    "os.environ['SLURM'] = '1'\n",
    "os.environ['PARTITION'] = \"oheogulch\"\n",
    "os.environ['LOIHI_GEN'] = \"N3C1\"\n",
    "\n",
    "n_steps = 1024 + len(loaded_net)\n",
    "\n",
    "spiker = SourceBuffer(data=diff_inp.detach().numpy().reshape(3,1024) * 2**inp_exp)\n",
    "adapter_i = PyToNxAdapter(shape=(3,), num_message_bits=16)\n",
    "adapter_o = NxToPyAdapter(shape=(10,), num_message_bits=16)\n",
    "receiver = SinkBuffer(buffer = n_steps, shape=(10,))\n",
    "\n",
    "\n",
    "spiker.s_out.connect(adapter_i.inp)\n",
    "adapter_i.out.connect(loaded_net.inp)\n",
    "loaded_net.out.connect(adapter_o.inp)\n",
    "adapter_o.out.connect(receiver.a_in)\n",
    "\n",
    "# exception_map = {SigmaS4dDelta : NcModelSigmaS4dDelta}\n",
    "# run_cfg = Loihi2HwCfg(exception_proc_model_map=exception_map)\n",
    "\n",
    "run_cfg = Loihi2HwCfg()"
   ]
  },
  {
   "cell_type": "code",
   "execution_count": 10,
   "metadata": {},
   "outputs": [
    {
     "name": "stdout",
     "output_type": "stream",
     "text": [
      "Partitioning converged after iteration=7\n",
      "Per core utilization:\n",
      "-------------------------------------------------------------------------\n",
      "| AxonIn |NeuronGr| Neurons|Synapses| AxonMap| AxonMem|  Total |  Cores |\n",
      "|-----------------------------------------------------------------------|\n",
      "|   0.80%|  12.50%|   0.24%|   2.93%|   0.06%|   0.00%|   3.09%|       1|\n",
      "|   0.80%|  12.50%|   3.13%|  28.11%|   0.80%|   0.00%|  24.41%|       1|\n",
      "|  51.20%|  12.50%|   1.54%|  25.20%|   0.39%|   0.00%|  61.76%|       3|\n",
      "|   0.80%|  12.50%|  99.98%|   2.80%|  12.79%|   0.00%|  33.59%|       5|\n",
      "|   0.80%|  12.50%|   3.13%|  27.32%|   0.80%|   0.00%|  23.78%|       1|\n",
      "|  51.20%|  12.50%|   1.54%|  25.20%|   0.39%|   0.00%|  61.76%|       3|\n",
      "|   0.80%|  12.50%|  99.98%|   2.80%|  12.79%|   0.00%|  33.59%|       5|\n",
      "|   0.80%|  12.50%|   3.13%|  27.42%|   0.80%|   0.00%|  23.86%|       1|\n",
      "|  51.20%|  12.50%|   1.54%|  25.20%|   0.39%|   0.00%|  61.76%|       3|\n",
      "|   0.80%|  12.50%|  99.98%|   2.80%|  12.79%|   0.00%|  33.59%|       5|\n",
      "|   0.80%|  12.50%|   3.13%|  27.87%|   0.80%|   0.00%|  24.22%|       1|\n",
      "|  51.20%|  12.50%|   1.54%|  25.20%|   0.39%|   0.00%|  61.76%|       3|\n",
      "|   0.80%|  12.50%|  99.98%|   2.80%|  12.79%|   0.00%|  33.59%|       5|\n",
      "|   0.02%|  12.50%|   3.13%|   0.72%|   0.80%|   0.00%|   1.88%|       1|\n",
      "|-----------------------------------------------------------------------|\n",
      "| Total                                                        |      38|\n",
      "-------------------------------------------------------------------------\n"
     ]
    },
    {
     "name": "stderr",
     "output_type": "stream",
     "text": [
      "/home/pweidel/lava-nc/frameworks.ai.nx.nxsdk/nxcore/arch/n3b/n3board.py:77: UserWarning: Loihi generation overriden by environment variable LOIHI_GEN=N3C1\n",
      "  warnings.warn(\"Loihi generation overriden by environment variable LOIHI_GEN={}\".format(os.environ[\"LOIHI_GEN\"]))\n"
     ]
    }
   ],
   "source": [
    "from lava.magma.compiler.subcompilers.nc.ncproc_compiler import CompilerOptions\n",
    "CompilerOptions.verbose = True\n",
    "sigma = np.zeros(n_steps)\n",
    "S4state = np.zeros(n_steps)\n",
    "\n",
    "for time_step in range(n_steps):\n",
    "        spiker.run(\n",
    "            condition=RunSteps(num_steps=1), run_cfg=Loihi2HwCfg()\n",
    "        )    \n",
    "received_data_lava = receiver.data.get()\n",
    "spiker.stop()"
   ]
  },
  {
   "cell_type": "code",
   "execution_count": 11,
   "metadata": {},
   "outputs": [],
   "source": [
    "out_lava = (received_data_lava.astype(np.int32) << 8) >> 8"
   ]
  },
  {
   "cell_type": "code",
   "execution_count": 12,
   "metadata": {},
   "outputs": [
    {
     "data": {
      "image/png": "[encoded data removed]",
      "text/plain": [
       "<Figure size 1500x500 with 4 Axes>"
      ]
     },
     "metadata": {},
     "output_type": "display_data"
    }
   ],
   "source": [
    "fig, axs = plt.subplots(1, 4, figsize=(15, 5))\n",
    "# axs[0].plot(np.cumsum(a[0].detach().numpy(), axis=1).T);\n",
    "# axs[1].plot(np.cumsum(received_data_lava.astype(np.int16), axis=1)[:, :].T / 2**inp_exp);\n",
    "\n",
    "axs[2].plot(a[0].detach().numpy().T);\n",
    "axs[3].plot(out_lava.T, label=range(10))\n",
    "plt.legend();"
   ]
  },
  {
   "cell_type": "code",
   "execution_count": 13,
   "metadata": {},
   "outputs": [
    {
     "data": {
      "text/plain": [
       "0"
      ]
     },
     "execution_count": 13,
     "metadata": {},
     "output_type": "execute_result"
    }
   ],
   "source": [
    "out_lava.mean(-1).argmax()"
   ]
  },
  {
   "cell_type": "code",
   "execution_count": 14,
   "metadata": {},
   "outputs": [
    {
     "data": {
      "text/plain": [
       "tensor([9])"
      ]
     },
     "execution_count": 14,
     "metadata": {},
     "output_type": "execute_result"
    }
   ],
   "source": [
    "data_sample[1]"
   ]
  },
  {
   "cell_type": "code",
   "execution_count": 15,
   "metadata": {},
   "outputs": [
    {
     "data": {
      "text/plain": [
       "tensor(9)"
      ]
     },
     "execution_count": 15,
     "metadata": {},
     "output_type": "execute_result"
    }
   ],
   "source": [
    "a[0].mean(-1).argmax()"
   ]
  },
  {
   "cell_type": "code",
   "execution_count": null,
   "metadata": {},
   "outputs": [
    {
     "name": "stderr",
     "output_type": "stream",
     "text": [
      "/home/pweidel/lava-nc/frameworks.ai.nx.nxsdk/nxcore/arch/n3b/n3board.py:77: UserWarning: Loihi generation overriden by environment variable LOIHI_GEN=N3C1\n",
      "  warnings.warn(\"Loihi generation overriden by environment variable LOIHI_GEN={}\".format(os.environ[\"LOIHI_GEN\"]))\n"
     ]
    },
    {
     "name": "stdout",
     "output_type": "stream",
     "text": [
      "tensor([3]) 6 2\n"
     ]
    },
    {
     "name": "stderr",
     "output_type": "stream",
     "text": [
      "/home/pweidel/lava-nc/frameworks.ai.nx.nxsdk/nxcore/arch/n3b/n3board.py:77: UserWarning: Loihi generation overriden by environment variable LOIHI_GEN=N3C1\n",
      "  warnings.warn(\"Loihi generation overriden by environment variable LOIHI_GEN={}\".format(os.environ[\"LOIHI_GEN\"]))\n"
     ]
    },
    {
     "name": "stdout",
     "output_type": "stream",
     "text": [
      "tensor([3]) 0 4\n"
     ]
    },
    {
     "name": "stderr",
     "output_type": "stream",
     "text": [
      "/home/pweidel/lava-nc/frameworks.ai.nx.nxsdk/nxcore/arch/n3b/n3board.py:77: UserWarning: Loihi generation overriden by environment variable LOIHI_GEN=N3C1\n",
      "  warnings.warn(\"Loihi generation overriden by environment variable LOIHI_GEN={}\".format(os.environ[\"LOIHI_GEN\"]))\n"
     ]
    },
    {
     "name": "stdout",
     "output_type": "stream",
     "text": [
      "tensor([9]) 7 0\n"
     ]
    },
    {
     "name": "stderr",
     "output_type": "stream",
     "text": [
      "/home/pweidel/lava-nc/frameworks.ai.nx.nxsdk/nxcore/arch/n3b/n3board.py:77: UserWarning: Loihi generation overriden by environment variable LOIHI_GEN=N3C1\n",
      "  warnings.warn(\"Loihi generation overriden by environment variable LOIHI_GEN={}\".format(os.environ[\"LOIHI_GEN\"]))\n"
     ]
    },
    {
     "name": "stdout",
     "output_type": "stream",
     "text": [
      "tensor([8]) 8 4\n"
     ]
    },
    {
     "name": "stderr",
     "output_type": "stream",
     "text": [
      "/home/pweidel/lava-nc/frameworks.ai.nx.nxsdk/nxcore/arch/n3b/n3board.py:77: UserWarning: Loihi generation overriden by environment variable LOIHI_GEN=N3C1\n",
      "  warnings.warn(\"Loihi generation overriden by environment variable LOIHI_GEN={}\".format(os.environ[\"LOIHI_GEN\"]))\n"
     ]
    },
    {
     "name": "stdout",
     "output_type": "stream",
     "text": [
      "tensor([1]) 9 4\n"
     ]
    },
    {
     "name": "stderr",
     "output_type": "stream",
     "text": [
      "/home/pweidel/lava-nc/frameworks.ai.nx.nxsdk/nxcore/arch/n3b/n3board.py:77: UserWarning: Loihi generation overriden by environment variable LOIHI_GEN=N3C1\n",
      "  warnings.warn(\"Loihi generation overriden by environment variable LOIHI_GEN={}\".format(os.environ[\"LOIHI_GEN\"]))\n"
     ]
    },
    {
     "name": "stdout",
     "output_type": "stream",
     "text": [
      "tensor([4]) 2 5\n"
     ]
    },
    {
     "name": "stderr",
     "output_type": "stream",
     "text": [
      "/home/pweidel/lava-nc/frameworks.ai.nx.nxsdk/nxcore/arch/n3b/n3board.py:77: UserWarning: Loihi generation overriden by environment variable LOIHI_GEN=N3C1\n",
      "  warnings.warn(\"Loihi generation overriden by environment variable LOIHI_GEN={}\".format(os.environ[\"LOIHI_GEN\"]))\n"
     ]
    },
    {
     "name": "stdout",
     "output_type": "stream",
     "text": [
      "tensor([1]) 1 4\n"
     ]
    },
    {
     "name": "stderr",
     "output_type": "stream",
     "text": [
      "/home/pweidel/lava-nc/frameworks.ai.nx.nxsdk/nxcore/arch/n3b/n3board.py:77: UserWarning: Loihi generation overriden by environment variable LOIHI_GEN=N3C1\n",
      "  warnings.warn(\"Loihi generation overriden by environment variable LOIHI_GEN={}\".format(os.environ[\"LOIHI_GEN\"]))\n"
     ]
    },
    {
     "name": "stdout",
     "output_type": "stream",
     "text": [
      "tensor([4]) 4 4\n"
     ]
    },
    {
     "name": "stderr",
     "output_type": "stream",
     "text": [
      "/home/pweidel/lava-nc/frameworks.ai.nx.nxsdk/nxcore/arch/n3b/n3board.py:77: UserWarning: Loihi generation overriden by environment variable LOIHI_GEN=N3C1\n",
      "  warnings.warn(\"Loihi generation overriden by environment variable LOIHI_GEN={}\".format(os.environ[\"LOIHI_GEN\"]))\n"
     ]
    },
    {
     "name": "stdout",
     "output_type": "stream",
     "text": [
      "tensor([7]) 7 4\n"
     ]
    },
    {
     "name": "stderr",
     "output_type": "stream",
     "text": [
      "/home/pweidel/lava-nc/frameworks.ai.nx.nxsdk/nxcore/arch/n3b/n3board.py:77: UserWarning: Loihi generation overriden by environment variable LOIHI_GEN=N3C1\n",
      "  warnings.warn(\"Loihi generation overriden by environment variable LOIHI_GEN={}\".format(os.environ[\"LOIHI_GEN\"]))\n"
     ]
    },
    {
     "name": "stdout",
     "output_type": "stream",
     "text": [
      "tensor([0]) 8 4\n"
     ]
    },
    {
     "name": "stderr",
     "output_type": "stream",
     "text": [
      "/home/pweidel/lava-nc/frameworks.ai.nx.nxsdk/nxcore/arch/n3b/n3board.py:77: UserWarning: Loihi generation overriden by environment variable LOIHI_GEN=N3C1\n",
      "  warnings.warn(\"Loihi generation overriden by environment variable LOIHI_GEN={}\".format(os.environ[\"LOIHI_GEN\"]))\n"
     ]
    },
    {
     "name": "stdout",
     "output_type": "stream",
     "text": [
      "tensor([0]) 0 6\n"
     ]
    },
    {
     "name": "stderr",
     "output_type": "stream",
     "text": [
      "/home/pweidel/lava-nc/frameworks.ai.nx.nxsdk/nxcore/arch/n3b/n3board.py:77: UserWarning: Loihi generation overriden by environment variable LOIHI_GEN=N3C1\n",
      "  warnings.warn(\"Loihi generation overriden by environment variable LOIHI_GEN={}\".format(os.environ[\"LOIHI_GEN\"]))\n"
     ]
    },
    {
     "name": "stdout",
     "output_type": "stream",
     "text": [
      "tensor([2]) 3 4\n"
     ]
    },
    {
     "name": "stderr",
     "output_type": "stream",
     "text": [
      "/home/pweidel/lava-nc/frameworks.ai.nx.nxsdk/nxcore/arch/n3b/n3board.py:77: UserWarning: Loihi generation overriden by environment variable LOIHI_GEN=N3C1\n",
      "  warnings.warn(\"Loihi generation overriden by environment variable LOIHI_GEN={}\".format(os.environ[\"LOIHI_GEN\"]))\n"
     ]
    },
    {
     "name": "stdout",
     "output_type": "stream",
     "text": [
      "tensor([4]) 4 4\n"
     ]
    },
    {
     "name": "stderr",
     "output_type": "stream",
     "text": [
      "/home/pweidel/lava-nc/frameworks.ai.nx.nxsdk/nxcore/arch/n3b/n3board.py:77: UserWarning: Loihi generation overriden by environment variable LOIHI_GEN=N3C1\n",
      "  warnings.warn(\"Loihi generation overriden by environment variable LOIHI_GEN={}\".format(os.environ[\"LOIHI_GEN\"]))\n"
     ]
    },
    {
     "name": "stdout",
     "output_type": "stream",
     "text": [
      "tensor([2]) 2 4\n"
     ]
    },
    {
     "name": "stderr",
     "output_type": "stream",
     "text": [
      "/home/pweidel/lava-nc/frameworks.ai.nx.nxsdk/nxcore/arch/n3b/n3board.py:77: UserWarning: Loihi generation overriden by environment variable LOIHI_GEN=N3C1\n",
      "  warnings.warn(\"Loihi generation overriden by environment variable LOIHI_GEN={}\".format(os.environ[\"LOIHI_GEN\"]))\n"
     ]
    },
    {
     "name": "stdout",
     "output_type": "stream",
     "text": [
      "tensor([5]) 7 4\n"
     ]
    },
    {
     "name": "stderr",
     "output_type": "stream",
     "text": [
      "/home/pweidel/lava-nc/frameworks.ai.nx.nxsdk/nxcore/arch/n3b/n3board.py:77: UserWarning: Loihi generation overriden by environment variable LOIHI_GEN=N3C1\n",
      "  warnings.warn(\"Loihi generation overriden by environment variable LOIHI_GEN={}\".format(os.environ[\"LOIHI_GEN\"]))\n"
     ]
    },
    {
     "name": "stdout",
     "output_type": "stream",
     "text": [
      "tensor([8]) 8 0\n"
     ]
    },
    {
     "name": "stderr",
     "output_type": "stream",
     "text": [
      "/home/pweidel/lava-nc/frameworks.ai.nx.nxsdk/nxcore/arch/n3b/n3board.py:77: UserWarning: Loihi generation overriden by environment variable LOIHI_GEN=N3C1\n",
      "  warnings.warn(\"Loihi generation overriden by environment variable LOIHI_GEN={}\".format(os.environ[\"LOIHI_GEN\"]))\n"
     ]
    },
    {
     "name": "stdout",
     "output_type": "stream",
     "text": [
      "tensor([1]) 1 4\n"
     ]
    },
    {
     "name": "stderr",
     "output_type": "stream",
     "text": [
      "/home/pweidel/lava-nc/frameworks.ai.nx.nxsdk/nxcore/arch/n3b/n3board.py:77: UserWarning: Loihi generation overriden by environment variable LOIHI_GEN=N3C1\n",
      "  warnings.warn(\"Loihi generation overriden by environment variable LOIHI_GEN={}\".format(os.environ[\"LOIHI_GEN\"]))\n"
     ]
    },
    {
     "name": "stdout",
     "output_type": "stream",
     "text": [
      "tensor([5]) 6 4\n"
     ]
    },
    {
     "name": "stderr",
     "output_type": "stream",
     "text": [
      "/home/pweidel/lava-nc/frameworks.ai.nx.nxsdk/nxcore/arch/n3b/n3board.py:77: UserWarning: Loihi generation overriden by environment variable LOIHI_GEN=N3C1\n",
      "  warnings.warn(\"Loihi generation overriden by environment variable LOIHI_GEN={}\".format(os.environ[\"LOIHI_GEN\"]))\n"
     ]
    },
    {
     "name": "stdout",
     "output_type": "stream",
     "text": [
      "tensor([4]) 7 4\n"
     ]
    },
    {
     "name": "stderr",
     "output_type": "stream",
     "text": [
      "/home/pweidel/lava-nc/frameworks.ai.nx.nxsdk/nxcore/arch/n3b/n3board.py:77: UserWarning: Loihi generation overriden by environment variable LOIHI_GEN=N3C1\n",
      "  warnings.warn(\"Loihi generation overriden by environment variable LOIHI_GEN={}\".format(os.environ[\"LOIHI_GEN\"]))\n"
     ]
    },
    {
     "name": "stdout",
     "output_type": "stream",
     "text": [
      "tensor([9]) 9 6\n"
     ]
    },
    {
     "name": "stderr",
     "output_type": "stream",
     "text": [
      "/home/pweidel/lava-nc/frameworks.ai.nx.nxsdk/nxcore/arch/n3b/n3board.py:77: UserWarning: Loihi generation overriden by environment variable LOIHI_GEN=N3C1\n",
      "  warnings.warn(\"Loihi generation overriden by environment variable LOIHI_GEN={}\".format(os.environ[\"LOIHI_GEN\"]))\n"
     ]
    },
    {
     "name": "stdout",
     "output_type": "stream",
     "text": [
      "tensor([7]) 2 4\n"
     ]
    },
    {
     "name": "stderr",
     "output_type": "stream",
     "text": [
      "/home/pweidel/lava-nc/frameworks.ai.nx.nxsdk/nxcore/arch/n3b/n3board.py:77: UserWarning: Loihi generation overriden by environment variable LOIHI_GEN=N3C1\n",
      "  warnings.warn(\"Loihi generation overriden by environment variable LOIHI_GEN={}\".format(os.environ[\"LOIHI_GEN\"]))\n"
     ]
    },
    {
     "name": "stdout",
     "output_type": "stream",
     "text": [
      "tensor([6]) 6 2\n"
     ]
    },
    {
     "name": "stderr",
     "output_type": "stream",
     "text": [
      "/home/pweidel/lava-nc/frameworks.ai.nx.nxsdk/nxcore/arch/n3b/n3board.py:77: UserWarning: Loihi generation overriden by environment variable LOIHI_GEN=N3C1\n",
      "  warnings.warn(\"Loihi generation overriden by environment variable LOIHI_GEN={}\".format(os.environ[\"LOIHI_GEN\"]))\n"
     ]
    },
    {
     "name": "stdout",
     "output_type": "stream",
     "text": [
      "tensor([0]) 0 4\n"
     ]
    },
    {
     "name": "stderr",
     "output_type": "stream",
     "text": [
      "/home/pweidel/lava-nc/frameworks.ai.nx.nxsdk/nxcore/arch/n3b/n3board.py:77: UserWarning: Loihi generation overriden by environment variable LOIHI_GEN=N3C1\n",
      "  warnings.warn(\"Loihi generation overriden by environment variable LOIHI_GEN={}\".format(os.environ[\"LOIHI_GEN\"]))\n"
     ]
    },
    {
     "name": "stdout",
     "output_type": "stream",
     "text": [
      "tensor([2]) 2 2\n"
     ]
    },
    {
     "name": "stderr",
     "output_type": "stream",
     "text": [
      "/home/pweidel/lava-nc/frameworks.ai.nx.nxsdk/nxcore/arch/n3b/n3board.py:77: UserWarning: Loihi generation overriden by environment variable LOIHI_GEN=N3C1\n",
      "  warnings.warn(\"Loihi generation overriden by environment variable LOIHI_GEN={}\".format(os.environ[\"LOIHI_GEN\"]))\n"
     ]
    },
    {
     "name": "stdout",
     "output_type": "stream",
     "text": [
      "tensor([2]) 2 4\n"
     ]
    },
    {
     "name": "stderr",
     "output_type": "stream",
     "text": [
      "/home/pweidel/lava-nc/frameworks.ai.nx.nxsdk/nxcore/arch/n3b/n3board.py:77: UserWarning: Loihi generation overriden by environment variable LOIHI_GEN=N3C1\n",
      "  warnings.warn(\"Loihi generation overriden by environment variable LOIHI_GEN={}\".format(os.environ[\"LOIHI_GEN\"]))\n"
     ]
    },
    {
     "name": "stdout",
     "output_type": "stream",
     "text": [
      "tensor([7]) 0 4\n"
     ]
    },
    {
     "name": "stderr",
     "output_type": "stream",
     "text": [
      "/home/pweidel/lava-nc/frameworks.ai.nx.nxsdk/nxcore/arch/n3b/n3board.py:77: UserWarning: Loihi generation overriden by environment variable LOIHI_GEN=N3C1\n",
      "  warnings.warn(\"Loihi generation overriden by environment variable LOIHI_GEN={}\".format(os.environ[\"LOIHI_GEN\"]))\n"
     ]
    },
    {
     "name": "stdout",
     "output_type": "stream",
     "text": [
      "tensor([0]) 0 4\n"
     ]
    },
    {
     "name": "stderr",
     "output_type": "stream",
     "text": [
      "/home/pweidel/lava-nc/frameworks.ai.nx.nxsdk/nxcore/arch/n3b/n3board.py:77: UserWarning: Loihi generation overriden by environment variable LOIHI_GEN=N3C1\n",
      "  warnings.warn(\"Loihi generation overriden by environment variable LOIHI_GEN={}\".format(os.environ[\"LOIHI_GEN\"]))\n"
     ]
    },
    {
     "name": "stdout",
     "output_type": "stream",
     "text": [
      "tensor([5]) 3 8\n"
     ]
    },
    {
     "name": "stderr",
     "output_type": "stream",
     "text": [
      "/home/pweidel/lava-nc/frameworks.ai.nx.nxsdk/nxcore/arch/n3b/n3board.py:77: UserWarning: Loihi generation overriden by environment variable LOIHI_GEN=N3C1\n",
      "  warnings.warn(\"Loihi generation overriden by environment variable LOIHI_GEN={}\".format(os.environ[\"LOIHI_GEN\"]))\n"
     ]
    },
    {
     "name": "stdout",
     "output_type": "stream",
     "text": [
      "tensor([8]) 8 4\n"
     ]
    },
    {
     "name": "stderr",
     "output_type": "stream",
     "text": [
      "/home/pweidel/lava-nc/frameworks.ai.nx.nxsdk/nxcore/arch/n3b/n3board.py:77: UserWarning: Loihi generation overriden by environment variable LOIHI_GEN=N3C1\n",
      "  warnings.warn(\"Loihi generation overriden by environment variable LOIHI_GEN={}\".format(os.environ[\"LOIHI_GEN\"]))\n"
     ]
    },
    {
     "name": "stdout",
     "output_type": "stream",
     "text": [
      "tensor([7]) 4 6\n"
     ]
    },
    {
     "name": "stderr",
     "output_type": "stream",
     "text": [
      "/home/pweidel/lava-nc/frameworks.ai.nx.nxsdk/nxcore/arch/n3b/n3board.py:77: UserWarning: Loihi generation overriden by environment variable LOIHI_GEN=N3C1\n",
      "  warnings.warn(\"Loihi generation overriden by environment variable LOIHI_GEN={}\".format(os.environ[\"LOIHI_GEN\"]))\n"
     ]
    },
    {
     "name": "stdout",
     "output_type": "stream",
     "text": [
      "tensor([0]) 9 6\n"
     ]
    },
    {
     "name": "stderr",
     "output_type": "stream",
     "text": [
      "/home/pweidel/lava-nc/frameworks.ai.nx.nxsdk/nxcore/arch/n3b/n3board.py:77: UserWarning: Loihi generation overriden by environment variable LOIHI_GEN=N3C1\n",
      "  warnings.warn(\"Loihi generation overriden by environment variable LOIHI_GEN={}\".format(os.environ[\"LOIHI_GEN\"]))\n"
     ]
    },
    {
     "name": "stdout",
     "output_type": "stream",
     "text": [
      "tensor([1]) 1 4\n"
     ]
    },
    {
     "name": "stderr",
     "output_type": "stream",
     "text": [
      "/home/pweidel/lava-nc/frameworks.ai.nx.nxsdk/nxcore/arch/n3b/n3board.py:77: UserWarning: Loihi generation overriden by environment variable LOIHI_GEN=N3C1\n",
      "  warnings.warn(\"Loihi generation overriden by environment variable LOIHI_GEN={}\".format(os.environ[\"LOIHI_GEN\"]))\n"
     ]
    },
    {
     "name": "stdout",
     "output_type": "stream",
     "text": [
      "tensor([2]) 2 5\n"
     ]
    },
    {
     "name": "stderr",
     "output_type": "stream",
     "text": [
      "/home/pweidel/lava-nc/frameworks.ai.nx.nxsdk/nxcore/arch/n3b/n3board.py:77: UserWarning: Loihi generation overriden by environment variable LOIHI_GEN=N3C1\n",
      "  warnings.warn(\"Loihi generation overriden by environment variable LOIHI_GEN={}\".format(os.environ[\"LOIHI_GEN\"]))\n"
     ]
    },
    {
     "name": "stdout",
     "output_type": "stream",
     "text": [
      "tensor([7]) 4 4\n"
     ]
    },
    {
     "name": "stderr",
     "output_type": "stream",
     "text": [
      "/home/pweidel/lava-nc/frameworks.ai.nx.nxsdk/nxcore/arch/n3b/n3board.py:77: UserWarning: Loihi generation overriden by environment variable LOIHI_GEN=N3C1\n",
      "  warnings.warn(\"Loihi generation overriden by environment variable LOIHI_GEN={}\".format(os.environ[\"LOIHI_GEN\"]))\n"
     ]
    },
    {
     "name": "stdout",
     "output_type": "stream",
     "text": [
      "tensor([6]) 3 4\n"
     ]
    },
    {
     "name": "stderr",
     "output_type": "stream",
     "text": [
      "/home/pweidel/lava-nc/frameworks.ai.nx.nxsdk/nxcore/arch/n3b/n3board.py:77: UserWarning: Loihi generation overriden by environment variable LOIHI_GEN=N3C1\n",
      "  warnings.warn(\"Loihi generation overriden by environment variable LOIHI_GEN={}\".format(os.environ[\"LOIHI_GEN\"]))\n"
     ]
    },
    {
     "name": "stdout",
     "output_type": "stream",
     "text": [
      "tensor([6]) 6 4\n"
     ]
    },
    {
     "name": "stderr",
     "output_type": "stream",
     "text": [
      "/home/pweidel/lava-nc/frameworks.ai.nx.nxsdk/nxcore/arch/n3b/n3board.py:77: UserWarning: Loihi generation overriden by environment variable LOIHI_GEN=N3C1\n",
      "  warnings.warn(\"Loihi generation overriden by environment variable LOIHI_GEN={}\".format(os.environ[\"LOIHI_GEN\"]))\n"
     ]
    },
    {
     "name": "stdout",
     "output_type": "stream",
     "text": [
      "tensor([7]) 7 4\n"
     ]
    },
    {
     "name": "stderr",
     "output_type": "stream",
     "text": [
      "/home/pweidel/lava-nc/frameworks.ai.nx.nxsdk/nxcore/arch/n3b/n3board.py:77: UserWarning: Loihi generation overriden by environment variable LOIHI_GEN=N3C1\n",
      "  warnings.warn(\"Loihi generation overriden by environment variable LOIHI_GEN={}\".format(os.environ[\"LOIHI_GEN\"]))\n"
     ]
    },
    {
     "name": "stdout",
     "output_type": "stream",
     "text": [
      "tensor([4]) 4 6\n"
     ]
    },
    {
     "name": "stderr",
     "output_type": "stream",
     "text": [
      "/home/pweidel/lava-nc/frameworks.ai.nx.nxsdk/nxcore/arch/n3b/n3board.py:77: UserWarning: Loihi generation overriden by environment variable LOIHI_GEN=N3C1\n",
      "  warnings.warn(\"Loihi generation overriden by environment variable LOIHI_GEN={}\".format(os.environ[\"LOIHI_GEN\"]))\n"
     ]
    },
    {
     "name": "stdout",
     "output_type": "stream",
     "text": [
      "tensor([1]) 1 4\n"
     ]
    },
    {
     "name": "stderr",
     "output_type": "stream",
     "text": [
      "/home/pweidel/lava-nc/frameworks.ai.nx.nxsdk/nxcore/arch/n3b/n3board.py:77: UserWarning: Loihi generation overriden by environment variable LOIHI_GEN=N3C1\n",
      "  warnings.warn(\"Loihi generation overriden by environment variable LOIHI_GEN={}\".format(os.environ[\"LOIHI_GEN\"]))\n"
     ]
    },
    {
     "name": "stdout",
     "output_type": "stream",
     "text": [
      "tensor([4]) 4 4\n"
     ]
    },
    {
     "name": "stderr",
     "output_type": "stream",
     "text": [
      "/home/pweidel/lava-nc/frameworks.ai.nx.nxsdk/nxcore/arch/n3b/n3board.py:77: UserWarning: Loihi generation overriden by environment variable LOIHI_GEN=N3C1\n",
      "  warnings.warn(\"Loihi generation overriden by environment variable LOIHI_GEN={}\".format(os.environ[\"LOIHI_GEN\"]))\n"
     ]
    },
    {
     "name": "stdout",
     "output_type": "stream",
     "text": [
      "tensor([9]) 0 4\n"
     ]
    },
    {
     "name": "stderr",
     "output_type": "stream",
     "text": [
      "/home/pweidel/lava-nc/frameworks.ai.nx.nxsdk/nxcore/arch/n3b/n3board.py:77: UserWarning: Loihi generation overriden by environment variable LOIHI_GEN=N3C1\n",
      "  warnings.warn(\"Loihi generation overriden by environment variable LOIHI_GEN={}\".format(os.environ[\"LOIHI_GEN\"]))\n"
     ]
    }
   ],
   "source": [
    "CompilerOptions.verbose = False\n",
    "\n",
    "preds = []\n",
    "preds_dl = []\n",
    "tgts = []\n",
    "for batch_idx, [inp, tgt] in enumerate(val_loader):\n",
    "    \n",
    "    inp_exp = 0\n",
    "    data_rescaled = torch.transpose(inp, -1,-2)\n",
    "    diff_inp = data_rescaled[:,:, 1:] - data_rescaled[:, :, :-1]\n",
    "    diff_inp = torch.from_numpy(np.concatenate((data_rescaled[:, :, :1], diff_inp), axis=2))\n",
    "\n",
    "\n",
    "    tgts.append(tgt.item())\n",
    "    # lava_dl_model = SCIFARNetwork(d_model=d_model, n_states=n_states)\n",
    "    # lava_dl_model.load_state_dict(torch.load(\"4_layer.pt\"))\n",
    "    # lava_dl_model.eval()\n",
    "    \n",
    "    out_dl = lava_dl_model(inp)\n",
    "    pred_dl = out_dl[0].mean(-1).argmax().item()\n",
    "\n",
    "    preds_dl.append(pred_dl)\n",
    "\n",
    "    loaded_net =  netx.hdf5.Network(net_config='4_layer_cifar.net', input_message_bits=16, sparse_fc_layer=True, skip_layers=1)\n",
    "    n_steps = 1024 + len(loaded_net)\n",
    "    \n",
    "    spiker = SourceBuffer(data=diff_inp.detach().numpy().reshape(3,1024) * 2**inp_exp)\n",
    "    adapter_i = PyToNxAdapter(shape=(3,), num_message_bits=16)\n",
    "    adapter_o = NxToPyAdapter(shape=(10,), num_message_bits=16)\n",
    "    receiver = SinkBuffer(buffer = n_steps, shape=(10,))\n",
    "    \n",
    "    \n",
    "    spiker.s_out.connect(adapter_i.inp)\n",
    "    adapter_i.out.connect(loaded_net.inp)\n",
    "    loaded_net.out.connect(adapter_o.inp)\n",
    "    adapter_o.out.connect(receiver.a_in)\n",
    "    run_cfg = Loihi2HwCfg()\n",
    "    spiker.run(condition=RunSteps(num_steps=n_steps), run_cfg=Loihi2HwCfg()) \n",
    "    received_data_lava = receiver.data.get()\n",
    "    spiker.stop()\n",
    "    out_lava = (received_data_lava.astype(np.int32) << 8) >> 8\n",
    "    pred_lava = out_lava.mean(-1).argmax()\n",
    "    preds.append(pred_lava)\n",
    "\n",
    "    \n",
    "    print(tgt, pred_dl, pred_lava)\n",
    "    if batch_idx > 100:\n",
    "        break\n"
   ]
  },
  {
   "cell_type": "code",
   "execution_count": null,
   "metadata": {},
   "outputs": [],
   "source": [
    "print(tgts, preds_dl, preds)\n"
   ]
  },
  {
   "cell_type": "code",
   "execution_count": null,
   "metadata": {},
   "outputs": [],
   "source": []
  }
 ],
 "metadata": {
  "kernelspec": {
   "display_name": "Python 3 (ipykernel)",
   "language": "python",
   "name": "python3"
  },
  "language_info": {
   "codemirror_mode": {
    "name": "ipython",
    "version": 3
   },
   "file_extension": ".py",
   "mimetype": "text/x-python",
   "name": "python",
   "nbconvert_exporter": "python",
   "pygments_lexer": "ipython3",
   "version": "3.9.18"
  }
 },
 "nbformat": 4,
 "nbformat_minor": 4
}
