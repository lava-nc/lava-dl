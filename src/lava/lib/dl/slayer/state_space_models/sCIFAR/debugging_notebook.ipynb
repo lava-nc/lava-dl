{
 "cells": [
  {
   "cell_type": "code",
   "execution_count": 1,
   "metadata": {},
   "outputs": [
    {
     "name": "stderr",
     "output_type": "stream",
     "text": [
      "CUDA extension for structured kernels (Cauchy and Vandermonde multiplication) not found. Install by going to extensions/kernels/ and running `python setup.py install`, for improved speed and memory efficiency. Note that the kernel changed for state-spaces 4.0 and must be recompiled.\n",
      "Falling back on slow Cauchy and Vandermonde kernel. Install at least one of pykeops or the CUDA extension for better speed and memory efficiency.\n"
     ]
    }
   ],
   "source": [
    "import torch\n",
    "import torch.nn as nn\n",
    "import torch.optim as optim\n",
    "\n",
    "from lava.lib.dl.slayer.state_space_models.s4 import S4D\n",
    "import os\n",
    "import matplotlib.pyplot as plt\n",
    "import h5py\n",
    "\n",
    "import torch\n",
    "import torch.nn.functional as F\n",
    "\n",
    "import lava.lib.dl.slayer as slayer\n",
    "import torch\n",
    "\n",
    "# Dropout broke in PyTorch 1.11\n",
    "if tuple(map(int, torch.__version__.split('.')[:2])) == (1, 11):\n",
    "    print(\"WARNING: Dropout is bugged in PyTorch 1.11. Results may be worse.\")\n",
    "    dropout_fn = nn.Dropout\n",
    "if tuple(map(int, torch.__version__.split('.')[:2])) >= (1, 12):\n",
    "    dropout_fn = nn.Dropout1d\n",
    "else:\n",
    "    dropout_fn = nn.Dropout2d\n",
    "\n",
    "random_seed = 4#3\n",
    "import torch\n",
    "torch.manual_seed(random_seed)\n",
    "import random\n",
    "random.seed(random_seed)\n",
    "import numpy as np\n",
    "np.random.seed(random_seed)"
   ]
  },
  {
   "cell_type": "code",
   "execution_count": 2,
   "metadata": {},
   "outputs": [],
   "source": [
    "batch_size = 1 \n",
    "inp_dim = 4\n",
    "actual_inp = inp_dim\n",
    "L = 10 # sequence length\n",
    "dropout = 0\n",
    "inp = torch.rand(batch_size, actual_inp, L)\n",
    "d_state = 1"
   ]
  },
  {
   "cell_type": "code",
   "execution_count": 3,
   "metadata": {},
   "outputs": [],
   "source": [
    "model = S4D(d_model=inp_dim,\n",
    "            d_state=d_state,\n",
    "            dropout=dropout,\n",
    "            transposed=True,\n",
    "            final_act = None,\n",
    "            activation = None,\n",
    "            skip=False,\n",
    "            lr=None,\n",
    "            is_real=True)\n",
    "model.__name__ = \"S4D\"\n",
    "model.setup_step()\n",
    "\n",
    "\n",
    "identity = nn.Identity()\n",
    "identity.__name__ = \"identity\"\n",
    "\n",
    "class Network(torch.nn.Module):\n",
    "    def __init__(self):\n",
    "        super(Network, self).__init__()\n",
    "        \n",
    "        sdnn_params = { # sigma-delta neuron parameters\n",
    "                'threshold'     : 0,    # delta unit threshold\n",
    "                'tau_grad'      : 0.5,    # delta unit surrogate gradient relaxation parameter\n",
    "                'scale_grad'    : 1,      # delta unit surrogate gradient scale parameter\n",
    "                'requires_grad' : False,   # trainable threshold\n",
    "                'shared_param'  : True,   # layer wise threshold\n",
    "               # 'activation'    : model, # activation function\n",
    "            ## 'activation' : F.relu\n",
    "\n",
    "            }\n",
    "        sdnn_S4d_params = { # conv layer has additional mean only batch norm\n",
    "                **sdnn_params,                                 # copy all sdnn_params\n",
    "                'activation' : model, # mean only quantized batch normalizaton\n",
    "            }\n",
    "        sdnn_dense_params = { # dense layers have additional dropout units enabled\n",
    "                **sdnn_params,                        # copy all sdnn_cnn_params\n",
    "                # 'activation' : identity \n",
    "                'activation' : F.relu\n",
    "            }\n",
    "\n",
    "        standard_params ={**sdnn_params, \"activation\" : identity} \n",
    "\n",
    "        input_params ={**sdnn_params, \"activation\": identity}\n",
    "        \n",
    "        self.blocks = torch.nn.ModuleList([# sequential network blocks\n",
    "                slayer.block.sigma_delta.Input(input_params), \n",
    "                # slayer.block.sigma_delta.Dense(standard_params, 3, inp_dim),\n",
    "\n",
    "                slayer.block.sigma_delta.Dense(sdnn_S4d_params, inp_dim, inp_dim),\n",
    "                slayer.block.sigma_delta.Dense(sdnn_dense_params, inp_dim, inp_dim),\n",
    "        ])\n",
    "\n",
    "        self.blocks[1].synapse.weight.data = torch.eye(inp_dim).reshape((inp_dim,inp_dim,1,1,1))\n",
    "        self.blocks[1].synapse.weight.requires_grad = False\n",
    "               \n",
    "        self.blocks[2].synapse.weight.data = torch.eye(inp_dim).reshape((inp_dim,inp_dim,1,1,1))\n",
    "        self.blocks[2].synapse.weight.requires_grad = False\n",
    "\n",
    " \n",
    "  \n",
    "    def forward(self, x):        \n",
    "        for block in self.blocks: \n",
    "            # forward computation is as simple as calling the blocks in a loop\n",
    "            x = block(x)\n",
    "        return x\n",
    "    \n",
    "    def export_hdf5(self, filename):\n",
    "        # network export to hdf5 format\n",
    "        h = h5py.File(filename, 'w')\n",
    "        layer = h.create_group('layer')\n",
    "        for i, b in enumerate(self.blocks):\n",
    "            b.export_hdf5(layer.create_group(f'{i}'))\n",
    "        "
   ]
  },
  {
   "cell_type": "markdown",
   "metadata": {},
   "source": []
  },
  {
   "cell_type": "code",
   "execution_count": 4,
   "metadata": {},
   "outputs": [],
   "source": [
    "# Generate output in different ways\n",
    "import numpy as np\n",
    "\n",
    "np_inp = inp.numpy()\n",
    "diff_inp = np.diff(np.insert(np_inp, 0, 0, axis=2))\n",
    "\n",
    "\n",
    "diff_inp = inp[:,:, 1:] - inp[:, :, :-1]\n",
    "diff_inp = torch.concatenate((inp[:, :, :1], diff_inp), axis=2) \n",
    "\n",
    "\n",
    "#diff_inp = torch.from_numpy(diff_inp)\n",
    "# Lava-dl output\n",
    "net = Network()\n",
    "out_dl = net(inp)\n",
    "\n",
    "# Original Network\n",
    "#out_original = model(inp)\n",
    "\n",
    "# Step output\n",
    "#out_step = torch.zeros_like(out_dl)\n",
    "#state = model.default_state(batch_size)\n",
    "#for t in range(L):\n",
    "    #y, state = model.step(inp[:, :, t], state)\n",
    "    #out_step[0, :, t] = y"
   ]
  },
  {
   "cell_type": "code",
   "execution_count": 5,
   "metadata": {},
   "outputs": [
    {
     "name": "stdout",
     "output_type": "stream",
     "text": [
      "PROC [[64.  0.  0.  0.]\n",
      " [ 0. 64.  0.  0.]\n",
      " [ 0.  0. 64.  0.]\n",
      " [ 0.  0.  0. 64.]]\n",
      "PROC [[64.  0.  0.  0.]\n",
      " [ 0. 64.  0.  0.]\n",
      " [ 0.  0. 64.  0.]\n",
      " [ 0.  0.  0. 64.]]\n",
      "|   Type   |  W  |  H  |  C  | ker | str | pad | dil | grp |delay|\n",
      "|Dense     |    1|    1|    4|     |     |     |     |     |False|\n",
      "|Dense     |    1|    1|    4|     |     |     |     |     |False|\n"
     ]
    }
   ],
   "source": [
    "from lava.lib.dl import netx\n",
    "n_msg_bits = 24\n",
    "if os.path.exists(\"debug.net\"):\n",
    "    os.remove(\"debug.net\")\n",
    "\n",
    "net.export_hdf5(\"debug.net\")\n",
    "loaded_net =  netx.hdf5.Network(net_config='debug.net', input_message_bits=n_msg_bits, sparse_fc_layer=True, skip_layers=1)\n",
    "print(loaded_net)"
   ]
  },
  {
   "cell_type": "code",
   "execution_count": null,
   "metadata": {},
   "outputs": [],
   "source": []
  },
  {
   "cell_type": "code",
   "execution_count": 6,
   "metadata": {},
   "outputs": [],
   "source": [
    "inp_exp = 6\n",
    "lava_inp = diff_inp.detach().numpy().reshape((actual_inp, L)) * 2**inp_exp\n"
   ]
  },
  {
   "cell_type": "code",
   "execution_count": 7,
   "metadata": {},
   "outputs": [],
   "source": [
    "# get output from loaded lava net\n",
    "from lava.proc.io.source import RingBuffer as SourceBuffer\n",
    "from lava.proc.io.sink import RingBuffer as SinkBuffer\n",
    "from lava.magma.core.run_conditions import RunSteps\n",
    "from lava.magma.core.run_configs import Loihi2HwCfg\n",
    "from lava.proc.s4d.ncmodels import NcModelSigmaS4dDelta\n",
    "from lava.proc.s4d.process import SigmaS4dDelta\n",
    "from lava.proc.embedded_io.spike import PyToNxAdapter, NxToPyAdapter\n",
    "\n",
    "# Enable SLURM, the workload manager used to distribute Loihi2 resources to users\n",
    "os.environ['SLURM'] = '1'\n",
    "os.environ['PARTITION'] = \"oheogulch\"\n",
    "os.environ['LOIHI_GEN'] = \"N3B3\"\n",
    "\n",
    "n_steps = L\n",
    "spiker = SourceBuffer(data=lava_inp)\n",
    "adapter_i = PyToNxAdapter(shape=(actual_inp, ), num_message_bits=n_msg_bits)\n",
    "adapter_o = NxToPyAdapter(shape=(inp_dim,), num_message_bits=n_msg_bits)\n",
    "receiver = SinkBuffer(buffer = n_steps+len(loaded_net), shape=(inp_dim,))\n",
    "\n",
    "\n",
    "spiker.s_out.connect(adapter_i.inp)\n",
    "adapter_i.out.connect(loaded_net.inp)\n",
    "loaded_net.out.connect(adapter_o.inp)\n",
    "adapter_o.out.connect(receiver.a_in)\n",
    "\n",
    "run_cfg = Loihi2HwCfg()"
   ]
  },
  {
   "cell_type": "code",
   "execution_count": 8,
   "metadata": {},
   "outputs": [],
   "source": [
    "run_cfg = Loihi2HwCfg()\n",
    " \n",
    "run_cond = RunSteps(num_steps=1)\n",
    "sigmas = np.zeros((inp_dim, L+len(loaded_net)))\n",
    "act_refs = np.zeros((inp_dim, L+len(loaded_net)))\n",
    "\n",
    "sigmas_s4d = np.zeros((inp_dim, L+len(loaded_net)))\n",
    "act_refs_s4d = np.zeros((inp_dim, L+len(loaded_net)))\n",
    "\n",
    "for t in range(L+len(loaded_net)):\n",
    "\n",
    "    loaded_net.run(run_cond, run_cfg)\n",
    "    sigmas[:, t] = loaded_net.layers[-1].neuron.sigma.get()\n",
    "    act_refs[:, t] = loaded_net.layers[-1].neuron.act.get()\n",
    "    sigmas_s4d[:, t] = loaded_net.layers[-2].neuron.sigma.get()\n",
    "    act_refs_s4d[:, t] = loaded_net.layers[-2].neuron.act.get()\n",
    "\n",
    "received_data_lava = receiver.data.get()\n",
    "# loaded_net.stop()\n"
   ]
  },
  {
   "cell_type": "code",
   "execution_count": 9,
   "metadata": {},
   "outputs": [],
   "source": [
    "loaded_net.stop()\n",
    "lava_out = (received_data_lava.astype(np.int32) << 8) >> 8\n",
    "sigmas = (sigmas.astype(np.int32) << 8) >> 8\n",
    "act_refs = (act_refs.astype(np.int32) << 8) >> 8\n",
    "sigmas_s4d = (sigmas_s4d.astype(np.int32) << 8) >> 8\n",
    "act_refs_s4d = (act_refs_s4d.astype(np.int32) << 8) >> 8"
   ]
  },
  {
   "cell_type": "code",
   "execution_count": 10,
   "metadata": {},
   "outputs": [
    {
     "data": {
      "text/plain": [
       "<matplotlib.legend.Legend at 0x7f6123d12370>"
      ]
     },
     "execution_count": 10,
     "metadata": {},
     "output_type": "execute_result"
    },
    {
     "data": {
      "image/png": "[encoded data removed]",
      "text/plain": [
       "<Figure size 1500x500 with 6 Axes>"
      ]
     },
     "metadata": {},
     "output_type": "display_data"
    }
   ],
   "source": [
    "fig, axs = plt.subplots(1, 6, figsize=(15, 5))\n",
    "axs[0].plot(np.cumsum(out_dl[0].detach().numpy(), axis=1)[:, :-len(loaded_net)].T);\n",
    "axs[0].set_title(\"simulation\")\n",
    "\n",
    "axs[1].plot(sigmas[:, len(loaded_net):].T)\n",
    "axs[1].set_title(\"sigma last layer\")\n",
    "axs[2].plot(act_refs[:, len(loaded_net):].T)\n",
    "axs[2].set_title(\"act_ref last layer\")\n",
    "axs[3].plot(np.cumsum(lava_out, axis=1)[:, len(loaded_net):].T / 2**inp_exp);\n",
    "axs[3].set_title(\"hardware_out\")\n",
    "axs[4].plot(lava_out[:, len(loaded_net):].T);\n",
    "axs[4].set_title(\"diff hardware_out\")\n",
    "axs[5].plot(act_refs_s4d[:, len(loaded_net):].T);\n",
    "axs[5].set_title(\"act ref s4d\")\n",
    "fig.legend()\n",
    "\n",
    "#error = np.cumsum(out_dl[0].detach().numpy(), axis=1)[:, :-2].T - np.cumsum(received_data_lava, axis=1)[:, 2:].T.astype(np.int16)* 2**-inp_exp\n",
    "#summed_error = np.sum(error**2)\n",
    "#print(f\"{summed_error=}\")"
   ]
  },
  {
   "cell_type": "code",
   "execution_count": 11,
   "metadata": {
    "scrolled": true
   },
   "outputs": [
    {
     "data": {
      "text/plain": [
       "array([0., 0., 0., 0., 0., 0., 0., 0., 0., 0., 0., 0.])"
      ]
     },
     "execution_count": 11,
     "metadata": {},
     "output_type": "execute_result"
    }
   ],
   "source": [
    "received_data_lava[1]#.astype(np.int32)"
   ]
  },
  {
   "cell_type": "code",
   "execution_count": null,
   "metadata": {},
   "outputs": [],
   "source": []
  },
  {
   "cell_type": "code",
   "execution_count": 12,
   "metadata": {},
   "outputs": [
    {
     "data": {
      "text/plain": [
       "array([0, 0, 0, 0, 0, 0, 0, 0, 0, 0, 0, 0], dtype=int16)"
      ]
     },
     "execution_count": 12,
     "metadata": {},
     "output_type": "execute_result"
    }
   ],
   "source": [
    "act_refs[1].astype(np.int16)"
   ]
  },
  {
   "cell_type": "code",
   "execution_count": 13,
   "metadata": {},
   "outputs": [
    {
     "data": {
      "text/plain": [
       "0"
      ]
     },
     "execution_count": 13,
     "metadata": {},
     "output_type": "execute_result"
    }
   ],
   "source": [
    "act_refs[1][2]#.astype(np.int16)"
   ]
  },
  {
   "cell_type": "code",
   "execution_count": 14,
   "metadata": {},
   "outputs": [
    {
     "name": "stdout",
     "output_type": "stream",
     "text": [
      "[   0 1280  896 3776 1984 2432 3200 3072  832 1152   64 1344]\n",
      "[   0  128  192  576  768  960 1216 1472 1536 1536 1472 1536]\n"
     ]
    }
   ],
   "source": [
    "inp = sigmas_s4d[1].astype(np.int32)\n",
    "print(inp)\n",
    "s4d_out = act_refs_s4d[1]\n",
    "print(s4d_out)"
   ]
  },
  {
   "cell_type": "code",
   "execution_count": 15,
   "metadata": {},
   "outputs": [
    {
     "name": "stdout",
     "output_type": "stream",
     "text": [
      "3909 -264 3282\n"
     ]
    }
   ],
   "source": [
    "a = loaded_net.layers[0].neuron.a.init[1]\n",
    "b = loaded_net.layers[0].neuron.b.init[1]\n",
    "c = loaded_net.layers[0].neuron.c.init[1]\n",
    "print(a, b, c)"
   ]
  },
  {
   "cell_type": "code",
   "execution_count": 16,
   "metadata": {},
   "outputs": [
    {
     "data": {
      "text/plain": [
       "array([   0,  128,  192,  576,  768,  960, 1216, 1472, 1536, 1536, 1472,\n",
       "       1536], dtype=uint32)"
      ]
     },
     "execution_count": 16,
     "metadata": {},
     "output_type": "execute_result"
    }
   ],
   "source": [
    "act_refs_s4d[1].astype(np.uint32)"
   ]
  },
  {
   "cell_type": "code",
   "execution_count": 17,
   "metadata": {},
   "outputs": [
    {
     "data": {
      "text/plain": [
       "16777088"
      ]
     },
     "execution_count": 17,
     "metadata": {},
     "output_type": "execute_result"
    }
   ],
   "source": [
    "2**24 - 128"
   ]
  },
  {
   "cell_type": "code",
   "execution_count": 18,
   "metadata": {},
   "outputs": [
    {
     "data": {
      "text/plain": [
       "1280"
      ]
     },
     "execution_count": 18,
     "metadata": {},
     "output_type": "execute_result"
    }
   ],
   "source": [
    "s4state = 0\n",
    "sigmas_s4d[1][1]\n"
   ]
  },
  {
   "cell_type": "code",
   "execution_count": 19,
   "metadata": {},
   "outputs": [
    {
     "name": "stdout",
     "output_type": "stream",
     "text": [
      "-83\n"
     ]
    }
   ],
   "source": [
    "s4state = (s4state * a) >> 12\n",
    "s4state += (1280 * b) >> 12\n",
    "print(s4state)"
   ]
  },
  {
   "cell_type": "code",
   "execution_count": 20,
   "metadata": {},
   "outputs": [
    {
     "name": "stdout",
     "output_type": "stream",
     "text": [
      "-134 -2 -128\n"
     ]
    }
   ],
   "source": [
    "out = (s4state * c) >> 12\n",
    "out *= 2\n",
    "print(out, (out >> 6) +1 , ((out >> 6) +1) << 6)"
   ]
  },
  {
   "cell_type": "code",
   "execution_count": 21,
   "metadata": {},
   "outputs": [
    {
     "data": {
      "text/plain": [
       "array([    0,     0,  -128,  -192,  -576,  -768,  -960, -1216, -1472,\n",
       "       -1536, -1536, -1536], dtype=int16)"
      ]
     },
     "execution_count": 21,
     "metadata": {},
     "output_type": "execute_result"
    }
   ],
   "source": [
    "sigmas[1].astype(np.int16)"
   ]
  },
  {
   "cell_type": "code",
   "execution_count": null,
   "metadata": {},
   "outputs": [],
   "source": []
  },
  {
   "cell_type": "code",
   "execution_count": 22,
   "metadata": {},
   "outputs": [
    {
     "data": {
      "text/plain": [
       "128"
      ]
     },
     "execution_count": 22,
     "metadata": {},
     "output_type": "execute_result"
    }
   ],
   "source": [
    "2**22 - 4194176"
   ]
  },
  {
   "cell_type": "code",
   "execution_count": null,
   "metadata": {},
   "outputs": [],
   "source": []
  },
  {
   "cell_type": "code",
   "execution_count": 23,
   "metadata": {},
   "outputs": [
    {
     "data": {
      "text/plain": [
       "array([0, 0, 0, 0, 0, 0, 0, 0, 0, 0, 0, 0], dtype=int16)"
      ]
     },
     "execution_count": 23,
     "metadata": {},
     "output_type": "execute_result"
    }
   ],
   "source": [
    "act_refs[1].astype(np.int16)"
   ]
  },
  {
   "cell_type": "code",
   "execution_count": 24,
   "metadata": {},
   "outputs": [
    {
     "data": {
      "text/plain": [
       "-192"
      ]
     },
     "execution_count": 24,
     "metadata": {},
     "output_type": "execute_result"
    }
   ],
   "source": [
    "-192 "
   ]
  },
  {
   "cell_type": "code",
   "execution_count": 25,
   "metadata": {},
   "outputs": [
    {
     "data": {
      "text/plain": [
       "4194176"
      ]
     },
     "execution_count": 25,
     "metadata": {},
     "output_type": "execute_result"
    }
   ],
   "source": [
    "2**22 - 128"
   ]
  },
  {
   "cell_type": "code",
   "execution_count": 26,
   "metadata": {},
   "outputs": [
    {
     "data": {
      "text/plain": [
       "-8320"
      ]
     },
     "execution_count": 26,
     "metadata": {},
     "output_type": "execute_result"
    }
   ],
   "source": [
    "-130 * 64"
   ]
  },
  {
   "cell_type": "code",
   "execution_count": null,
   "metadata": {},
   "outputs": [],
   "source": []
  },
  {
   "cell_type": "code",
   "execution_count": null,
   "metadata": {},
   "outputs": [],
   "source": []
  },
  {
   "cell_type": "code",
   "execution_count": null,
   "metadata": {},
   "outputs": [],
   "source": []
  },
  {
   "cell_type": "code",
   "execution_count": null,
   "metadata": {},
   "outputs": [],
   "source": []
  },
  {
   "cell_type": "code",
   "execution_count": null,
   "metadata": {},
   "outputs": [],
   "source": []
  },
  {
   "cell_type": "code",
   "execution_count": null,
   "metadata": {},
   "outputs": [],
   "source": []
  },
  {
   "cell_type": "code",
   "execution_count": 27,
   "metadata": {},
   "outputs": [],
   "source": [
    "model_dim = 3\n",
    "d_states = 5\n",
    "dense_weight = np.random.randint(0, high=100, size=(model_dim, model_dim))\n",
    "\n",
    "standard_kron = np.kron(np.eye(model_dim), np.ones(d_states))\n",
    "\n",
    "# Expansion\n",
    "inp = np.asarray([1,2,3])\n",
    "# first through dense\n",
    "out1 = np.dot(dense_weight, inp)\n",
    "out2 = np.dot(standard_kron.T, out1)\n",
    "\n",
    "one_matrix = np.dot(standard_kron.T, dense_weight)\n",
    "out3 = np.dot(one_matrix, inp)\n",
    "\n",
    "dense_kron = np.kron(dense_weight.T, np.ones(d_states))"
   ]
  },
  {
   "cell_type": "code",
   "execution_count": 28,
   "metadata": {},
   "outputs": [],
   "source": [
    "# Reduction \n",
    "inp = np.asarray([1,2,3,4,5,6,7,8,9,10,11,12,13,14,15])\n",
    "out1 = np.dot(standard_kron, inp)\n",
    "out2 = np.dot(dense_weight, out1)\n",
    "\n",
    "one_matrix = np.dot(dense_weight, standard_kron)\n",
    "out3 = np.dot(one_matrix, inp)"
   ]
  },
  {
   "cell_type": "code",
   "execution_count": 29,
   "metadata": {},
   "outputs": [],
   "source": [
    "dense_weight = np.random.randint(0, high=100, size=(model_dim, model_dim))\n",
    "dense_kron = np.kron(dense_weight, np.ones(d_states))\n",
    "standard_kron = np.kron(np.eye(model_dim), np.ones(d_states))"
   ]
  },
  {
   "cell_type": "code",
   "execution_count": null,
   "metadata": {},
   "outputs": [],
   "source": []
  }
 ],
 "metadata": {
  "kernelspec": {
   "display_name": "Python 3 (ipykernel)",
   "language": "python",
   "name": "python3"
  },
  "language_info": {
   "codemirror_mode": {
    "name": "ipython",
    "version": 3
   },
   "file_extension": ".py",
   "mimetype": "text/x-python",
   "name": "python",
   "nbconvert_exporter": "python",
   "pygments_lexer": "ipython3",
   "version": "3.9.18"
  }
 },
 "nbformat": 4,
 "nbformat_minor": 4
}
