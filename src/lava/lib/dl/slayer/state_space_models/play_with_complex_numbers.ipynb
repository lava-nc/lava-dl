{
 "cells": [
  {
   "cell_type": "code",
   "execution_count": 1,
   "metadata": {},
   "outputs": [
    {
     "name": "stderr",
     "output_type": "stream",
     "text": [
      "CUDA extension for structured kernels (Cauchy and Vandermonde multiplication) not found. Install by going to extensions/kernels/ and running `python setup.py install`, for improved speed and memory efficiency. Note that the kernel changed for state-spaces 4.0 and must be recompiled.\n",
      "Falling back on slow Cauchy and Vandermonde kernel. Install at least one of pykeops or the CUDA extension for better speed and memory efficiency.\n",
      "CUDA extension for structured kernels (Cauchy and Vandermonde multiplication) not found. Install by going to extensions/kernels/ and running `python setup.py install`, for improved speed and memory efficiency. Note that the kernel changed for state-spaces 4.0 and must be recompiled.\n",
      "Falling back on slow Cauchy and Vandermonde kernel. Install at least one of pykeops or the CUDA extension for better speed and memory efficiency.\n"
     ]
    },
    {
     "data": {
      "text/plain": [
       "<torch._C.Generator at 0x7fc250fef3b0>"
      ]
     },
     "execution_count": 1,
     "metadata": {},
     "output_type": "execute_result"
    }
   ],
   "source": [
    "from s4 import S4D \n",
    "\n",
    "import os\n",
    "from lava.utils.system import Loihi2\n",
    "loihi2_is_available = Loihi2.is_loihi2_available\n",
    "if loihi2_is_available:\n",
    "    # Enable SLURM, the workload manager used to distribute Loihi2 resources to users\n",
    "    os.environ['SLURM'] = '1'\n",
    "    os.environ['PARTITION'] = \"kp\"\n",
    "    os.environ['LOIHI_GEN'] = \"N3B3\"\n",
    "import numpy as np\n",
    "from lava.proc.sdn.process import SigmaDelta, Sigma\n",
    "from lava.proc.io.source import RingBuffer as SourceBuffer\n",
    "from lava.proc.io.sink import RingBuffer as SinkBuffer\n",
    "from lava.proc.embedded_io.spike import PyToNxAdapter, NxToPyAdapter\n",
    "import matplotlib.pyplot as plt\n",
    "from src.lava.lib.dl.slayer.state_space_models.s4 import S4D\n",
    "import torch\n",
    "from lava.magma.core.run_conditions import RunSteps\n",
    "from lava.magma.core.run_configs import Loihi2HwCfg, Loihi2SimCfg\n",
    "from lava.proc.dense.process import Dense\n",
    "from lava.proc.sdn.process import ActivationMode\n",
    "from lava.proc.s4d.process import SigmaS4dDelta, S4d\n",
    "from lava.proc.sparse.process import Sparse\n",
    "from lava.proc.spike_integrator.process import SpikeIntegrator\n",
    "import random\n",
    "\n",
    "# S4d\n",
    "random.seed(3)\n",
    "np.random.seed(3)\n",
    "torch.manual_seed(3)"
   ]
  },
  {
   "cell_type": "code",
   "execution_count": 2,
   "metadata": {},
   "outputs": [],
   "source": [
    "a = np.asarray([[0.99865896-0.00231656j]])\n",
    "b = np.asarray([[-0.00189652-0.00327611j]])\n",
    "c = np.asarray([[-0.7157404+0.3278269j]])"
   ]
  },
  {
   "cell_type": "code",
   "execution_count": 3,
   "metadata": {},
   "outputs": [
    {
     "name": "stdout",
     "output_type": "stream",
     "text": [
      "B=tensor([[-0.7071-1.2247j],\n",
      "        [-0.7071-1.2247j]])\n"
     ]
    }
   ],
   "source": [
    "model_dim = 2\n",
    "d_states = 2\n",
    "\n",
    "model = S4D(d_model=model_dim,\n",
    "            d_state=d_states,\n",
    "            dropout=False,\n",
    "            transposed=True,\n",
    "            quantize = True,\n",
    "            lr=None,\n",
    "            skip=False,\n",
    "            activation=None,\n",
    "            s4d_exp = 12,\n",
    "            is_real=False)\n",
    "model = model.to('cpu')\n",
    "model.eval()\n",
    "\n",
    "model.setup_step()\n",
    "\n",
    "n_steps = 20 # sequence length\n",
    "inp_exp = 13\n",
    "inp = (torch.rand(1, model_dim, n_steps) * 2** inp_exp).int().float()\n",
    "\n",
    "def example_run(on_chip=True):\n",
    "    # Test just sigma-delta on chip\n",
    "    state_exp = 6\n",
    "    numpy_inp = np.asarray(inp)[0]\n",
    "\n",
    "   \n",
    "    A = model.layer.kernel.dA.detach().numpy()\n",
    "    B = model.layer.kernel.dB.detach().numpy()\n",
    "    C = model.layer.kernel.dC.detach().numpy()\n",
    "    print(A)\n",
    "    print(B)\n",
    "    print(C)\n",
    " \n",
    "\n",
    "    kron_matrix = np.kron(np.eye(model_dim), np.ones((1, )))\n",
    "\n",
    "    spiker = SourceBuffer(data=numpy_inp)\n",
    "    dense_1 = Sparse(weights=kron_matrix.T, weight_exp=6, num_message_bits=24)\n",
    "    neuron = S4d(shape=((model_dim * 1,)), s4_exp = 12,               # hard coded to shift by 6!!!\n",
    "                        a=A.flatten().reshape((model_dim * 1,)),\n",
    "                        b=B.flatten().reshape((model_dim * 1,)),\n",
    "                        c=C.flatten().reshape((model_dim * 1,)))\n",
    "    relay = SpikeIntegrator(shape=(model_dim,), q_scale=1/2**6, q_exp=6)\n",
    "    dense_2 = Sparse(weights=kron_matrix, num_message_bits=24, weight_exp=6)\n",
    "    inp_adapter = PyToNxAdapter(shape=(model_dim,), num_message_bits=24)\n",
    "    out_adapter = NxToPyAdapter(shape=(model_dim,), num_message_bits=24)\n",
    "    receiver = SinkBuffer(buffer=n_steps, shape=(model_dim,))\n",
    "\n",
    "    if on_chip: \n",
    "        spiker.s_out.connect(inp_adapter.inp)\n",
    "        inp_adapter.out.connect(dense_1.s_in)\n",
    "        dense_1.a_out.connect(neuron.a_in)\n",
    "        neuron.s_out.connect(dense_2.s_in)\n",
    "        dense_2.a_out.connect(relay.a_in)\n",
    "        relay.s_out.connect(out_adapter.inp)\n",
    "        out_adapter.out.connect(receiver.a_in)\n",
    "        run_cfg = Loihi2HwCfg()\n",
    "    else:\n",
    "    # Connected input -> Dense -> Delta -> neuron -> Dense -> Sigma -> Dense -> Output\n",
    "        spiker.s_out.connect(dense_1.s_in)\n",
    "        dense_1.a_out.connect(neuron.a_in)\n",
    "        neuron.s_out.connect(dense_2.s_in)\n",
    "        dense_2.a_out.connect(receiver.a_in)\n",
    "        run_cfg = Loihi2SimCfg()\n",
    "\n",
    "    neuron.run(\n",
    "                condition=RunSteps(num_steps=n_steps), run_cfg=run_cfg\n",
    "            )\n",
    "    received_data_hw = receiver.data.get()\n",
    "    received_data_hw = received_data_hw.T\n",
    "    neuron.stop()\n",
    "         \n",
    "    return received_data_hw"
   ]
  },
  {
   "cell_type": "code",
   "execution_count": null,
   "metadata": {},
   "outputs": [],
   "source": []
  },
  {
   "cell_type": "code",
   "execution_count": 4,
   "metadata": {},
   "outputs": [
    {
     "name": "stdout",
     "output_type": "stream",
     "text": [
      "[[0.9953613-0.00708008j]\n",
      " [0.9992676-0.00097656j]]\n",
      "[[-0.00878906+0.j]\n",
      " [-0.0012207 +0.j]]\n",
      "[[[ 0.5390625 -1.0568848j ]\n",
      "  [-0.36572266+0.29589844j]]]\n",
      "[[0.9953613-0.00708008j]\n",
      " [0.9992676-0.00097656j]]\n",
      "[[-0.00878906+0.j]\n",
      " [-0.0012207 +0.j]]\n",
      "[[[ 0.5390625 -1.0568848j ]\n",
      "  [-0.36572266+0.29589844j]]]\n"
     ]
    },
    {
     "name": "stdout",
     "output_type": "stream",
     "text": [
      "Partitioning converged after iteration=1\n",
      "Per core utilization:\n",
      "-------------------------------------------------------------------------\n",
      "| AxonIn |NeuronGr| Neurons|Synapses| AxonMap| AxonMem|  Total |  Cores |\n",
      "|-----------------------------------------------------------------------|\n",
      "|   0.01%|  12.50%|   0.05%|   0.01%|   0.01%|   0.00%|   0.04%|       1|\n",
      "|   0.01%|  12.50%|   0.15%|   0.01%|   0.01%|   0.00%|   0.07%|       1|\n",
      "|-----------------------------------------------------------------------|\n",
      "| Total                                                        |       2|\n",
      "-------------------------------------------------------------------------\n"
     ]
    },
    {
     "data": {
      "text/plain": [
       "[<matplotlib.lines.Line2D at 0x7fc2edcdfbb0>,\n",
       " <matplotlib.lines.Line2D at 0x7fc2edcdfc10>]"
      ]
     },
     "execution_count": 4,
     "metadata": {},
     "output_type": "execute_result"
    },
    {
     "data": {
      "image/png": "[encoded data removed]",
      "text/plain": [
       "<Figure size 640x480 with 3 Axes>"
      ]
     },
     "metadata": {},
     "output_type": "display_data"
    }
   ],
   "source": [
    "out_sim = example_run(on_chip=False)\n",
    "out_hw = example_run(on_chip=True)\n",
    "out_conv_mode = model(inp)[0].detach().numpy().T\n",
    "fix, ax =  plt.subplots(3, 1)\n",
    "ax[0].plot(out_sim[2:])\n",
    "ax[1].plot(out_conv_mode[:-2])\n",
    "ax[2].plot(out_hw[2:])\n"
   ]
  },
  {
   "cell_type": "code",
   "execution_count": 5,
   "metadata": {},
   "outputs": [
    {
     "data": {
      "text/plain": [
       "51200"
      ]
     },
     "execution_count": 5,
     "metadata": {},
     "output_type": "execute_result"
    }
   ],
   "source": [
    "2**6 * 800"
   ]
  },
  {
   "cell_type": "code",
   "execution_count": 6,
   "metadata": {},
   "outputs": [
    {
     "name": "stdout",
     "output_type": "stream",
     "text": [
      "[[   0.    0.]\n",
      " [   0.    0.]\n",
      " [  -4.    0.]\n",
      " [ -39.    2.]\n",
      " [ -52.    4.]\n",
      " [-125.    5.]\n",
      " [-188.    6.]\n",
      " [-253.   10.]\n",
      " [-298.   14.]\n",
      " [-309.   18.]\n",
      " [-377.   21.]\n",
      " [-371.   22.]\n",
      " [-378.   27.]\n",
      " [-385.   30.]\n",
      " [-400.   31.]\n",
      " [-438.   34.]\n",
      " [-439.   37.]\n",
      " [-439.   44.]\n",
      " [-450.   50.]\n",
      " [-503.   52.]]\n",
      "[[ 0.00000000e+00  0.00000000e+00]\n",
      " [ 0.00000000e+00  0.00000000e+00]\n",
      " [-4.19773865e+00  4.86618280e-01]\n",
      " [-3.97770864e+01  2.34306275e+00]\n",
      " [-5.26654692e+01  5.03509199e+00]\n",
      " [-1.25353055e+02  5.05867212e+00]\n",
      " [-1.88778849e+02  6.99564506e+00]\n",
      " [-2.53131386e+02  1.07118445e+01]\n",
      " [-2.98658870e+02  1.49554228e+01]\n",
      " [-3.09632558e+02  1.80648189e+01]\n",
      " [-3.77344325e+02  2.12792810e+01]\n",
      " [-3.70979696e+02  2.25244899e+01]\n",
      " [-3.77733837e+02  2.80205452e+01]\n",
      " [-3.84799673e+02  3.07536697e+01]\n",
      " [-3.99796870e+02  3.18629087e+01]\n",
      " [-4.38239278e+02  3.45900902e+01]\n",
      " [-4.38730910e+02  3.76827206e+01]\n",
      " [-4.38597404e+02  4.46635339e+01]\n",
      " [-4.49693802e+02  5.01577326e+01]\n",
      " [-5.02711381e+02  5.22612754e+01]]\n"
     ]
    }
   ],
   "source": [
    "print(out_hw)\n",
    "print(out_sim)"
   ]
  },
  {
   "cell_type": "code",
   "execution_count": 7,
   "metadata": {},
   "outputs": [
    {
     "data": {
      "text/plain": [
       "[<matplotlib.lines.Line2D at 0x7fc2ed3ec2e0>,\n",
       " <matplotlib.lines.Line2D at 0x7fc2ed3ec340>]"
      ]
     },
     "execution_count": 7,
     "metadata": {},
     "output_type": "execute_result"
    },
    {
     "data": {
      "image/png": "[encoded data removed]",
      "text/plain": [
       "<Figure size 640x480 with 1 Axes>"
      ]
     },
     "metadata": {},
     "output_type": "display_data"
    }
   ],
   "source": [
    "plt.plot(out_hw)"
   ]
  },
  {
   "cell_type": "markdown",
   "metadata": {},
   "source": [
    "torch.set_printoptions(precision=32)\n",
    "out = model(inp)[0].detach().numpy().T\n",
    "out_hw = example_run()\n",
    "print(out[:-2])\n",
    "print(out_hw[2:])\n",
    "print(out[:-2] - out_hw[2:])\n",
    "\n",
    "# complex example number torch\n",
    "state = model.default_state(1)\n",
    "\n",
    "for t in range(1000):\n",
    "    out, state = model.step(inp[:, :, t], state)\n",
    "    print(out.detach())\n",
    "#out[:-2]\n",
    "#out_hw[2:]"
   ]
  },
  {
   "cell_type": "code",
   "execution_count": null,
   "metadata": {},
   "outputs": [],
   "source": [
    "\n"
   ]
  }
 ],
 "metadata": {
  "kernelspec": {
   "display_name": ".lava_dev",
   "language": "python",
   "name": "python3"
  },
  "language_info": {
   "codemirror_mode": {
    "name": "ipython",
    "version": 3
   },
   "file_extension": ".py",
   "mimetype": "text/x-python",
   "name": "python",
   "nbconvert_exporter": "python",
   "pygments_lexer": "ipython3",
   "version": "3.8.10"
  }
 },
 "nbformat": 4,
 "nbformat_minor": 2
}
